{
 "cells": [
  {
   "attachments": {},
   "cell_type": "markdown",
   "metadata": {},
   "source": [
    "## Overview\n",
    "\n",
    "This file is for Breath-First-Search algorithm, AKA (BFS) for short. We use BFS when we are asked about if there is a path or shortest path to a destination.\n",
    "\n",
    "Written By Ayo"
   ]
  },
  {
   "cell_type": "code",
   "execution_count": 1,
   "metadata": {},
   "outputs": [],
   "source": [
    "import collections\n",
    "\n",
    "def bfs(root):\n",
    "\n",
    "    q = collections.deque()\n",
    "    s = set()\n",
    "\n",
    "    if not root:\n",
    "        return False\n",
    "\n",
    "    q.append((root))\n",
    "    s.add((root))\n",
    "\n",
    "    while q:\n",
    "        node = q.popleft()\n",
    "\n",
    "        if node.val == target:\n",
    "            return True\n",
    "\n",
    "        if node.left:\n",
    "            q.append(node.left)\n",
    "        if node.right:\n",
    "            q.append(node.right)\n",
    "        \n",
    "\n",
    "    return False"
   ]
  },
  {
   "attachments": {},
   "cell_type": "markdown",
   "metadata": {},
   "source": [
    "## Step by step on how BFS works\n",
    "\n",
    "BFS uses a deque and a set. The reason we want a deque is because we want to have a FIFO, First in First out, because when we populate the deque with the valid children of the node we are at. The reason we don't have a set is because we are not going back up. We are always going deeper within the tree therefore we will never see any duplicates of Tree-like-nodes twice."
   ]
  },
  {
   "cell_type": "code",
   "execution_count": 23,
   "metadata": {},
   "outputs": [
    {
     "name": "stdout",
     "output_type": "stream",
     "text": [
      "deque([])\n",
      "0\n"
     ]
    },
    {
     "data": {
      "text/plain": [
       "'Intitalize the deque and set to be empty'"
      ]
     },
     "execution_count": 23,
     "metadata": {},
     "output_type": "execute_result"
    }
   ],
   "source": [
    "import collections\n",
    "\n",
    "class TreeNode:\n",
    "    def __init__(self, val=0, left=None, right=None):\n",
    "        self.val = val\n",
    "        self.left = left\n",
    "        self.right = right\n",
    "    def __repr__(self):\n",
    "        return (f\"{self.val}\")\n",
    "\n",
    "def bfs(root: TreeNode, target: int):\n",
    "\n",
    "    q = collections.deque()\n",
    "\n",
    "    print(q)\n",
    "    print(root.val)\n",
    "\n",
    "    return \"Intitalize the deque and set to be empty\"\n",
    "\n",
    "bfs(TreeNode(),5)"
   ]
  },
  {
   "attachments": {},
   "cell_type": "markdown",
   "metadata": {},
   "source": [
    "First thing you want to do is to check if there is a root. If there is not a root we can automatically return False. If there is a root we can return True if it follows the rules of the problem. I have a failed example and a passing example of the situation above."
   ]
  },
  {
   "attachments": {},
   "cell_type": "markdown",
   "metadata": {},
   "source": [
    "#### False Example:"
   ]
  },
  {
   "cell_type": "code",
   "execution_count": 24,
   "metadata": {},
   "outputs": [
    {
     "data": {
      "text/plain": [
       "False"
      ]
     },
     "execution_count": 24,
     "metadata": {},
     "output_type": "execute_result"
    }
   ],
   "source": [
    "import collections\n",
    "\n",
    "class TreeNode:\n",
    "    def __init__(self, val=0, left=None, right=None):\n",
    "        self.val = val\n",
    "        self.left = left\n",
    "        self.right = right\n",
    "    def __repr__(self):\n",
    "        return (f\"{self.val}\")\n",
    "\n",
    "def bfs(root: TreeNode, target: int):\n",
    "\n",
    "    q = collections.deque()\n",
    "    s = set()\n",
    "\n",
    "    # This works\n",
    "    if not root:\n",
    "        return False\n",
    "    \n",
    "    # or you can say\n",
    "    if not isinstance(root, TreeNode):\n",
    "        return False\n",
    "\n",
    "    # either way will work\n",
    "    return True\n",
    "\n",
    "bfs(None,5)"
   ]
  },
  {
   "attachments": {},
   "cell_type": "markdown",
   "metadata": {},
   "source": [
    "#### True Example:"
   ]
  },
  {
   "cell_type": "code",
   "execution_count": 25,
   "metadata": {},
   "outputs": [
    {
     "data": {
      "text/plain": [
       "True"
      ]
     },
     "execution_count": 25,
     "metadata": {},
     "output_type": "execute_result"
    }
   ],
   "source": [
    "import collections\n",
    "\n",
    "class TreeNode:\n",
    "    def __init__(self, val=0, left=None, right=None):\n",
    "        self.val = val\n",
    "        self.left = left\n",
    "        self.right = right\n",
    "    def __repr__(self):\n",
    "        return (f\"{self.val}\")\n",
    "\n",
    "def bfs(root: TreeNode, target: int):\n",
    "\n",
    "    q = collections.deque()\n",
    "    s = set()\n",
    "\n",
    "    if not root:\n",
    "        return False\n",
    "    return True\n",
    "\n",
    "bfs(TreeNode(),5)"
   ]
  },
  {
   "attachments": {},
   "cell_type": "markdown",
   "metadata": {},
   "source": [
    "After we check if the root is an instance of Tree-like-structure we then want to append the root to the q and add the root into the set."
   ]
  },
  {
   "cell_type": "code",
   "execution_count": 27,
   "metadata": {},
   "outputs": [
    {
     "data": {
      "text/plain": [
       "deque([0])"
      ]
     },
     "execution_count": 27,
     "metadata": {},
     "output_type": "execute_result"
    }
   ],
   "source": [
    "import collections\n",
    "\n",
    "class TreeNode:\n",
    "    def __init__(self, val=0, left=None, right=None):\n",
    "        self.val = val\n",
    "        self.left = left\n",
    "        self.right = right\n",
    "    def __repr__(self):\n",
    "        return (f\"{self.val}\")\n",
    "\n",
    "def bfs(root: TreeNode, target: int):\n",
    "\n",
    "    q = collections.deque()\n",
    "\n",
    "    if not root:\n",
    "        return False\n",
    "    \n",
    "    q.append(root)\n",
    "    return q\n",
    "\n",
    "bfs(TreeNode(),5)"
   ]
  },
  {
   "attachments": {},
   "cell_type": "markdown",
   "metadata": {},
   "source": [
    "Now we can see the deque has root 0 inside and the set also has 0 inside it. The next step is to add a while loop and pop the 0th index of the deque to get the current node."
   ]
  },
  {
   "cell_type": "code",
   "execution_count": 29,
   "metadata": {},
   "outputs": [
    {
     "name": "stdout",
     "output_type": "stream",
     "text": [
      "0\n"
     ]
    },
    {
     "data": {
      "text/plain": [
       "'the node should equal the value of the root right now since we have not done anything in the loop. Root: 0 == Node: 0'"
      ]
     },
     "execution_count": 29,
     "metadata": {},
     "output_type": "execute_result"
    }
   ],
   "source": [
    "import collections\n",
    "\n",
    "class TreeNode:\n",
    "    def __init__(self, val=0, left=None, right=None):\n",
    "        self.val = val\n",
    "        self.left = left\n",
    "        self.right = right\n",
    "    def __repr__(self):\n",
    "        return (f\"{self.val}\")\n",
    "\n",
    "def bfs(root: TreeNode, target: int):\n",
    "\n",
    "    q = collections.deque()\n",
    "    s = set()\n",
    "\n",
    "    if not root:\n",
    "        return False\n",
    "    \n",
    "    q.append(root)\n",
    "\n",
    "    # we do while q because if the q is empty we should break out of the loop.\n",
    "    # if we break out of the loop that means we have exhaused every valid node in the tree.\n",
    "    while q:\n",
    "        node = q.popleft()\n",
    "        print(node)\n",
    "    return (f\"the node should equal the value of the root right now since we have not done anything in the loop. Root: {root} == Node: {node}\")\n",
    "bfs(TreeNode(),5)"
   ]
  },
  {
   "attachments": {},
   "cell_type": "markdown",
   "metadata": {},
   "source": [
    "After we pop the 0th index from the deque, we want to check if the children. Before we add the children, we need to check if they exist. If they do exist **AND** they satisfy the rule of the problem."
   ]
  },
  {
   "cell_type": "code",
   "execution_count": 30,
   "metadata": {},
   "outputs": [
    {
     "data": {
      "text/plain": [
       "(0, deque([1, 2]))"
      ]
     },
     "execution_count": 30,
     "metadata": {},
     "output_type": "execute_result"
    }
   ],
   "source": [
    "import collections\n",
    "\n",
    "class TreeNode:\n",
    "    def __init__(self, val=0, left=None, right=None):\n",
    "        self.val = val\n",
    "        self.left = left\n",
    "        self.right = right\n",
    "    def __repr__(self):\n",
    "        return (f\"{self.val}\")\n",
    "\n",
    "def bfs(root: TreeNode, target: int):\n",
    "\n",
    "    q = collections.deque()\n",
    "\n",
    "    if not root:\n",
    "        return False\n",
    "    \n",
    "    q.append(root)\n",
    "\n",
    "    # we do while q because if the q is empty we should break out of the loop.\n",
    "    # if we break out of the loop that means we have exhaused every valid node in the tree.\n",
    "    while q:\n",
    "        node = q.popleft()\n",
    "        if node.left:\n",
    "            q.append(node.left)\n",
    "        if node.right:\n",
    "            q.append(node.right)\n",
    "        return node,q\n",
    "bfs(TreeNode(0,TreeNode(1),TreeNode(2)),5)"
   ]
  },
  {
   "attachments": {},
   "cell_type": "markdown",
   "metadata": {},
   "source": [
    "We can see that when we only do 1 loop we see that node is still the root but the q has been repopulated with the children of the root. If we let it run we will see that it will grab the children children of the root."
   ]
  },
  {
   "cell_type": "code",
   "execution_count": 31,
   "metadata": {},
   "outputs": [
    {
     "name": "stdout",
     "output_type": "stream",
     "text": [
      "0 deque([1, 2])\n",
      "1 deque([2])\n",
      "2 deque([])\n"
     ]
    }
   ],
   "source": [
    "import collections\n",
    "\n",
    "class TreeNode:\n",
    "    def __init__(self, val=0, left=None, right=None):\n",
    "        self.val = val\n",
    "        self.left = left\n",
    "        self.right = right\n",
    "    def __repr__(self):\n",
    "        return (f\"{self.val}\")\n",
    "\n",
    "def bfs(root: TreeNode, target: int):\n",
    "\n",
    "    q = collections.deque()\n",
    "\n",
    "    if not root:\n",
    "        return False\n",
    "    \n",
    "    q.append(root)\n",
    "\n",
    "    # we do while q because if the q is empty we should break out of the loop.\n",
    "    # if we break out of the loop that means we have exhaused every valid node in the tree.\n",
    "    while q:\n",
    "        node = q.popleft()\n",
    "        if node.left:\n",
    "            q.append(node.left)\n",
    "        if node.right:\n",
    "            q.append(node.right)\n",
    "        print(node,q)\n",
    "    return\n",
    "bfs(TreeNode(0,TreeNode(1),TreeNode(2)),5)"
   ]
  },
  {
   "attachments": {},
   "cell_type": "markdown",
   "metadata": {},
   "source": [
    "Now let's say we are trying to find if a node with a value of 5 is in the tree. We would know to end the while loop if the deque is empty **OR** if we find the target node.\n",
    "In the example below we find the target node so we would return True that the target value node exist.\n",
    "Now if the target node did not exist we would return False"
   ]
  },
  {
   "attachments": {},
   "cell_type": "markdown",
   "metadata": {},
   "source": [
    "#### Target Node exist in the tree"
   ]
  },
  {
   "cell_type": "code",
   "execution_count": 33,
   "metadata": {},
   "outputs": [
    {
     "name": "stdout",
     "output_type": "stream",
     "text": [
      "0 deque([1, 2])\n",
      "1 deque([2])\n",
      "2 deque([4])\n",
      "4 deque([5])\n"
     ]
    },
    {
     "data": {
      "text/plain": [
       "True"
      ]
     },
     "execution_count": 33,
     "metadata": {},
     "output_type": "execute_result"
    }
   ],
   "source": [
    "import collections\n",
    "\n",
    "class TreeNode:\n",
    "    def __init__(self, val=0, left=None, right=None):\n",
    "        self.val = val\n",
    "        self.left = left\n",
    "        self.right = right\n",
    "    def __repr__(self):\n",
    "        return (f\"{self.val}\")\n",
    "\n",
    "def bfs(root: TreeNode, target: int):\n",
    "\n",
    "    q = collections.deque()\n",
    "\n",
    "    if not root:\n",
    "        return False\n",
    "    \n",
    "    q.append(root)\n",
    "\n",
    "    # we do while q because if the q is empty we should break out of the loop.\n",
    "    # if we break out of the loop that means we have exhaused every valid node in the tree.\n",
    "    while q:\n",
    "        node = q.popleft()\n",
    "        if node.val == target:\n",
    "            return True\n",
    "        if node.left:\n",
    "            q.append(node.left)\n",
    "        if node.right:\n",
    "            q.append(node.right)\n",
    "        print(node,q)\n",
    "    return\n",
    "bfs(TreeNode(0,TreeNode(1),TreeNode(2,None,TreeNode(4,None,TreeNode(5)))),5)"
   ]
  },
  {
   "attachments": {},
   "cell_type": "markdown",
   "metadata": {},
   "source": [
    "#### Target Node does not exist"
   ]
  },
  {
   "cell_type": "code",
   "execution_count": 35,
   "metadata": {},
   "outputs": [
    {
     "name": "stdout",
     "output_type": "stream",
     "text": [
      "0 deque([1, 2])\n",
      "1 deque([2])\n",
      "2 deque([6])\n",
      "6 deque([4])\n",
      "4 deque([])\n"
     ]
    },
    {
     "data": {
      "text/plain": [
       "False"
      ]
     },
     "execution_count": 35,
     "metadata": {},
     "output_type": "execute_result"
    }
   ],
   "source": [
    "import collections\n",
    "\n",
    "class TreeNode:\n",
    "    def __init__(self, val=0, left=None, right=None):\n",
    "        self.val = val\n",
    "        self.left = left\n",
    "        self.right = right\n",
    "    def __repr__(self):\n",
    "        return (f\"{self.val}\")\n",
    "\n",
    "def bfs(root: TreeNode, target: int):\n",
    "\n",
    "    q = collections.deque()\n",
    "\n",
    "    if not root:\n",
    "        return False\n",
    "    \n",
    "    q.append(root)\n",
    "\n",
    "    # we do while q because if the q is empty we should break out of the loop.\n",
    "    # if we break out of the loop that means we have exhaused every valid node in the tree.\n",
    "    while q:\n",
    "        node = q.popleft()\n",
    "        if node.val == target:\n",
    "            return True\n",
    "        if node.left:\n",
    "            q.append(node.left)\n",
    "        if node.right:\n",
    "            q.append(node.right)\n",
    "        print(node,q)\n",
    "    \n",
    "    return False\n",
    "bfs(TreeNode(0,TreeNode(1),TreeNode(2,None,TreeNode(6,TreeNode(4),None))),5)"
   ]
  },
  {
   "attachments": {},
   "cell_type": "markdown",
   "metadata": {},
   "source": [
    "Now to tie this all together I will make a big tree and show you what the current node and q is through every loop of the funciton."
   ]
  },
  {
   "cell_type": "code",
   "execution_count": 4,
   "metadata": {},
   "outputs": [
    {
     "name": "stdout",
     "output_type": "stream",
     "text": [
      "Current node: 10, the q: deque([3, 6])\n",
      "Current node: 3, the q: deque([6, 2])\n",
      "Current node: 6, the q: deque([2, 8])\n",
      "Current node: 2, the q: deque([8, 1, 4])\n",
      "Current node: 8, the q: deque([1, 4, 7])\n",
      "Current node: 1, the q: deque([4, 7])\n",
      "Current node: 4, the q: deque([7, 5])\n",
      "Current node: 7, the q: deque([5, 9])\n"
     ]
    },
    {
     "data": {
      "text/plain": [
       "True"
      ]
     },
     "execution_count": 4,
     "metadata": {},
     "output_type": "execute_result"
    }
   ],
   "source": [
    "import collections\n",
    "\n",
    "class TreeNode:\n",
    "    def __init__(self, val=0, left=None, right=None):\n",
    "        self.val = val\n",
    "        self.left = left\n",
    "        self.right = right\n",
    "    def __repr__(self):\n",
    "        return (f\"{self.val}\")\n",
    "\n",
    "def bfs(root: TreeNode, target: int):\n",
    "\n",
    "    q = collections.deque()\n",
    "\n",
    "    if not root:\n",
    "        return False\n",
    "    \n",
    "    q.append(root)\n",
    "\n",
    "    # we do while q because if the q is empty we should break out of the loop.\n",
    "    # if we break out of the loop that means we have exhaused every valid node in the tree.\n",
    "    while q:\n",
    "        node = q.popleft()\n",
    "        if node.val == target:\n",
    "            return True\n",
    "        if node.left:\n",
    "            q.append(node.left)\n",
    "        if node.right:\n",
    "            q.append(node.right)\n",
    "        print(f\"Current node: {node}, the q: {q}\")\n",
    "    \n",
    "    return False\n",
    "bfs(TreeNode(10,TreeNode(3,TreeNode(2,TreeNode(1),TreeNode(4,None,TreeNode(5))),None),TreeNode(6,None,TreeNode(8,TreeNode(7,None, TreeNode(9)),None))),5)"
   ]
  },
  {
   "attachments": {},
   "cell_type": "markdown",
   "metadata": {},
   "source": []
  }
 ],
 "metadata": {
  "kernelspec": {
   "display_name": "Python 3",
   "language": "python",
   "name": "python3"
  },
  "language_info": {
   "codemirror_mode": {
    "name": "ipython",
    "version": 3
   },
   "file_extension": ".py",
   "mimetype": "text/x-python",
   "name": "python",
   "nbconvert_exporter": "python",
   "pygments_lexer": "ipython3",
   "version": "3.10.7"
  },
  "orig_nbformat": 4,
  "vscode": {
   "interpreter": {
    "hash": "b2b9ef2b1114e8061e5fccaef92ea3e4573cb8e24e318e0219d950c1554f574c"
   }
  }
 },
 "nbformat": 4,
 "nbformat_minor": 2
}
