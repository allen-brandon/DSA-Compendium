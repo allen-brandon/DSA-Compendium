{
 "cells": [
  {
   "attachments": {},
   "cell_type": "markdown",
   "metadata": {},
   "source": [
    "# Overview\n",
    "Khan's algorigthm is a special type of topoligical sort. Instead of doing a bfs or dfs we can instead keep track of how many edges a point has going to it. Once you have that you can do a bfs/dfs.\n",
    "\n",
    "We will be using [Leetcode problem 207](https://leetcode.com/problems/course-schedule/description/). This shows a good example of khans algorithm.\n",
    "\n",
    "Written by Ayo"
   ]
  },
  {
   "cell_type": "code",
   "execution_count": null,
   "metadata": {},
   "outputs": [],
   "source": [
    "from collections import defaultdict, deque\n",
    "class Solution:\n",
    "    def canFinish(self, numCourses: int, prerequisites: List[List[int]]) -> bool:\n",
    "        # Here we check how many edges are pointing at the node aka in-edges\n",
    "        inedges = [0] * numCourses\n",
    "        for pre in prerequisites:\n",
    "            inedges[pre[0]] += 1\n",
    "        \n",
    "        # Here we make the adj matrix\n",
    "        graph = defaultdict(list)\n",
    "        for pre,must in prerequisites:\n",
    "            graph[must].append(pre)\n",
    "        \n",
    "        # Here we add all nodes with 0 in-edges\n",
    "        q = deque()\n",
    "        for i in range(numCourses):\n",
    "            if inedges[i] == 0:\n",
    "                q.append(i)\n",
    "\n",
    "        # We do the bfs and when we see a course in too take we subtract it from the total amount of edges for the in-edges the node has.\n",
    "        # Once there are no more in-edges for the node we can add the node to the q   \n",
    "        while q:\n",
    "            cur = q.popleft()\n",
    "            totakes = graph[cur]\n",
    "            for course in totakes:\n",
    "                inedges[course] -= 1\n",
    "                if inedges[course] == 0:\n",
    "                    q.append(course)\n",
    "        \n",
    "        # We check if there are any courses that still have inedges. If they do that means there was not a possible route to get to the node\n",
    "        for i in range(numCourses):\n",
    "            if inedges[i] != 0:\n",
    "                return False\n",
    "        \n",
    "        # That means every course can be taken\n",
    "        return True"
   ]
  }
 ],
 "metadata": {
  "language_info": {
   "name": "python"
  },
  "orig_nbformat": 4
 },
 "nbformat": 4,
 "nbformat_minor": 2
}
