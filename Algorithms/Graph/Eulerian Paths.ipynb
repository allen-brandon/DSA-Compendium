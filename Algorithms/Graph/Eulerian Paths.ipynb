{
 "cells": [
  {
   "attachments": {},
   "cell_type": "markdown",
   "metadata": {},
   "source": [
    "## Eulerian Paths"
   ]
  },
  {
   "attachments": {},
   "cell_type": "markdown",
   "metadata": {},
   "source": [
    "\n",
    "##### Eulerian Paths are paths through a connected graph, that traverse through all edges once. There may be multiple or no valid eulerian paths through a graph.\n",
    "\n",
    "\n",
    "##### Eulerian Circuits are Eulerian Paths that begin and end at the same vertex.\n",
    "\n",
    "Written by Brandon Allen"
   ]
  },
  {
   "attachments": {},
   "cell_type": "markdown",
   "metadata": {},
   "source": [
    "## Template"
   ]
  },
  {
   "attachments": {},
   "cell_type": "markdown",
   "metadata": {},
   "source": [
    "Quick access to 2 pieces of code that construct an Eulerian path, in directed and undirected graphs respectively.\n",
    "\n",
    "This assumes an existing graph, so to use this code, you need to:\n",
    "\n",
    "* Build the graph in the form of adjacency list and designate n\n",
    "\n",
    "* Remove or modify degree map if needed\n",
    "\n",
    "* Verify that graph is connected\n",
    "\n",
    "* Specify starting node, if needed"
   ]
  },
  {
   "cell_type": "code",
   "execution_count": 1,
   "metadata": {},
   "outputs": [],
   "source": [
    "#Directed:\n",
    "#Time Complexity: O(V+E)\n",
    "\n",
    "adj = {}\n",
    "n = len(adj)\n",
    "#Modify keys to be all nodes in graph, if nodes aren't integer values from 0 to n\n",
    "degrees = {i:0 for i in range(n)}\n",
    "for u in adj:\n",
    "    for v in adj[u]:\n",
    "        degrees[u]+=1\n",
    "        degrees[v]-=1\n",
    "\n",
    "def eulerian_path(n, adj, degrees):\n",
    "    #Check if graph is eulerian\n",
    "    deg = 0\n",
    "    for u in degrees:\n",
    "        if abs(degrees[u]) > 1:\n",
    "            return None\n",
    "        if degrees[u]:\n",
    "            if deg&degrees[u]:\n",
    "                return None\n",
    "            deg ^= degrees[u]\n",
    "\n",
    "    #If graph is eulerian, find start node\n",
    "    start = 0\n",
    "    for u in degrees:\n",
    "        if degrees[u] == 1:\n",
    "            start = u\n",
    "            break\n",
    "        \n",
    "    st, path = [start], []\n",
    "    while st:\n",
    "        while adj[st[-1]]:\n",
    "            st.append(adj[st[-1]].pop())\n",
    "        path.append(st.pop())\n",
    "    \n",
    "    #Reverse path to get eulerian path\n",
    "    return path[::-1]"
   ]
  },
  {
   "cell_type": "code",
   "execution_count": 2,
   "metadata": {},
   "outputs": [],
   "source": [
    "#Undirected:\n",
    "#Time Complexity: O(V+E)\n",
    "\n",
    "adj = {}\n",
    "n = len(adj)\n",
    "#Modify keys to be all nodes in graph, if nodes aren't integer values from 0 to n\n",
    "degrees = {i:0 for i in range(n)}\n",
    "for u in adj:\n",
    "    for v in adj[u]:\n",
    "        degrees[u]+=1\n",
    "        degrees[v]-=1\n",
    "\n",
    "def eulerian_path(n, adj, degrees):\n",
    "    #Check if graph is eulerian\n",
    "    deg = 0\n",
    "    for u in degrees:\n",
    "        deg+=degrees[u]&1\n",
    "        if deg == 2: return 0\n",
    "\n",
    "    #If graph is eulerian, find start node\n",
    "    start = 0\n",
    "    for u in degrees:\n",
    "        if degrees[u] == 1:\n",
    "            start = u\n",
    "            break\n",
    "        \n",
    "    st, path = [start], []\n",
    "    while st:\n",
    "        while adj[st[-1]]:\n",
    "            st.append(adj[st[-1]].pop())\n",
    "        path.append(st.pop())\n",
    "    \n",
    "    #Reverse path to get eulerian path\n",
    "    return path[::-1]"
   ]
  },
  {
   "attachments": {},
   "cell_type": "markdown",
   "metadata": {},
   "source": [
    "## Notes\n",
    "\n",
    "The traversability of a graph is a question that shows up regularly in unexpected places. This makes effectively finding an eulerian path or cycle in a graph a far-reaching, albeit obscure tool to have in one's toolbelt of algorithms."
   ]
  },
  {
   "attachments": {},
   "cell_type": "markdown",
   "metadata": {},
   "source": [
    "A graph is said to be semi-eulerian, or traversible if it is possible to draw a valid path that traverses each edge in the graph once.\n",
    "\n",
    "A graph must meet the following requirements to be semi-eulerian:\n",
    "* The graph is connected\n",
    "* All nodes in the graph have even degree, except for exactly two or zero.\n",
    "* In a directed graph, both (if any) nodes of odd degree must have exactly a degree of 1, and -1.\n",
    "\n",
    "\n",
    "A graph is said to be Eulerian, or unicurcal if it is possible to draw a valid path that traverses each edge in the graph once, *starting and ending at the same vertex.*\n",
    "\n",
    "A eulerian cycle is a eulerian path that begins and ends at the same vertex. Euler's Theorem states:\n",
    "* An undirected, connected graph has a eulerian cycle if and only if every vertex has an even degree.\n",
    "\n",
    "Dénes Kőnig later proved for directed graphs:\n",
    "* A directed, connected graph has a eulerian cycle if and only if every vertex has a degree of 0.\n",
    "\n",
    "These conditions only apply to finite graphs. The corresponding concept to an eulerian cycle to an infinite graph is an eulerian line, which is a doubly infinite line that traverses every edge in an infinite graph. Interestingly, there are three additional conditions that need to be met in order for an infinite, undirected graph to be eulerian:\n",
    "* The graph must be connected and have countable sets of vertices and edges.\n",
    "* Removing a finite subgraph leaves at most two infinte connected components in the remaining graph.\n",
    "* Removing a finite subgraph with even degree (e.g. number of edges connecting nodes inside the subgraph to nodes outside the subgraph) leaves exactly one infinite connected component in the remaining graph.\n",
    "\n",
    "For eulerian graphs, being strongly connected and weakly connected are the same property. This means that a eulerian graph is always strongly connected, and that a graph being strongly connected is a strictly weaker assertion than a graph being eulerian.\n",
    "A eulerian path is not to be confused with a Hamiltonian path, which is a path through a graph that contains all nodes.\n",
    "\n",
    "Note: The code ontlined is Hierholzer's algorithm. Fleury's algorithm can also find the eulerity of a graph, though it has a worse time complexity."
   ]
  },
  {
   "cell_type": "markdown",
   "metadata": {},
   "source": [
    "Sources:\n",
    "\n",
    "1. Wikipedia. (n.d.). Eulerian path. Retrieved July 21, 2023, from https://en.wikipedia.org/wiki/Eulerian_path\n",
    "\n",
    "2. LeetCode. (n.d.). Valid arrangement of pairs. Retrieved July 21, 2023, from https://leetcode.com/problems/valid-arrangement-of-pairs/\n",
    "\n",
    "3. LeetCode. (n.d.). Reconstruct itinerary. Retrieved July 21, 2023, from https://leetcode.com/problems/reconstruct-itinerary/description/\n",
    "\n",
    "4. LeetCode. (n.d.). Python O(pairs length) Hierholzer's algorithm [Solution]. Retrieved July 21, 2023, from https://leetcode.com/problems/valid-arrangement-of-pairs/solutions/1611983/python-o-pairs-length-hierholzer-s-algorithm/"
   ]
  },
  {
   "cell_type": "markdown",
   "metadata": {},
   "source": []
  }
 ],
 "metadata": {
  "kernelspec": {
   "display_name": "Python 3",
   "language": "python",
   "name": "python3"
  },
  "language_info": {
   "codemirror_mode": {
    "name": "ipython",
    "version": 3
   },
   "file_extension": ".py",
   "mimetype": "text/x-python",
   "name": "python",
   "nbconvert_exporter": "python",
   "pygments_lexer": "ipython3",
   "version": "3.13.1"
  },
  "orig_nbformat": 4
 },
 "nbformat": 4,
 "nbformat_minor": 2
}
