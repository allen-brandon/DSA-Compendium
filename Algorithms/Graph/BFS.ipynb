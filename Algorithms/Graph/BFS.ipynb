{
 "cells": [
  {
   "attachments": {},
   "cell_type": "markdown",
   "metadata": {},
   "source": [
    "This file is for Breath-First-Search algorithm, AKA (BFS) for short. We use BFS when we are asked about if there is a path or shortest path to a destination.\n",
    "\n",
    "BFS uses a deque and a set. The reason we want a deque is because we want to have a FIFO, First in First out, because when we populate the deque with the valid neighbors of the point we are at. The reason we have a set is because if we have seen a point we dont want to go through the point again.\n",
    "\n",
    "After we see that starting point passes the constraints. We want to add starting point into the deque because this is a valid point given the constraints. We also put the starting point in the set because if we ever go back to the starting point we dont want to do any math to it because it has alread been seen.\n",
    "\n"
   ]
  },
  {
   "cell_type": "code",
   "execution_count": null,
   "metadata": {},
   "outputs": [],
   "source": [
    "def bfs(startX, startY, endX, endY):\n",
    "    q = deque()\n",
    "    s = set()"
   ]
  },
  {
   "attachments": {},
   "cell_type": "markdown",
   "metadata": {},
   "source": [
    "First you want to check if the starting point passes the problem. For example if the question was shortest path to get from the (0,0) -> (n,n) by only going through \"1\"s we need to make sure (0,0) is a \"1\" because if it is not it is impossible to even find a path in the first place."
   ]
  },
  {
   "cell_type": "code",
   "execution_count": null,
   "metadata": {},
   "outputs": [],
   "source": [
    "grid = [[0,1,0,0],[0,1,0,0],[1,0,1,0]]\n",
    "\n",
    "bfs(0,0,2,3)\n",
    "\n",
    "def bfs(startX, startY, endX, endY):\n",
    "    q = deque()\n",
    "    s = set()\n",
    "\n",
    "    if grid[startX][startY] != 1:\n",
    "        # return False if we are looking to see if there is path, if looking for shortest path return -1 because there is no path to get to the endY\n",
    "        return False\n",
    "\n"
   ]
  },
  {
   "attachments": {},
   "cell_type": "markdown",
   "metadata": {},
   "source": [
    "For the example above we would not add the starting point into the deque or set because the starting point does not fulfil the basic requirment of gird[x][y] == 1. So right here we would return -1 or False depending on the problem."
   ]
  },
  {
   "cell_type": "code",
   "execution_count": null,
   "metadata": {},
   "outputs": [],
   "source": [
    "grid = [[1,1,0,0],[0,1,0,0],[1,0,1,0]]\n",
    "\n",
    "bfs(0,0,2,3)\n",
    "\n",
    "def bfs(startX, startY, endX, endY):\n",
    "    q = deque()\n",
    "    s = set()\n",
    "\n",
    "    if grid[startX][startY] != 1:\n",
    "        # return False if we are looking to see if there is path, if looking for shortest path return -1 because there is no path to get to the endY\n",
    "        return False"
   ]
  },
  {
   "attachments": {},
   "cell_type": "markdown",
   "metadata": {},
   "source": [
    "For the example above we would add the starting point into the deque and set because the starting point does fulfil the basic requirment of gird[x][y] == 1."
   ]
  },
  {
   "attachments": {},
   "cell_type": "markdown",
   "metadata": {},
   "source": [
    "After we see that starting point passes the constraints. We want to add starting point into the deque because this is a valid point given the constraints. We also put the starting point in the set because if we ever go back to the starting point we dont want to do any math to it because it has alread been seen."
   ]
  },
  {
   "cell_type": "code",
   "execution_count": null,
   "metadata": {},
   "outputs": [],
   "source": [
    "grid = [[0,1,0,0],[0,1,0,0],[1,0,1,0]]\n",
    "\n",
    "bfs(0,0,2,3)\n",
    "\n",
    "def bfs(startX, startY, endX, endY):\n",
    "    q = deque()\n",
    "    s = set()\n",
    "\n",
    "    if grid[startX][startY] != 1:\n",
    "        # return False if we are looking to see if there is path, if looking for shortest path return -1 because there is no path to get to the endY\n",
    "        return False\n",
    "    \n",
    "    q.append((startX,startY))\n",
    "    s.add((startX,startY))\n"
   ]
  }
 ],
 "metadata": {
  "language_info": {
   "name": "python"
  },
  "orig_nbformat": 4
 },
 "nbformat": 4,
 "nbformat_minor": 2
}
