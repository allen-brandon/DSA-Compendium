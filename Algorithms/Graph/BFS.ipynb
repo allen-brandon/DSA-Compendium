{
 "cells": [
  {
   "attachments": {},
   "cell_type": "markdown",
   "metadata": {},
   "source": [
    "This file is for Breath-First-Search algorithm, AKA (BFS) for short. We use BFS when we are asked about if there is a path or shortest path to a destination.\n",
    "\n",
    "BFS uses a deque and a set. The reason we want a deque is because we want to have a FIFO, First in First out, because when we populate the deque with the valid neighbors of the cell we are at. The reason we have a set is because if we have seen a cell we dont want to go through the cell again.\n",
    "\n",
    "After we see that starting cell passes the constraints. We want to add starting cell into the deque because this is a valid cell given the constraints. We also put the starting cell in the set because if we ever go back to the starting cell we dont want to do any math to it because it has alread been seen.\n",
    "\n"
   ]
  },
  {
   "cell_type": "code",
   "execution_count": 7,
   "metadata": {},
   "outputs": [
    {
     "name": "stdout",
     "output_type": "stream",
     "text": [
      "deque([])\n",
      "set()\n"
     ]
    },
    {
     "data": {
      "text/plain": [
       "'Intitalize the deque and set to be empty'"
      ]
     },
     "execution_count": 7,
     "metadata": {},
     "output_type": "execute_result"
    }
   ],
   "source": [
    "import collections\n",
    "\n",
    "def bfs(startX, startY, endX, endY, grid):\n",
    "    q = collections.deque()\n",
    "    s = set()\n",
    "    m = len(grid)\n",
    "    n = len(grid)\n",
    "\n",
    "    print(q)\n",
    "    print(s)\n",
    "\n",
    "    return \"Intitalize the deque and set to be empty\"\n",
    "\n",
    "bfs(0,0,2,3,[[0,1,0,0],[0,1,0,0],[1,0,1,0]])\n"
   ]
  },
  {
   "attachments": {},
   "cell_type": "markdown",
   "metadata": {},
   "source": [
    "First you want to check if the starting cell passes the problem. For example if the question was shortest path to get from the (0,0) -> (n,n) by only going through \"1\"s we need to make sure (0,0) is a \"1\" because if it is not it is impossible to even find a path in the first place."
   ]
  },
  {
   "cell_type": "code",
   "execution_count": 8,
   "metadata": {},
   "outputs": [
    {
     "data": {
      "text/plain": [
       "False"
      ]
     },
     "execution_count": 8,
     "metadata": {},
     "output_type": "execute_result"
    }
   ],
   "source": [
    "import collections\n",
    "\n",
    "def bfs(startX, startY, endX, endY, grid):\n",
    "\n",
    "    # initializing\n",
    "    q = collections.deque()\n",
    "    s = set()\n",
    "    m = len(grid)\n",
    "    n = len(grid)\n",
    "\n",
    "    # check to see if the (startX,startY) fulfils the requirment\n",
    "    if grid[startX][startY] != 1:\n",
    "        # return False or -1 because the (startX, startY) is not 1 but some other number\n",
    "        return False\n",
    "    \n",
    "bfs(0,0,2,3,[[0,1,0,0],[0,1,0,0],[1,0,1,0]])"
   ]
  },
  {
   "attachments": {},
   "cell_type": "markdown",
   "metadata": {},
   "source": [
    "For the example above we would not add the starting cell into the deque or set because the starting cell does not fulfil the basic requirment of gird[x][y] == 1. So right here we would return -1 or False depending on the problem."
   ]
  },
  {
   "cell_type": "code",
   "execution_count": 17,
   "metadata": {},
   "outputs": [
    {
     "data": {
      "text/plain": [
       "'We can add (startX, startY) which is (0,0) because grid[startX][startY] == 1 to our q because it fulfils the requirment'"
      ]
     },
     "execution_count": 17,
     "metadata": {},
     "output_type": "execute_result"
    }
   ],
   "source": [
    "import collections\n",
    "\n",
    "def bfs(startX, startY, endX, endY, grid):\n",
    "\n",
    "    # initializing\n",
    "    q = collections.deque()\n",
    "    s = set()\n",
    "    m = len(grid)\n",
    "    n = len(grid)\n",
    "\n",
    "    # check to see if the (startX,startY) fulfils the requirment\n",
    "    if grid[startX][startY] != 1:\n",
    "        # return False or -1 because the (startX, startY) is not 1 but some other number\n",
    "        return False\n",
    "    else:\n",
    "        return (f\"We can add (startX, startY) which is ({startX},{startY}) because grid[startX][startY] == {grid[startX][startY]}. So we can add ({startX},{startY}) our q because it fulfils the requirment\")\n",
    "\n",
    "bfs(0,0,2,3,[[1,1,0,0],[0,1,1,0],[1,0,1,1]])"
   ]
  },
  {
   "attachments": {},
   "cell_type": "markdown",
   "metadata": {},
   "source": [
    "For the example above we would add the starting cell into the deque and set because the starting cell does fulfil the basic requirment of gird[x][y] == 1."
   ]
  },
  {
   "attachments": {},
   "cell_type": "markdown",
   "metadata": {},
   "source": [
    "After we see that starting cell passes the constraints. We want to add starting cell into the deque because this is a valid cell given the constraints. We also put the starting cell in the set because if we ever go back to the starting cell we dont want to do any math to it because it has alread been seen."
   ]
  },
  {
   "cell_type": "code",
   "execution_count": 10,
   "metadata": {},
   "outputs": [
    {
     "name": "stdout",
     "output_type": "stream",
     "text": [
      "deque([(0, 0)])\n",
      "{(0, 0)}\n"
     ]
    },
    {
     "data": {
      "text/plain": [
       "'You can see (0,0) was added to our deque and set'"
      ]
     },
     "execution_count": 10,
     "metadata": {},
     "output_type": "execute_result"
    }
   ],
   "source": [
    "import collections\n",
    "\n",
    "def bfs(startX, startY, endX, endY, grid):\n",
    "\n",
    "    # initializing\n",
    "    q = collections.deque()\n",
    "    s = set()\n",
    "    m = len(grid)\n",
    "    n = len(grid)\n",
    "\n",
    "    # check to see if the (startX,startY) fulfils the requirment\n",
    "    if grid[startX][startY] != 1:\n",
    "        # return False or -1 because the (startX, startY) is not 1 but some other number\n",
    "        return False\n",
    "\n",
    "    # add the valid cell \n",
    "    q.append((startX,startY))\n",
    "    s.add((startX,startY))\n",
    "\n",
    "    print(q)\n",
    "    print(s)\n",
    "\n",
    "    return \"You can see (0,0) was added to our deque and set\"\n",
    "    \n",
    "bfs(0,0,2,3,[[1,1,0,0],[0,1,1,0],[1,0,1,1]])\n"
   ]
  },
  {
   "attachments": {},
   "cell_type": "markdown",
   "metadata": {},
   "source": [
    "Now that we have something in our deque, we can now check it's neighbors. We will make a while loop that only runs while the deque is not empty."
   ]
  },
  {
   "cell_type": "code",
   "execution_count": 11,
   "metadata": {},
   "outputs": [
    {
     "name": "stdout",
     "output_type": "stream",
     "text": [
      "deque([(0, 0)])\n"
     ]
    }
   ],
   "source": [
    "import collections\n",
    "\n",
    "def bfs(startX, startY, endX, endY, grid):\n",
    "\n",
    "    # initializing\n",
    "    q = collections.deque()\n",
    "    s = set()\n",
    "    m = len(grid)\n",
    "    n = len(grid)\n",
    "\n",
    "    # check to see if the (startX,startY) fulfils the requirment\n",
    "    if grid[startX][startY] != 1:\n",
    "        # return False or -1 because the (startX, startY) is not 1 but some other number\n",
    "        return False\n",
    "\n",
    "    # add the valid cell \n",
    "    q.append((startX,startY))\n",
    "    s.add((startX,startY))\n",
    "\n",
    "    while q:\n",
    "        print(q)\n",
    "        return\n",
    "    \n",
    "bfs(0,0,2,3,[[1,1,0,0],[0,1,1,0],[1,0,1,1]])"
   ]
  },
  {
   "attachments": {},
   "cell_type": "markdown",
   "metadata": {},
   "source": [
    "What we want to do is pop the 0th element of the deque. We can do that by calling q.popleft() and we will take the values and set them to x,y"
   ]
  },
  {
   "cell_type": "code",
   "execution_count": 12,
   "metadata": {},
   "outputs": [
    {
     "data": {
      "text/plain": [
       "'q.popleft() will return a tuple and we will assign x,y to q.popleft(). X is 0 and Y is 0'"
      ]
     },
     "execution_count": 12,
     "metadata": {},
     "output_type": "execute_result"
    }
   ],
   "source": [
    "import collections\n",
    "\n",
    "def bfs(startX, startY, endX, endY, grid):\n",
    "\n",
    "    # initializing\n",
    "    q = collections.deque()\n",
    "    s = set()\n",
    "    m = len(grid)\n",
    "    n = len(grid)\n",
    "\n",
    "    # check to see if the (startX,startY) fulfils the requirment\n",
    "    if grid[startX][startY] != 1:\n",
    "        # return False or -1 because the (startX, startY) is not 1 but some other number\n",
    "        return False\n",
    "\n",
    "    # add the valid cell \n",
    "    q.append((startX,startY))\n",
    "    s.add((startX,startY))\n",
    "\n",
    "    while q:\n",
    "        x,y = q.popleft()\n",
    "        return (f\"q.popleft() will return a tuple and we will assign x,y to q.popleft(). X is {x} and Y is {y}\")\n",
    "    \n",
    "bfs(0,0,2,3,[[1,1,0,0],[0,1,1,0],[1,0,1,1]])"
   ]
  },
  {
   "attachments": {},
   "cell_type": "markdown",
   "metadata": {},
   "source": [
    "Now that we have the valid cell we are going to check the neighbors of this cell. I will make a varibale called moves which will be a list of tuples that relate to whats above the cell, below the cell, to the right of the cell, and to the left. I will go through every move in moves, call it dx, dy, and add dx and dy to x and y."
   ]
  },
  {
   "cell_type": "code",
   "execution_count": 13,
   "metadata": {},
   "outputs": [
    {
     "name": "stdout",
     "output_type": "stream",
     "text": [
      "1 0\n",
      "-1 0\n",
      "0 1\n",
      "0 -1\n"
     ]
    }
   ],
   "source": [
    "import collections\n",
    "\n",
    "def bfs(startX, startY, endX, endY, grid):\n",
    "\n",
    "    # initializing\n",
    "    q = collections.deque()\n",
    "    s = set()\n",
    "    m = len(grid)\n",
    "    n = len(grid)\n",
    "\n",
    "    # check to see if the (startX,startY) fulfils the requirment\n",
    "    if grid[startX][startY] != 1:\n",
    "        # return False or -1 because the (startX, startY) is not 1 but some other number\n",
    "        return False\n",
    "    \n",
    "    # checks up, down, right, left\n",
    "    moves = [(1,0),(-1,0),(0,1),(0,-1)]\n",
    "\n",
    "    # add the valid cell \n",
    "    q.append((startX,startY))\n",
    "    s.add((startX,startY))\n",
    "\n",
    "    # where the \n",
    "    while q:\n",
    "        x,y = q.popleft()\n",
    "        for dx, dy in moves:\n",
    "            print(x+dx, y+dy)\n",
    "        \n",
    "    return\n",
    "    \n",
    "bfs(0,0,2,3,[[1,1,0,0],[0,1,1,0],[1,0,1,1]])"
   ]
  },
  {
   "attachments": {},
   "cell_type": "markdown",
   "metadata": {},
   "source": [
    "Now we want to check if the cells surrouding the current cell are valid cells. We need to check if the cells are in bounds and we have not seen the cell before. If the cells pass these checks we will add the cell to the deque and add it to our set. After we add cells to our deque and add the cells to the set, we check each cell in the deque's neighbor that satisfies the condition until the deque is empty."
   ]
  },
  {
   "cell_type": "code",
   "execution_count": 14,
   "metadata": {},
   "outputs": [
    {
     "name": "stdout",
     "output_type": "stream",
     "text": [
      "deque([(0, 1)])\n",
      "{(0, 1), (0, 0)}\n",
      "deque([(1, 1)])\n",
      "{(0, 1), (1, 1), (0, 0)}\n",
      "deque([(1, 2)])\n",
      "{(0, 1), (1, 1), (1, 2), (0, 0)}\n",
      "deque([(2, 2)])\n",
      "{(0, 1), (1, 2), (0, 0), (1, 1), (2, 2)}\n",
      "deque([(2, 3)])\n",
      "{(0, 1), (1, 2), (0, 0), (1, 1), (2, 3), (2, 2)}\n",
      "deque([])\n",
      "{(0, 1), (1, 2), (0, 0), (1, 1), (2, 3), (2, 2)}\n"
     ]
    },
    {
     "data": {
      "text/plain": [
       "'As you can see we iterate through every cell and its neighbors that satisfies the conditions.'"
      ]
     },
     "execution_count": 14,
     "metadata": {},
     "output_type": "execute_result"
    }
   ],
   "source": [
    "import collections\n",
    "\n",
    "def bfs(startX, startY, endX, endY, grid):\n",
    "\n",
    "    # initializing\n",
    "    q = collections.deque()\n",
    "    s = set()\n",
    "    m = len(grid)\n",
    "    n = len(grid[0])\n",
    "\n",
    "    # check to see if the (startX,startY) fulfils the requirment\n",
    "    if grid[startX][startY] != 1:\n",
    "        # return False or -1 because the (startX, startY) is not 1 but some other number\n",
    "        return False\n",
    "    \n",
    "    # checks up, down, right, left\n",
    "    moves = [(1,0),(-1,0),(0,1),(0,-1)]\n",
    "\n",
    "    # add the valid cell \n",
    "    q.append((startX,startY))\n",
    "    s.add((startX,startY))\n",
    "\n",
    "    # where the \n",
    "    while q:\n",
    "        x,y = q.popleft()\n",
    "        for dx, dy in moves:\n",
    "\n",
    "            r = x + dx\n",
    "            c = y + dy\n",
    "\n",
    "\n",
    "            if -1 < r < m and -1 < c < n and (r,c) not in s and grid[r][c] == 1:\n",
    "                q.append((r,c))\n",
    "                s.add((r,c))\n",
    "        \n",
    "        print(q)\n",
    "        print(s)\n",
    "        \n",
    "    return \"As you can see we iterate through every cell and its neighbors that satisfies the conditions.\"\n",
    "    \n",
    "bfs(0,0,2,3,[[1,1,0,0],[0,1,1,0],[1,0,1,1]])"
   ]
  },
  {
   "attachments": {},
   "cell_type": "markdown",
   "metadata": {},
   "source": [
    "Now the question is how do you know if there is a valid path? What do we return? Where do we return?\n",
    "For this example we would return True if the cell we are looking at coordinates are (m-1,n-1). We would return False when we go through the whole q and there are no other paths avaiable."
   ]
  },
  {
   "cell_type": "code",
   "execution_count": 15,
   "metadata": {},
   "outputs": [
    {
     "name": "stdout",
     "output_type": "stream",
     "text": [
      "deque([(0, 1)])\n",
      "{(0, 1), (0, 0)}\n",
      "deque([(1, 1)])\n",
      "{(0, 1), (1, 1), (0, 0)}\n",
      "deque([(1, 2)])\n",
      "{(0, 1), (1, 1), (1, 2), (0, 0)}\n",
      "deque([(2, 2)])\n",
      "{(0, 1), (1, 2), (0, 0), (1, 1), (2, 2)}\n",
      "deque([(2, 3)])\n",
      "{(0, 1), (1, 2), (0, 0), (1, 1), (2, 3), (2, 2)}\n",
      "\n",
      "We now know this (m-1,n-1) so we have found a path we can return True.\n"
     ]
    },
    {
     "data": {
      "text/plain": [
       "True"
      ]
     },
     "execution_count": 15,
     "metadata": {},
     "output_type": "execute_result"
    }
   ],
   "source": [
    "import collections\n",
    "\n",
    "def bfs(startX, startY, endX, endY, grid):\n",
    "\n",
    "    # initializing\n",
    "    q = collections.deque()\n",
    "    s = set()\n",
    "    m = len(grid)\n",
    "    n = len(grid[0])\n",
    "\n",
    "    # check to see if the (startX,startY) fulfils the requirment\n",
    "    if grid[startX][startY] != 1:\n",
    "        # return False or -1 because the (startX, startY) is not 1 but some other number\n",
    "        return False\n",
    "    \n",
    "    # checks up, down, right, left\n",
    "    moves = [(1,0),(-1,0),(0,1),(0,-1)]\n",
    "\n",
    "    # add the valid cell \n",
    "    q.append((startX,startY))\n",
    "    s.add((startX,startY))\n",
    "\n",
    "    # where the \n",
    "    while q:\n",
    "        x,y = q.popleft()\n",
    "\n",
    "        # check if (x,y) is the (m-1, n-1)\n",
    "        if (x,y) == (m-1,n-1):\n",
    "            print('\\nWe now know this (m-1,n-1) so we have found a path we can return True.')\n",
    "            return True\n",
    "\n",
    "        for dx, dy in moves:\n",
    "\n",
    "            r = x + dx\n",
    "            c = y + dy\n",
    "\n",
    "\n",
    "            if -1 < r < m and -1 < c < n and (r,c) not in s and grid[r][c] == 1:\n",
    "                q.append((r,c))\n",
    "                s.add((r,c))\n",
    "        \n",
    "        print(q)\n",
    "        print(s)\n",
    "    \n",
    "bfs(0,0,2,3,[[1,1,0,0],[0,1,1,0],[1,0,1,1]])"
   ]
  },
  {
   "cell_type": "code",
   "execution_count": 16,
   "metadata": {},
   "outputs": [
    {
     "name": "stdout",
     "output_type": "stream",
     "text": [
      "deque([(0, 1)])\n",
      "{(0, 1), (0, 0)}\n",
      "deque([(1, 1)])\n",
      "{(0, 1), (1, 1), (0, 0)}\n",
      "deque([(2, 1), (1, 2)])\n",
      "{(0, 1), (1, 2), (2, 1), (0, 0), (1, 1)}\n",
      "deque([(1, 2), (2, 0)])\n",
      "{(0, 1), (1, 2), (2, 1), (0, 0), (1, 1), (2, 0)}\n",
      "deque([(2, 0)])\n",
      "{(0, 1), (1, 2), (2, 1), (0, 0), (1, 1), (2, 0)}\n",
      "deque([])\n",
      "{(0, 1), (1, 2), (2, 1), (0, 0), (1, 1), (2, 0)}\n",
      "\n",
      "There is no path in the graph that brings us to (m-1,n-1)\n"
     ]
    },
    {
     "data": {
      "text/plain": [
       "False"
      ]
     },
     "execution_count": 16,
     "metadata": {},
     "output_type": "execute_result"
    }
   ],
   "source": [
    "import collections\n",
    "\n",
    "def bfs(startX, startY, endX, endY, grid):\n",
    "\n",
    "    # initializing\n",
    "    q = collections.deque()\n",
    "    s = set()\n",
    "    m = len(grid)\n",
    "    n = len(grid[0])\n",
    "\n",
    "    # check to see if the (startX,startY) fulfils the requirment\n",
    "    if grid[startX][startY] != 1:\n",
    "        # return False or -1 because the (startX, startY) is not 1 but some other number\n",
    "        return False\n",
    "    \n",
    "    # checks up, down, right, left\n",
    "    moves = [(1,0),(-1,0),(0,1),(0,-1)]\n",
    "\n",
    "    # add the valid cell \n",
    "    q.append((startX,startY))\n",
    "    s.add((startX,startY))\n",
    "\n",
    "    # where the \n",
    "    while q:\n",
    "        x,y = q.popleft()\n",
    "\n",
    "        # check if (x,y) is the (m-1, n-1)\n",
    "        if (x,y) == (m-1,n-1):\n",
    "            print('\\nWe now know this (m-1,n-1) so we have found a path we can return True.')\n",
    "            return True\n",
    "\n",
    "        for dx, dy in moves:\n",
    "\n",
    "            r = x + dx\n",
    "            c = y + dy\n",
    "\n",
    "\n",
    "            if -1 < r < m and -1 < c < n and (r,c) not in s and grid[r][c] == 1:\n",
    "                q.append((r,c))\n",
    "                s.add((r,c))\n",
    "        \n",
    "        print(q)\n",
    "        print(s)\n",
    "    \n",
    "    print(\"\\nThere is no path in the graph that brings us to (m-1,n-1)\")\n",
    "    return False\n",
    "    \n",
    "bfs(0,0,2,3,[[1,1,0,0],[0,1,1,0],[1,1,0,1]])"
   ]
  },
  {
   "attachments": {},
   "cell_type": "markdown",
   "metadata": {},
   "source": [
    "Conclusion:"
   ]
  }
 ],
 "metadata": {
  "kernelspec": {
   "display_name": "Python 3",
   "language": "python",
   "name": "python3"
  },
  "language_info": {
   "codemirror_mode": {
    "name": "ipython",
    "version": 3
   },
   "file_extension": ".py",
   "mimetype": "text/x-python",
   "name": "python",
   "nbconvert_exporter": "python",
   "pygments_lexer": "ipython3",
   "version": "3.10.7"
  },
  "orig_nbformat": 4
 },
 "nbformat": 4,
 "nbformat_minor": 2
}
