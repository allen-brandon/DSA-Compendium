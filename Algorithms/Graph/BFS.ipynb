{
 "cells": [
  {
   "attachments": {},
   "cell_type": "markdown",
   "metadata": {},
   "source": [
    "This file is for Breath-First-Search algorithm, AKA (BFS) for short. We use BFS when we are asked about if there is a path or shortest path to a destination.\n",
    "\n",
    "BFS uses a deque and a set. The reason we want a deque is because we want to have a FIFO, First in First out, because when we populate the deque with the valid neighbors of the point we are at. The reason we have a set is because if we have seen a point we dont want to go through the point again.\n",
    "\n",
    "After we see that starting point passes the constraints. We want to add starting point into the deque because this is a valid point given the constraints. We also put the starting point in the set because if we ever go back to the starting point we dont want to do any math to it because it has alread been seen.\n",
    "\n"
   ]
  },
  {
   "cell_type": "code",
   "execution_count": 20,
   "metadata": {},
   "outputs": [
    {
     "name": "stdout",
     "output_type": "stream",
     "text": [
      "deque([])\n",
      "set()\n"
     ]
    }
   ],
   "source": [
    "import collections\n",
    "\n",
    "grid = [[0,1,0,0],[0,1,0,0],[1,0,1,0]]\n",
    "\n",
    "def bfs(startX, startY, endX, endY):\n",
    "    q = collections.deque()\n",
    "    s = set()\n",
    "\n",
    "    print(q)\n",
    "    print(s)\n",
    "\n",
    "    return\n",
    "\n",
    "bfs(0,0,2,3)\n"
   ]
  },
  {
   "attachments": {},
   "cell_type": "markdown",
   "metadata": {},
   "source": [
    "First you want to check if the starting point passes the problem. For example if the question was shortest path to get from the (0,0) -> (n,n) by only going through \"1\"s we need to make sure (0,0) is a \"1\" because if it is not it is impossible to even find a path in the first place."
   ]
  },
  {
   "cell_type": "code",
   "execution_count": 16,
   "metadata": {},
   "outputs": [
    {
     "data": {
      "text/plain": [
       "False"
      ]
     },
     "execution_count": 16,
     "metadata": {},
     "output_type": "execute_result"
    }
   ],
   "source": [
    "import collections\n",
    "\n",
    "grid = [[0,1,0,0],[0,1,0,0],[1,0,1,0]]\n",
    "\n",
    "def bfs(startX, startY, endX, endY):\n",
    "    q = collections.deque()\n",
    "    s = set()\n",
    "\n",
    "    # check to see if the (startX,startY) fulfils the requirment\n",
    "    if grid[startX][startY] != 1:\n",
    "        # return False or -1 because the (startX, startY) is not 1 but some other number\n",
    "        return False\n",
    "    \n",
    "bfs(0,0,2,3)\n",
    "\n",
    "\n"
   ]
  },
  {
   "attachments": {},
   "cell_type": "markdown",
   "metadata": {},
   "source": [
    "For the example above we would not add the starting point into the deque or set because the starting point does not fulfil the basic requirment of gird[x][y] == 1. So right here we would return -1 or False depending on the problem."
   ]
  },
  {
   "cell_type": "code",
   "execution_count": 14,
   "metadata": {},
   "outputs": [
    {
     "data": {
      "text/plain": [
       "'We can add (startX, startY) to our q because it fulfils the requirment'"
      ]
     },
     "execution_count": 14,
     "metadata": {},
     "output_type": "execute_result"
    }
   ],
   "source": [
    "import collections\n",
    "\n",
    "grid = [[1,1,0,0],[0,1,0,0],[1,0,1,0]]\n",
    "\n",
    "def bfs(startX, startY, endX, endY):\n",
    "    q = collections.deque()\n",
    "    s = set()\n",
    "\n",
    "    # check to see if the (startX,startY) fulfils the requirment\n",
    "    if grid[startX][startY] != 1:\n",
    "        # return False or -1 because the (startX, startY) is not 1 but some other number\n",
    "        return False\n",
    "    else:\n",
    "        return \"We can add (startX, startY) to our q because it fulfils the requirment\"\n",
    "\n",
    "bfs(0,0,2,3)"
   ]
  },
  {
   "attachments": {},
   "cell_type": "markdown",
   "metadata": {},
   "source": [
    "For the example above we would add the starting point into the deque and set because the starting point does fulfil the basic requirment of gird[x][y] == 1."
   ]
  },
  {
   "attachments": {},
   "cell_type": "markdown",
   "metadata": {},
   "source": [
    "After we see that starting point passes the constraints. We want to add starting point into the deque because this is a valid point given the constraints. We also put the starting point in the set because if we ever go back to the starting point we dont want to do any math to it because it has alread been seen."
   ]
  },
  {
   "cell_type": "code",
   "execution_count": 15,
   "metadata": {},
   "outputs": [
    {
     "name": "stdout",
     "output_type": "stream",
     "text": [
      "deque([(0, 0)])\n",
      "{(0, 0)}\n"
     ]
    },
    {
     "data": {
      "text/plain": [
       "'You can see (0,0) was added to our deque and set'"
      ]
     },
     "execution_count": 15,
     "metadata": {},
     "output_type": "execute_result"
    }
   ],
   "source": [
    "grid = [[1,1,0,0],[0,1,0,0],[1,0,1,0]]\n",
    "\n",
    "def bfs(startX, startY, endX, endY):\n",
    "    q = collections.deque()\n",
    "    s = set()\n",
    "\n",
    "    # check to see if the (startX,startY) fulfils the requirment\n",
    "    if grid[startX][startY] != 1:\n",
    "        # return False or -1 because the (startX, startY) is not 1 but some other number\n",
    "        return False\n",
    "    \n",
    "    q.append((startX,startY))\n",
    "    s.add((startX,startY))\n",
    "\n",
    "    print(q)\n",
    "    print(s)\n",
    "\n",
    "    return \"You can see (0,0) was added to our deque and set\"\n",
    "    \n",
    "bfs(0,0,2,3)\n"
   ]
  }
 ],
 "metadata": {
  "kernelspec": {
   "display_name": "Python 3",
   "language": "python",
   "name": "python3"
  },
  "language_info": {
   "codemirror_mode": {
    "name": "ipython",
    "version": 3
   },
   "file_extension": ".py",
   "mimetype": "text/x-python",
   "name": "python",
   "nbconvert_exporter": "python",
   "pygments_lexer": "ipython3",
   "version": "3.10.7"
  },
  "orig_nbformat": 4
 },
 "nbformat": 4,
 "nbformat_minor": 2
}
