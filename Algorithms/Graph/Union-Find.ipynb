{
 "cells": [
  {
   "attachments": {},
   "cell_type": "markdown",
   "metadata": {},
   "source": [
    "## Disjoint Set\n",
    "\n",
    "Please cite this if you referenced this article, and share with your friends if you found this helpful!\n",
    "\n",
    "Written by Brandon"
   ]
  },
  {
   "attachments": {},
   "cell_type": "markdown",
   "metadata": {},
   "source": [
    "\n",
    "##### Disjoint Set, often called Union Find or DSU, is a data structure used to find information about the connected components of a graph. Can find all information in amortized O(n) time (discussed in detail in guide section).\n",
    "\n",
    "##### 1. An exact quickhand template\n",
    "\n",
    "        > If you are looking for quick code to copy-paste or analyze, go to the Template.\n",
    "\n",
    "\n",
    "##### 2. A guide on the nuances of this topic\n",
    "\n",
    "        > If you are looking to better an existing understanding, go to the Guide.\n",
    "\n",
    "\n",
    "##### 3. An introduction to this topic, with examples.\n",
    "\n",
    "        > If you are looking to learn about this topic from a place of little understanding, go to the Introduction."
   ]
  },
  {
   "cell_type": "markdown",
   "metadata": {},
   "source": [
    "## Template"
   ]
  },
  {
   "attachments": {},
   "cell_type": "markdown",
   "metadata": {},
   "source": [
    "Quick access to code.\n",
    "\n",
    "* Copy array initializations and function definitions\n",
    "\n",
    "* Use desired template to find information about connected components of a graph\n",
    "\n",
    "Time complexity refers to the amortized time complexity of both union and find functions. Further explanation in second section."
   ]
  },
  {
   "cell_type": "code",
   "execution_count": null,
   "metadata": {},
   "outputs": [],
   "source": [
    "#No height control\n",
    "#Time complexity: \n",
    "\n",
    "#Comparison by size\n",
    "#Time complexity:\n",
    "\n",
    "#Comparison by rank\n",
    "#Time complexity:"
   ]
  },
  {
   "attachments": {},
   "cell_type": "markdown",
   "metadata": {},
   "source": [
    "Guide notes:\n",
    "Space complexity\n",
    "Compare recursive vs. iterative find function\n",
    "Time complexity\n",
    "Path compression\n",
    "Height control\n",
    "Always call find(a), not root[a], when using disjoint set to avoid non-updated pointers\n"
   ]
  },
  {
   "attachments": {},
   "cell_type": "markdown",
   "metadata": {},
   "source": [
    "## Introduction\n",
    "\n",
    "Below is a detailed explanation of exactly what a disjoint sets is. This is meant to acquaint you with disjoint sets, if you're not familiar with them. Take the following array:"
   ]
  },
  {
   "attachments": {},
   "cell_type": "markdown",
   "metadata": {},
   "source": []
  }
 ],
 "metadata": {
  "kernelspec": {
   "display_name": "Python 3",
   "language": "python",
   "name": "python3"
  },
  "language_info": {
   "name": "python",
   "version": "3.10.9"
  },
  "orig_nbformat": 4
 },
 "nbformat": 4,
 "nbformat_minor": 2
}
