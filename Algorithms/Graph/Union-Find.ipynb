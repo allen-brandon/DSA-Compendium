{
 "cells": [
  {
   "attachments": {},
   "cell_type": "markdown",
   "metadata": {},
   "source": [
    "## Disjoint Set\n",
    "\n",
    "Please cite this if you referenced this article, and share with your friends if you found this helpful!\n",
    "Written by Brandon"
   ]
  },
  {
   "attachments": {},
   "cell_type": "markdown",
   "metadata": {},
   "source": [
    "\n",
    "##### Disjoint Sets, or Union Find, is an an algorithm to find information about the connected components of a graph.\n",
    "\n",
    "##### 1. An exact quickhand template for various binary searches, to see the exact code.\n",
    "\n",
    "        > If you are looking for a quick template to copy-paste or analyze, go to the Template.\n",
    "\n",
    "\n",
    "##### 2. A guide on the nuances of when and how binary searches are used.\n",
    "\n",
    "        > If you are looking to better an existing understanding of binary searches, go to the Guide.\n",
    "\n",
    "\n",
    "##### 3. An introduction to what a binary search is, with examples.\n",
    "\n",
    "        > If you are looking to learn about this topic from a place of little understanding, go to the Introduction."
   ]
  },
  {
   "cell_type": "code",
   "execution_count": null,
   "metadata": {},
   "outputs": [],
   "source": [
    "class UF:\n",
    "    def __init__(self,m,n):\n",
    "        self.n = n\n",
    "        self.par = [i for i in range(m*n+1)]\n",
    "        self.rank = [0] * (m*n+1)\n",
    "        self.size = [1] * (m*n+1)\n",
    "        self.size[0] = 0\n",
    "    \n",
    "    def find(self,x):\n",
    "        while x != self.par[x]:\n",
    "            self.par[x] = self.par[self.par[x]]\n",
    "            x = self.par[x]\n",
    "        return x\n",
    "    \n",
    "    def union(self,x,y):\n",
    "        p1,p2 = self.find(x), self.find(y)\n",
    "        if p1 == p2: return 0\n",
    "        if self.rank[p1] > self.rank[p2]:\n",
    "            self.rank[p1] += self.rank[p2]\n",
    "            self.par[p2] = p1\n",
    "            self.size[p1] += self.size[p2]\n",
    "        else:\n",
    "            self.rank[p2] += self.rank[p1]\n",
    "            self.par[p1] = p2\n",
    "            self.size[p2] += self.size[p1]\n",
    "        self.n -= 1\n",
    "        return 1\n",
    "\n",
    "    def isConnected(self):\n",
    "        return self.n <= 1"
   ]
  },
  {
   "attachments": {},
   "cell_type": "markdown",
   "metadata": {},
   "source": [
    "## Introduction\n",
    "\n",
    "Below is a detailed explanation of exactly what a disjoint sets is. This is meant to acquaint you with disjoint sets, if you're not familiar with them. Take the following array:"
   ]
  }
 ],
 "metadata": {
  "language_info": {
   "name": "python"
  },
  "orig_nbformat": 4
 },
 "nbformat": 4,
 "nbformat_minor": 2
}
