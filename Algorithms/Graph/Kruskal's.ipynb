{
 "cells": [
  {
   "cell_type": "code",
   "execution_count": 8,
   "metadata": {},
   "outputs": [],
   "source": [
    "from sklearn.model_selection import train_test_split\n",
    "import pandas as pd"
   ]
  },
  {
   "cell_type": "code",
   "execution_count": 9,
   "metadata": {},
   "outputs": [
    {
     "name": "stdout",
     "output_type": "stream",
     "text": [
      "   col1  col2\n",
      "0     0    10\n",
      "1     1    11\n",
      "2     2    12\n",
      "3     3    13\n",
      "4     4    14\n",
      "5     5    15\n",
      "6     6    16\n",
      "7     7    17\n",
      "8     8    18\n",
      "9     9    19\n"
     ]
    }
   ],
   "source": [
    "l = pd.DataFrame({\"col1\":list(range(10)), \"col2\":list(range(10, 20))})\n",
    "print(l)"
   ]
  },
  {
   "cell_type": "code",
   "execution_count": 11,
   "metadata": {},
   "outputs": [
    {
     "name": "stdout",
     "output_type": "stream",
     "text": [
      "8    8\n",
      "5    5\n",
      "3    3\n",
      "7    7\n",
      "0    0\n",
      "1    1\n",
      "4    4\n",
      "Name: col1, dtype: int64 2    2\n",
      "9    9\n",
      "6    6\n",
      "Name: col1, dtype: int64 8    18\n",
      "5    15\n",
      "3    13\n",
      "7    17\n",
      "0    10\n",
      "1    11\n",
      "4    14\n",
      "Name: col2, dtype: int64 2    12\n",
      "9    19\n",
      "6    16\n",
      "Name: col2, dtype: int64\n"
     ]
    }
   ],
   "source": [
    "X_train, X_test, Y_train, Y_test = train_test_split(l[\"col1\"], l[\"col2\"])\n",
    "print(X_train, X_test, Y_train, Y_test)"
   ]
  }
 ],
 "metadata": {
  "kernelspec": {
   "display_name": "Python 3",
   "language": "python",
   "name": "python3"
  },
  "language_info": {
   "codemirror_mode": {
    "name": "ipython",
    "version": 3
   },
   "file_extension": ".py",
   "mimetype": "text/x-python",
   "name": "python",
   "nbconvert_exporter": "python",
   "pygments_lexer": "ipython3",
   "version": "3.11.5"
  },
  "orig_nbformat": 4
 },
 "nbformat": 4,
 "nbformat_minor": 2
}
