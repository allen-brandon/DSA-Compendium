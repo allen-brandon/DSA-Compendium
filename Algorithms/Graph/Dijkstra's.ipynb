{
 "cells": [
  {
   "attachments": {},
   "cell_type": "markdown",
   "metadata": {},
   "source": [
    "# Overview\n",
    "\n",
    "Please cite this if you referenced this article, and share with your friends if you found this helpful!"
   ]
  },
  {
   "attachments": {},
   "cell_type": "markdown",
   "metadata": {},
   "source": [
    "#### Description of document and 1 sentence description of algo/ds\n",
    "\n",
    "##### 1. An exact quickhand template for various binary searches, to see the exact code.\n",
    "\n",
    "        > If you are looking for a quick template to copy-paste or analyze, go to the Template.\n",
    "\n",
    "\n",
    "##### 2. A guide on the nuances of when and how binary searches are used.\n",
    "\n",
    "        > If you are looking to better an existing understanding of binary searches, go to the Guide.\n",
    "\n",
    "\n",
    "##### 3. An introduction to what a binary search is, with examples.\n",
    "\n",
    "        > If you are looking to learn about this topic from a place of little understanding, go to the Introduction.\n",
    "\n",
    "Written by Brandon"
   ]
  },
  {
   "attachments": {},
   "cell_type": "markdown",
   "metadata": {},
   "source": [
    "# Template"
   ]
  },
  {
   "attachments": {},
   "cell_type": "markdown",
   "metadata": {},
   "source": [
    "Quick access to code\n",
    "\n",
    "* Notes about copy pasting and what to change"
   ]
  },
  {
   "cell_type": "code",
   "execution_count": 2,
   "metadata": {},
   "outputs": [],
   "source": [
    "import heapq\n",
    "#Make adjacency list, given edges and number of nodes\n",
    "def makeadj(edges, n):\n",
    "    adj = [[] for _ in range(n)]\n",
    "    for u, v, w in edges:\n",
    "        adj[u].append([v, w])\n",
    "        adj[u].append([u, w])\n",
    "\n",
    "#Find shortest path from given node to all others\n",
    "def djikstras(adj, source, n):\n",
    "    ans = [-1]*n\n",
    "    rem = n\n",
    "    pq = [(inf, i) for i in range(1, n)]\n",
    "    heapq.heappush(pq, (0, source))\n",
    "    while pq and rem:\n",
    "        dist, node = heapq.heappop(pq)\n",
    "        if ans[node] != -1: continue\n",
    "        ans[node] = dist\n",
    "        rem-=1\n",
    "        for neighbor, weight in adj[node]:\n",
    "            if ans[neighbor] != -1: continue\n",
    "            heapq.heappush((weight+dist, neighbor))\n",
    "    return ans"
   ]
  },
  {
   "cell_type": "code",
   "execution_count": null,
   "metadata": {},
   "outputs": [],
   "source": []
  },
  {
   "cell_type": "markdown",
   "metadata": {},
   "source": []
  }
 ],
 "metadata": {
  "kernelspec": {
   "display_name": "Python 3",
   "language": "python",
   "name": "python3"
  },
  "language_info": {
   "codemirror_mode": {
    "name": "ipython",
    "version": 3
   },
   "file_extension": ".py",
   "mimetype": "text/x-python",
   "name": "python",
   "nbconvert_exporter": "python",
   "pygments_lexer": "ipython3",
   "version": "3.11.4"
  },
  "orig_nbformat": 4
 },
 "nbformat": 4,
 "nbformat_minor": 2
}
