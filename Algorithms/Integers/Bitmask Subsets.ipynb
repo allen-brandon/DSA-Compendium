{
 "cells": [
  {
   "cell_type": "markdown",
   "metadata": {},
   "source": [
    "# Bitmask Subsets"
   ]
  },
  {
   "cell_type": "markdown",
   "metadata": {},
   "source": [
    "##### This file outlines how to find subsets from a given bitmask. Doing so has a very high time complexity, and this page outlines a specific technique to do so more efficiently.\n",
    "\n",
    "##### 1. An exact quickhand template of the exact code\n",
    "\n",
    "        > If you are looking for a quick template to copy-paste or analyze, go to the Template.\n",
    "\n",
    "\n",
    "##### 2. Notes\n",
    "\n",
    "        > This is a small technique, so there isn't too much to explain.\n",
    "        \n",
    "\n",
    "Please cite this if you referenced this article, and share with your friends if you found this helpful!\n",
    "\n",
    "Written by Brandon"
   ]
  },
  {
   "cell_type": "markdown",
   "metadata": {},
   "source": [
    "# Template"
   ]
  },
  {
   "cell_type": "markdown",
   "metadata": {},
   "source": [
    "Quick access to code\n",
    "\n",
    "* O(3^n) time complexity, O(2^n) space complexity"
   ]
  },
  {
   "cell_type": "code",
   "execution_count": 3,
   "metadata": {},
   "outputs": [],
   "source": [
    "#List format\n",
    "def submask(mask):\n",
    "    res = []\n",
    "    sub = (mask-1)&mask\n",
    "    while sub:\n",
    "        res.append(sub)\n",
    "        sub = (sub - 1) & mask\n",
    "    return res\n",
    "\n",
    "\n",
    "#Yields format\n",
    "def submask(mask):\n",
    "    sub = (mask-1)&mask\n",
    "    while sub:\n",
    "        yield sub\n",
    "        sub = (sub - 1) & mask\n",
    "\n",
    "# example = 1000000007\n",
    "# print(bin(example)[2:])\n",
    "# for i in submask(example):\n",
    "#     print(bin(i)[2:])"
   ]
  },
  {
   "cell_type": "markdown",
   "metadata": {},
   "source": [
    "## Notes\n",
    "\n",
    "This code allows you to find all submasks of each bitmask from 0-2<sup>n</sup>, in O(3<sup>n</sup>). This is as opposed to a naive approach, which takes O(4<sup>n</sup>). Ordinarily, one would find every bitmask from 0-2<sup>n</sup>, and then have to iterate through all smaller masks (on the order of 0-2<sup>n</sup>) to find each submask. This equates to O(2<sup>n</sup> * 2<sup>n</sup>) = O(4<sup>n</sup>).\n",
    "\n",
    "\n",
    "The way that this code operates in O(3<sup>n</sup>) time rather than O(4<sup>n</sup>) time is as follows: each bit can be in one of 3 states: It's not set (to 1) in the bitmask, it is set in the bitmask but not a given submask, or it's set in the bitmask and submask. Given that there are 3 states for each bit, iterating up through all n bits takes O(3<sup>n</sup>) time."
   ]
  }
 ],
 "metadata": {
  "kernelspec": {
   "display_name": "Python 3",
   "language": "python",
   "name": "python3"
  },
  "language_info": {
   "codemirror_mode": {
    "name": "ipython",
    "version": 3
   },
   "file_extension": ".py",
   "mimetype": "text/x-python",
   "name": "python",
   "nbconvert_exporter": "python",
   "pygments_lexer": "ipython3",
   "version": "3.11.5"
  },
  "orig_nbformat": 4
 },
 "nbformat": 4,
 "nbformat_minor": 2
}
