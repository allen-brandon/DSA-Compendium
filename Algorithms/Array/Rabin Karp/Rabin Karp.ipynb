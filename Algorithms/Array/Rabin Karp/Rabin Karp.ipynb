{
 "cells": [
  {
   "cell_type": "markdown",
   "metadata": {},
   "source": [
    "# Rabin Karp String Hashing"
   ]
  },
  {
   "cell_type": "code",
   "execution_count": 2,
   "metadata": {},
   "outputs": [],
   "source": [
    "# Heavily inspired by Alex Wice's RabinKarp class implementation\n",
    "class PrefixHash:\n",
    "    #Input a string encoded as an array (e.g. numbers bounded from 0-26)\n",
    "    #Initialization is O(n)\n",
    "    def __init__(self, arr):\n",
    "        self.mod = mod = 455666777788888999999\n",
    "        self.base = base = 37\n",
    "        self.inv = inv = pow(base, mod-2, mod)\n",
    "        self.pref = pref = [0]\n",
    "        self.invpref = invpref = [1]\n",
    "        pwr, invpwr = 1, 1\n",
    "        hsh = 0\n",
    "        for x in arr:\n",
    "            hsh = (hsh+x*pwr)%mod\n",
    "            pwr = (pwr*base)%mod\n",
    "            invpwr = (invpwr*inv)%mod\n",
    "            pref.append(hsh)\n",
    "            invpref.append(invpwr)\n",
    "    #Obtain the hash of a substring [l, ... r] in O(1)\n",
    "    #Inclusive of l and r\n",
    "    def query(self, l, r):\n",
    "        return (self.pref[r+1]-self.pref[l])*self.invpref[l]%self.mod"
   ]
  },
  {
   "cell_type": "code",
   "execution_count": 3,
   "metadata": {},
   "outputs": [
    {
     "name": "stdout",
     "output_type": "stream",
     "text": [
      "29.897352864085125\n"
     ]
    }
   ],
   "source": [
    "import math\n",
    "print(math.log2(int(1e9+7)))"
   ]
  },
  {
   "cell_type": "markdown",
   "metadata": {},
   "source": [
    "Relevant Problems:\n",
    "\n",
    "https://leetcode.com/problems/palindrome-rearrangement-queries"
   ]
  }
 ],
 "metadata": {
  "kernelspec": {
   "display_name": "Python 3",
   "language": "python",
   "name": "python3"
  },
  "language_info": {
   "codemirror_mode": {
    "name": "ipython",
    "version": 3
   },
   "file_extension": ".py",
   "mimetype": "text/x-python",
   "name": "python",
   "nbconvert_exporter": "python",
   "pygments_lexer": "ipython3",
   "version": "3.11.5"
  },
  "orig_nbformat": 4
 },
 "nbformat": 4,
 "nbformat_minor": 2
}
