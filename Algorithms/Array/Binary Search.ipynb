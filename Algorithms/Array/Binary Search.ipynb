{
 "cells": [
  {
   "attachments": {},
   "cell_type": "markdown",
   "metadata": {},
   "source": [
    "## Overview\n",
    "\n",
    "Please cite this if you referenced this article, and share with your friends if you found this helpful!"
   ]
  },
  {
   "attachments": {},
   "cell_type": "markdown",
   "metadata": {},
   "source": [
    "\n",
    "##### This file outlines binary searches in their entirety. \"Binary Search\" is a specific algorithm with an exact purpose; it allows you to find an element in a sorted array, performing O(logn) operations rather than O(n) operations. There are 3 sections in this file:\n",
    "\n",
    "##### 1. An exact quickhand template for various binary searches, to see the exact code.\n",
    "\n",
    "        > If you are looking for a quick template to copy-paste or analyze, go to the Template.\n",
    "\n",
    "\n",
    "##### 2. A guide on the nuances of when and how binary searches are used.\n",
    "\n",
    "        > If you are looking to better an existing understanding of binary searches, go to the Guide.\n",
    "\n",
    "\n",
    "##### 3. An introduction to what a binary search is, with examples.\n",
    "\n",
    "        > If you are looking to learn about this topic from a place of little understanding, go to the Introduction.\n",
    "\n",
    "Written by Brandon"
   ]
  },
  {
   "attachments": {},
   "cell_type": "markdown",
   "metadata": {},
   "source": [
    "## Template"
   ]
  },
  {
   "attachments": {},
   "cell_type": "markdown",
   "metadata": {},
   "source": [
    "Quick access to code.\n",
    "\n",
    "* Copy inner code if function definition isn't needed.\n",
    "\n",
    "* Replace predicate line with appropriate predicate.\n",
    "\n",
    "* Modify starting lo, hi, predicate, and returned value if a different augmentation than these two is needed."
   ]
  },
  {
   "cell_type": "code",
   "execution_count": 1,
   "metadata": {},
   "outputs": [],
   "source": [
    "#Search for lower equal bound \n",
    "def lower_bsearch(arr):\n",
    "    lo, hi = 0, n\n",
    "    while hi-lo>1:\n",
    "        mid = lo+(hi-lo)//2\n",
    "        if mid <= predicate:\n",
    "            lo = mid\n",
    "        else:\n",
    "            hi = mid\n",
    "    return lo\n",
    "\n",
    "#Search for upper equal bound\n",
    "def upper_bsearch(arr):\n",
    "    lo, hi = -1, n-1\n",
    "    while hi-lo>1:\n",
    "        mid = lo+(hi-lo)//2\n",
    "        if mid < predicate:\n",
    "            lo = mid\n",
    "        else:\n",
    "            hi = mid\n",
    "    return hi"
   ]
  },
  {
   "attachments": {},
   "cell_type": "markdown",
   "metadata": {},
   "source": [
    "## Guide\n",
    "\n",
    "It is relatively easy to understand the purpose and mechanism for a binary search. However they are notorious for buggy and inconsistent implementation. Compared to other algorithms, there's a noticeable disparity between their theoretical simplicity and the complications that arise when actually coding out a binary search. The section below is intended to clarify all the nuances of exactly when and how to use a binary search."
   ]
  },
  {
   "attachments": {},
   "cell_type": "markdown",
   "metadata": {},
   "source": [
    "Firstly; how does one understand binary searches to the point that they don't always fall victim to 10 minutes of debugging?\n",
    "\n",
    "Binary searches are notorious for off-by-1 errors and infinite loops. This is because there's a large contrast between the simplicity of the concept of a binary search, and the complications that arise in implementation. As seen in the above templates, there are multiple ways to structure a binary search, that are almost exactly the same as one another. For example, you could search for the lowest element >= x, or the highest element <= x. Many people encounter these issues and spend a consistent 10 or 15 minutes tweaking the code until finally they happen upon the correct implementation. Often this requires re-running the code over and over again, which can be detrimental in a large code-base (or in an interview!)\n",
    "\n",
    "It doesn't have to be this way. The key to not wasting time and effort finicking around with the code is to understand the semantics very specifically. A surface level understanding would be, \"evaluate mid. If it's less than the target, the lower bound goes to mid, or else the upper bound goes to mid.\" That's a solid understanding of the overall approach but it isn't sufficient under further scrutiny. \"Do we include mid when narrowing the window?\" \"Which bound do we return?\" \"Do we evaluate mid <= target or mid < target?\" Answers to these questions are elusive unless you understand the exact semantics of the bounds, as well as what the situation specifically demands.\n",
    "\n",
    "The most important way to familiarize yourself with the semantics is this:\n",
    "\n",
    "        Choose one template and stick with it.\n",
    "\n",
    "Below is an explanation of the template that I personaly use, which is also the template displayed in section 1."
   ]
  },
  {
   "cell_type": "code",
   "execution_count": null,
   "metadata": {},
   "outputs": [],
   "source": [
    "#Search for lowest value >= target\n",
    "def upper_bsearch(arr, target):\n",
    "    lo, hi = -1, n-1\n",
    "    while hi-lo>1:\n",
    "        mid = lo+(hi-lo)//2\n",
    "        if arr[mid] < target:\n",
    "            lo = mid\n",
    "        else:\n",
    "            hi = mid\n",
    "    return hi"
   ]
  },
  {
   "attachments": {},
   "cell_type": "markdown",
   "metadata": {},
   "source": [
    "We are looking for target, in an array.\n",
    "\n",
    "More specificallly, we're looking for the lowest value that's greater than or equal to the target.\n",
    "\n",
    "This will either be the first occurrence of the target value in the array (if there are one or more of that element), or the first occurrence of a greater value (if the target value isn't in the array). Contrast this with the other template in section 1, which will find either the *last* occurrence of the target value, or the last occurrence of a lesser value respectively.\n",
    "\n",
    "How do we ensure that this exact code fits this exact function? To do so we need to understand the exact semantics of this template.\n",
    "\n",
    "First, the break condition."
   ]
  },
  {
   "cell_type": "code",
   "execution_count": 3,
   "metadata": {},
   "outputs": [
    {
     "data": {
      "text/plain": [
       "'\\nwhile hi-lo>1:\\n'"
      ]
     },
     "execution_count": 3,
     "metadata": {},
     "output_type": "execute_result"
    }
   ],
   "source": [
    "'''\n",
    "while hi-lo>1:\n",
    "'''"
   ]
  },
  {
   "attachments": {},
   "cell_type": "markdown",
   "metadata": {},
   "source": [
    "The loop will run until hi is exactly lo+1, aka until hi and lo are pointing to neighboring elements.\n",
    "\n",
    "Knowing this, we can safely set lo = mid or hi = mid without needing to worry about getting into an infinite loop:"
   ]
  },
  {
   "cell_type": "code",
   "execution_count": null,
   "metadata": {},
   "outputs": [],
   "source": [
    "'''\n",
    " while hi-lo>1:\n",
    "        mid = lo+(hi-lo)//2\n",
    "        if arr[mid] < target:\n",
    "            lo = mid\n",
    "        else:\n",
    "            hi = mid\n",
    "'''"
   ]
  },
  {
   "attachments": {},
   "cell_type": "markdown",
   "metadata": {},
   "source": [
    "Then the question becomes: when do we set lo to mid vs. hi to mid? We can think of this as when to increase lo, or decrease hi.\n",
    "\n",
    "We only want to increase lo to mid if mid is a potential candidate for a lower bound, in the end-state where lo will be exactly hi-1. Similarly, we only want to decrease hi to mid if mid is a viable candidate for the upper bound. In practice, this could map to a few different things, depending on exactly what we want our ending two bounds to be. Are we looking for the first occurrence of the target value? In that case, lo should always increase to any number that's less than the target value, and hi should always decrease to any number that's greater than or equal to the target value.\n",
    "\n",
    "In that case, we want to return hi, but if in another instance, we didn't want to find target, but we wanted to find the greatest value less than target, we would use the exact same loop but return lo. Similarly, if we want to find the last occurrence of the target value, we increase low to mid whenever mid is less than or equal to the target value, decrease hi otherwise, and then return lo. And if we wanted to find the index of the first element greater than the target (also known as an insertion point), we would perform that same loop and then return hi.\n",
    "\n",
    "There's only a few other things to note. One small offhand thing is the difference between saying ` mid=(hi+lo)//2 `, and saying ` mid = lo+(hi-lo)//2 `. These are both the same logic, and in python there is no difference. However the second is slightly preferable for venerated coders, purely for the reason that ` hi+lo ` can cause an integer overflow, whereas ` lo+(hi-lo)//2 ` never exceeds the average between the two.\n",
    "\n",
    "The last thing to look at is the predicate. We've discussed why the comparison would be <, or <=. But not all predicates look like this. For example, say we're playing a guessing game with someone. We can guess a number, and the other person tells us if it's greater than the number they're thinking of. This is almost the same scenario as binary searching through a sorted array, as is common with these applications, except that there's no array; only guessing individual numbers. Here, our predicate would not be ` if arr[mid] < target: `, but rather it would be ` if guess(mid): `. This binary search strategy can be extrapolated to optimize in many situations, using the intuition below:"
   ]
  },
  {
   "attachments": {},
   "cell_type": "markdown",
   "metadata": {},
   "source": [
    "An advanced understanding of binary searches includes not only the \"how,\" but also the \"when\" of how and when to use them.\n",
    "\n",
    "While binary searches are almost always talked about in the context of searching for an element in a sorted sequence, their use extends beyond this context. In fact, potential applications for binary searches show up everywhere. It often takes a keen eye to see where an optimization can be made with a binary search over a linear search. But this has the potential to make code run orders of magnitude faster.\n",
    "\n",
    "To go over all uses would be impossible, but it is well worth providing some intuition for how to tell when a binary search could use implemented.\n",
    "\n",
    "        What are the conditions required for a binary search to work?\n",
    "\n",
    "        1. Monotonicity\n",
    "\n",
    "In short - is the array sorted? But more broadly, is the searchspace sorted? There isn't always directly a specific ordered data structure that binary searches traverse. The important quality is that, for any element in a given searchspace, if the predicate evaluates to false, all elements to one side of that will evaluate to false. And if that element's predicate evaluates to true, then all elements to the other side of that will evaluate to true. For example, say you're searching through a sorted array to find the index of a given value. If a given element is greater than the target value, its predicate will evaluate a certain way, and all elements greater than that value will evaluate the same way. So if it's too large, so will all elements larger than the element being tested. Likewise, if an element is smaller than the target value, so are all elements smaller than that. This gives sorted arrays the monotonicity that allows them to be traversed through a binary search.    \n",
    "\n",
    "        2. A predicate\n",
    "\n",
    "Some sort of boolean evalutation that decides if you want to seach the first half of your searchspace, or the second half of your searchspace. You take a pivot point, halfway between your left and right bounds, and then evaluate it with this predicate. For example, if you are binary searching a sorted array for a specific element, your predicate would evaluate, is your midpoint greater than or less than the target value?"
   ]
  },
  {
   "attachments": {},
   "cell_type": "markdown",
   "metadata": {},
   "source": [
    "## Introduction\n",
    "\n",
    "Below is a detailed explanation of exactly what a binary search is. This is meant to acquaint you with binary searches, if you're not familiar with them. Take the following example:"
   ]
  },
  {
   "cell_type": "code",
   "execution_count": null,
   "metadata": {},
   "outputs": [],
   "source": [
    "arr = [0,1,2,3,4,5,6,7,8,9,10,11,12,13,14,15,16,17,18,19,20,21,22,23,24,25,26,27,28,29,30,31]"
   ]
  },
  {
   "attachments": {},
   "cell_type": "markdown",
   "metadata": {},
   "source": [
    "Now say we're looking for the number 22. Where is it in the array? Is it in the array?\n",
    "\n",
    "In this example, we can see that the array is just a range from 0-31. So knowing that, we could just deduce that, yes it's in the array, at the 16th index. But what if the array looked more like this:"
   ]
  },
  {
   "cell_type": "code",
   "execution_count": null,
   "metadata": {},
   "outputs": [],
   "source": [
    "arr = [0,1,3,7,8,9,9,13,14,14,15,16,16,16,16,17,20,21,25,25,29,30,30,30,31,31,32,32,35,39,41,47]"
   ]
  },
  {
   "attachments": {},
   "cell_type": "markdown",
   "metadata": {},
   "source": [
    "Now we need to traverse through the array somehow to "
   ]
  }
 ],
 "metadata": {
  "kernelspec": {
   "display_name": "Python 3",
   "language": "python",
   "name": "python3"
  },
  "language_info": {
   "codemirror_mode": {
    "name": "ipython",
    "version": 3
   },
   "file_extension": ".py",
   "mimetype": "text/x-python",
   "name": "python",
   "nbconvert_exporter": "python",
   "pygments_lexer": "ipython3",
   "version": "3.10.9"
  },
  "orig_nbformat": 4
 },
 "nbformat": 4,
 "nbformat_minor": 2
}
