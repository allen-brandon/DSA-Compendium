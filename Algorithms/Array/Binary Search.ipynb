{
 "cells": [
  {
   "attachments": {},
   "cell_type": "markdown",
   "metadata": {},
   "source": [
    "## Overview\n",
    "\n",
    "##### This file outlines binary searches in their entirety. \"Binary Search\" is a specific algorithm with an exact purpose; it allows you to find an element in a sorted array, performing O(logn) operations rather than O(n) operations. There are 3 sections in this file:\n",
    "\n",
    "\n",
    "##### 1. An exact quickhand template for various binary searches, to see the exact code.\n",
    "\n",
    "        > If you are looking for a quick template to copy-paste or analyze, go here.\n",
    "\n",
    "\n",
    "##### 2. A guide on the nuances of when and how binary searches are used.\n",
    "\n",
    "        > If you are looking to better an existing understanding of binary searches, go here.\n",
    "\n",
    "\n",
    "##### 3. An introduction to what a binary search is, with examples.\n",
    "\n",
    "        > If you are looking to learn about this topic from a place of little understanding, go here.\n",
    "\n",
    "Written by Brandon\n",
    "        "
   ]
  },
  {
   "attachments": {},
   "cell_type": "markdown",
   "metadata": {},
   "source": [
    "## Template\n",
    "\n",
    "Below are exact templates. There are various styles, and specific uses that each template can achieve:"
   ]
  },
  {
   "attachments": {},
   "cell_type": "markdown",
   "metadata": {},
   "source": [
    "## Guide\n",
    "\n",
    "It is relatively easy to understand the purpose and mechanism for a binary search. However they are notorious for "
   ]
  },
  {
   "attachments": {},
   "cell_type": "markdown",
   "metadata": {},
   "source": [
    "While binary searches are almost always talked about in the context of searching for an element in a sorted sequence, their use extends beyond this context. In fact, potential applications for binary searches show up everywhere. It often takes a keen eye to see where an optimization can be made with a binary search over a linear search. But this has the potential to make code run orders of magnitude faster.\n",
    "\n",
    "To go over all uses would be impossible, but it is well worth providing some intuition for how to tell when a binary search could use implemented.\n",
    "\n",
    "Firstly, what are the conditions required for a binary search to work?"
   ]
  },
  {
   "attachments": {},
   "cell_type": "markdown",
   "metadata": {},
   "source": [
    "Binary searches are notorious for off-by-1 errors and infinite loops. This is because there's a large contrast between the simplicity of the concept of a binary search, and the complications that arise in implementation. As seen in the above templates, there are multiple ways to structure a binary search, that are almost exactly the same as one anohter. For example, you could search for the lowest element >= x, or the highest element <= x. Many people encounter these issues and spend a reliable 10 or 15 minutes tweaking the code until finally they happen upon the correct implementation.\n",
    "\n",
    "It doesn't have to be this way. The key to not wasting time and effort finnicking around with the code is to understand the semantics very specifically. A surface level understanding would be, \"evaluate mid. If it's less than the target, the lower bound goes to mid, or else the upper bound goes to mid.\" That's a solid understanding of the overall approach but it isn't sufficient under further questioning. \"Do we include mid when narrowing the window?\" \"Which bound do we return?\" \"Do we evaluate mid <= target or mid < target?\" Answers to these questions are elusive unless you understand the exact semantics of the bounds, as well as what the situation specifically demands.\n",
    "\n",
    "The most important way to familiarize yourself with the semantics is this:\n",
    "\n",
    "        Choose one template and stick with it.\n",
    "\n",
    "Below is an explanation of the template that I personaly use."
   ]
  },
  {
   "attachments": {},
   "cell_type": "markdown",
   "metadata": {},
   "source": [
    "## Introduction\n",
    "\n",
    "Below is a detailed explanation of exactly what a binary search is. This is meant to acquaint you with binary searches, if you're not familiar with them. Take the following example:"
   ]
  },
  {
   "cell_type": "code",
   "execution_count": null,
   "metadata": {},
   "outputs": [],
   "source": [
    "arr = [0,1,2,3,4,5,6,7,8,9,10,11,12,13,14,15,16,17,18,19,20,21,22,23,24,25,26,27,28,29,30,31]"
   ]
  },
  {
   "attachments": {},
   "cell_type": "markdown",
   "metadata": {},
   "source": [
    "Now say we're looking for the number 22. Where is it in the array? Is it in the array?\n",
    "\n",
    "In this example, we can see that the array is just a range from 0-31. So knowing that, we could just deduce that, yes it's in the array, at the 16th index. But what if the array looked more like this:"
   ]
  },
  {
   "cell_type": "code",
   "execution_count": null,
   "metadata": {},
   "outputs": [],
   "source": [
    "arr = [0,1,3,7,8,9,9,13,14,14,15,16,16,16,16,17,20,21,25,25,29,30,30,30,31,31,32,32,35,39,41,47]"
   ]
  },
  {
   "attachments": {},
   "cell_type": "markdown",
   "metadata": {},
   "source": [
    "Now we need to traverse through the array somehow to "
   ]
  }
 ],
 "metadata": {
  "kernelspec": {
   "display_name": "Python 3",
   "language": "python",
   "name": "python3"
  },
  "language_info": {
   "name": "python",
   "version": "3.10.9"
  },
  "orig_nbformat": 4
 },
 "nbformat": 4,
 "nbformat_minor": 2
}
