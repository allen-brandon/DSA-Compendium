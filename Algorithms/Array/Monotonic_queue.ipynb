{
 "cells": [
  {
   "attachments": {},
   "cell_type": "markdown",
   "metadata": {},
   "source": [
    "# Overview\n",
    "\n",
    "Monotonic Queue\n",
    "\n",
    "Written By Ayo Osonowo"
   ]
  },
  {
   "cell_type": "code",
   "execution_count": 2,
   "metadata": {},
   "outputs": [],
   "source": [
    "# Increasing monotonic queue with max size k\n",
    "def func(nums,k):\n",
    "    q = deque()\n",
    "    ans = []\n",
    "    for i, x in enumerate(nums):\n",
    "        while q and nums[q[-1]] < x:\n",
    "            q.pop()\n",
    "        q.append(i)\n",
    "        if q[0] == i - k:\n",
    "            q.popleft()\n",
    "        if i>=k-1:\n",
    "            ans.append(nums[q[0]])\n",
    "    return ans"
   ]
  },
  {
   "cell_type": "code",
   "execution_count": null,
   "metadata": {},
   "outputs": [],
   "source": [
    "# Decreasing monotonic queue with max size k\n",
    "def func(nums,k):\n",
    "    q = deque()\n",
    "    ans = []\n",
    "    for i, x in enumerate(nums):\n",
    "        while q and nums[q[-1]] > x:\n",
    "            q.pop()\n",
    "        q.append(i)\n",
    "        if q[0] == i - k:\n",
    "            q.popleft()\n",
    "        if i>=k-1:\n",
    "            ans.append(nums[q[0]])\n",
    "    return ans"
   ]
  }
 ],
 "metadata": {
  "kernelspec": {
   "display_name": "Python 3",
   "language": "python",
   "name": "python3"
  },
  "language_info": {
   "codemirror_mode": {
    "name": "ipython",
    "version": 3
   },
   "file_extension": ".py",
   "mimetype": "text/x-python",
   "name": "python",
   "nbconvert_exporter": "python",
   "pygments_lexer": "ipython3",
   "version": "3.10.7"
  },
  "orig_nbformat": 4
 },
 "nbformat": 4,
 "nbformat_minor": 2
}
