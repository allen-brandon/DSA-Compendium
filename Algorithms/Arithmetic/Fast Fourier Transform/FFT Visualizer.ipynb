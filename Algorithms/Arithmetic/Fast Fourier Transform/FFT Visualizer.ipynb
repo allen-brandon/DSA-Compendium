{
 "cells": [
  {
   "cell_type": "code",
   "execution_count": 6,
   "metadata": {},
   "outputs": [],
   "source": [
    "from manim import *\n",
    "import numpy as np\n",
    "\n",
    "SOFT_ORANGE = '#FFA07A'\n",
    "EQUATION = (lambda x: 2*x**3 + 5*x**2 + x + 8, 4, '2x^3 + 5x^2 + x + 8')\n",
    "EQUATION = (lambda x: 1.5*x**5 + -x**4 + 2*x**3 + 5*x**2 - 10*x + 8, 6, '1.5x^5 - x^4 + 2x^3 + 5x^2 - 10x + 8')\n",
    "POINT_OFFSET = 0\n",
    "\n",
    "class EquivalenceScene(Scene):\n",
    "    def construct(self):\n",
    "        equation = EQUATION\n",
    "        polynomial, rank, description = equation\n",
    "        axes = Axes(\n",
    "            x_range=[-2, 2, 0.5],\n",
    "            y_range=[-10, 30, 5],\n",
    "            axis_config={\"color\": BLUE_B},\n",
    "        )\n",
    "\n",
    "        #Plot\n",
    "        graph = axes.plot(polynomial, color=YELLOW_B)\n",
    "        graph_label = axes.get_graph_label(graph, label=description)\n",
    "        graph_label.to_corner(UL).scale(0.7)\n",
    "        self.play(Create(axes), Create(graph), Write(graph_label))\n",
    "\n",
    "        #Points\n",
    "        x_points = np.linspace(-1.5-POINT_OFFSET/2, 1.5+POINT_OFFSET/4, rank)\n",
    "        y_points = polynomial(x_points)\n",
    "        dots = [Dot(axes.coords_to_point(x, y), color=RED) for x, y in zip(x_points, y_points)]\n",
    "        labels = [Tex(f\"({round(x, 5)}, {int(round(y))})\", font_size=24).next_to(dot, UP) for x, y, dot in zip(x_points, y_points, dots)]\n",
    "        coordinate_animations = [Create(dot) for dot in dots] + [Write(label) for label in labels]\n",
    "        self.play(AnimationGroup(*coordinate_animations, lag_ratio=0.1))\n",
    "        self.wait(2)\n",
    "\n",
    "        #Isolate Points\n",
    "        self.play(FadeOut(graph))\n",
    "        self.play(FadeOut(axes))\n",
    "        \n",
    "        #Emphasize symmetry\n",
    "        graph_label.generate_target()\n",
    "        # graph_label.target.to_corner(UL)\n",
    "        equals_sign = Tex(\"=\", font_size=24).next_to(graph_label.target, RIGHT)\n",
    "        self.play(\n",
    "            MoveToTarget(graph_label),\n",
    "            FadeIn(equals_sign),\n",
    "        )\n",
    "        prev = equals_sign\n",
    "        for index, label in enumerate(labels):\n",
    "            label.generate_target()\n",
    "            label.target.next_to(prev, RIGHT)\n",
    "            prev = label.target\n",
    "        coordinate_movements = [MoveToTarget(label) for index, label in enumerate(labels)]\n",
    "        self.play(AnimationGroup(*coordinate_movements, lag_ratio=0.3))\n",
    "        self.wait(1)\n",
    "        \n",
    "        #Replot\n",
    "        self.play(Create(graph))\n",
    "        self.wait(5)"
   ]
  },
  {
   "cell_type": "code",
   "execution_count": 7,
   "metadata": {},
   "outputs": [
    {
     "name": "stderr",
     "output_type": "stream",
     "text": [
      "                                                                                                      \r"
     ]
    },
    {
     "data": {
      "text/html": [
       "<video src=\"media/jupyter/PolynomialScene@2024-03-07@10-08-44.mp4\" controls autoplay loop style=\"max-width: 60%;\"  >\n",
       "      Your browser does not support the <code>video</code> element.\n",
       "    </video>"
      ],
      "text/plain": [
       "<IPython.core.display.Video object>"
      ]
     },
     "metadata": {},
     "output_type": "display_data"
    }
   ],
   "source": [
    "# First Polynomial-Value Equivalence Illustration\n",
    "EQUATION = (lambda x: 2*x**3 + 5*x**2 + x + 8, 4, '2x^3 + 5x^2 + x + 8')\n",
    "# %manim -ql -v WARNING EquivalenceScene\n",
    "%manim -ql -v WARNING -o Coef-Point-Equivalence1 PolynomialScene"
   ]
  },
  {
   "cell_type": "code",
   "execution_count": 8,
   "metadata": {},
   "outputs": [
    {
     "name": "stderr",
     "output_type": "stream",
     "text": [
      "                                                                                                                       \r"
     ]
    },
    {
     "data": {
      "text/html": [
       "<video src=\"media/jupyter/PolynomialScene@2024-03-07@10-08-46.mp4\" controls autoplay loop style=\"max-width: 60%;\"  >\n",
       "      Your browser does not support the <code>video</code> element.\n",
       "    </video>"
      ],
      "text/plain": [
       "<IPython.core.display.Video object>"
      ]
     },
     "metadata": {},
     "output_type": "display_data"
    }
   ],
   "source": [
    "# Second Polynomial-Value Equivalence Illustration\n",
    "EQUATION = (lambda x: 1.5*x**5 + -x**4 + 2*x**3 + 5*x**2 - 10*x + 8, 6, '1.5x^5 - x^4 + 2x^3 + 5x^2 - 10x + 8')\n",
    "%manim -ql -v WARNING -o Coef-Point-Equivalence2 EquivalenceScene"
   ]
  },
  {
   "cell_type": "code",
   "execution_count": 9,
   "metadata": {},
   "outputs": [
    {
     "name": "stderr",
     "output_type": "stream",
     "text": [
      "                                                                                                                        \r"
     ]
    },
    {
     "data": {
      "text/html": [
       "<video src=\"media/jupyter/PolynomialScene@2024-03-07@10-08-50.mp4\" controls autoplay loop style=\"max-width: 60%;\"  >\n",
       "      Your browser does not support the <code>video</code> element.\n",
       "    </video>"
      ],
      "text/plain": [
       "<IPython.core.display.Video object>"
      ]
     },
     "metadata": {},
     "output_type": "display_data"
    }
   ],
   "source": [
    "# Second Polynomial-Value Illustration with different points\n",
    "# %manim -ql -v WARNING PolynomialScene\n",
    "POINT_OFFSET = 1\n",
    "%manim -ql -v WARNING -o Coef-Point-Equivalence3 EquivalenceScene\n",
    "POINT_OFFSET = 0"
   ]
  },
  {
   "cell_type": "code",
   "execution_count": null,
   "metadata": {},
   "outputs": [],
   "source": []
  }
 ],
 "metadata": {
  "kernelspec": {
   "display_name": "Python 3",
   "language": "python",
   "name": "python3"
  },
  "language_info": {
   "codemirror_mode": {
    "name": "ipython",
    "version": 3
   },
   "file_extension": ".py",
   "mimetype": "text/x-python",
   "name": "python",
   "nbconvert_exporter": "python",
   "pygments_lexer": "ipython3",
   "version": "3.13.1"
  }
 },
 "nbformat": 4,
 "nbformat_minor": 2
}
