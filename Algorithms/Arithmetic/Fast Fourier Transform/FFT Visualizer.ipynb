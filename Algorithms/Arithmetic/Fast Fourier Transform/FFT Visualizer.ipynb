{
 "cells": [
  {
   "cell_type": "code",
   "execution_count": 136,
   "metadata": {},
   "outputs": [],
   "source": [
    "from manim import *\n",
    "import numpy as np\n",
    "\n",
    "SOFT_ORANGE = '#FFA07A'\n",
    "EQUATION = (lambda x: 2*x**3 + 5*x**2 + x + 8, 4, '2x^3 + 5x^2 + x + 8')\n",
    "EQUATION = (lambda x: 1.5*x**5 + -x**4 + 2*x**3 + 5*x**2 - 10*x + 8, 6, '1.5x^5 - x^4 + 2x^3 + 5x^2 - 10x + 8')\n",
    "\n",
    "class PolynomialGraph(Scene):\n",
    "    def construct(self):\n",
    "        equation = EQUATION\n",
    "        polynomial, rank, description = equation\n",
    "        axes = Axes(\n",
    "            x_range=[-2, 2, 0.5],\n",
    "            y_range=[-10, 30, 5],\n",
    "            axis_config={\"color\": BLUE_B},\n",
    "        )\n",
    "\n",
    "        #Plot\n",
    "        graph = axes.plot(polynomial, color=YELLOW_B)\n",
    "        graph_label = axes.get_graph_label(graph, label=description)\n",
    "        graph_label.to_corner(UL).scale(0.7)\n",
    "        self.play(Create(axes), Create(graph), Write(graph_label))\n",
    "\n",
    "        #Points\n",
    "        x_points = np.linspace(-1.5, 1.5, rank)\n",
    "        y_points = polynomial(x_points)\n",
    "        dots = [Dot(axes.coords_to_point(x, y), color=RED) for x, y in zip(x_points, y_points)]\n",
    "        labels = [Tex(f\"({round(x, 5)}, {int(round(y))})\", font_size=24).next_to(dot, UP) for x, y, dot in zip(x_points, y_points, dots)]\n",
    "        coordinate_animations = [Create(dot) for dot in dots] + [Write(label) for label in labels]\n",
    "        self.play(AnimationGroup(*coordinate_animations, lag_ratio=0.1))\n",
    "        self.wait(2)\n",
    "\n",
    "        #Isolate Points\n",
    "        self.play(FadeOut(graph))\n",
    "        self.play(FadeOut(axes))\n",
    "        \n",
    "        #Emphasize symmetry\n",
    "        graph_label.generate_target()\n",
    "        graph_label.target.to_corner(DL)\n",
    "        equals_sign = Tex(\"=\", font_size=24).next_to(graph_label.target, RIGHT)\n",
    "        self.play(\n",
    "            MoveToTarget(graph_label),\n",
    "            FadeIn(equals_sign),\n",
    "        )\n",
    "        prev = equals_sign\n",
    "        for index, label in enumerate(labels):\n",
    "            label.generate_target()\n",
    "            label.target.next_to(prev, RIGHT)\n",
    "            prev = label.target\n",
    "        coordinate_movements = [MoveToTarget(label) for index, label in enumerate(labels)]\n",
    "        self.play(AnimationGroup(*coordinate_movements, lag_ratio=0.3))\n",
    "        self.wait(1)\n",
    "        \n",
    "        #Replot\n",
    "        self.play(Create(graph))\n",
    "        self.wait(5)"
   ]
  },
  {
   "cell_type": "code",
   "execution_count": 141,
   "metadata": {},
   "outputs": [
    {
     "name": "stderr",
     "output_type": "stream",
     "text": [
      "                                                                                                      \r"
     ]
    },
    {
     "ename": "FileNotFoundError",
     "evalue": "[Errno 2] No such file or directory: 'media/jupyter/PolynomialGraph@2024-03-06@11-52-39.mp4'",
     "output_type": "error",
     "traceback": [
      "\u001b[0;31m---------------------------------------------------------------------------\u001b[0m",
      "\u001b[0;31mFileNotFoundError\u001b[0m                         Traceback (most recent call last)",
      "Cell \u001b[0;32mIn[141], line 2\u001b[0m\n\u001b[1;32m      1\u001b[0m EQUATION \u001b[38;5;241m=\u001b[39m (\u001b[38;5;28;01mlambda\u001b[39;00m x: \u001b[38;5;241m2\u001b[39m\u001b[38;5;241m*\u001b[39mx\u001b[38;5;241m*\u001b[39m\u001b[38;5;241m*\u001b[39m\u001b[38;5;241m3\u001b[39m \u001b[38;5;241m+\u001b[39m \u001b[38;5;241m5\u001b[39m\u001b[38;5;241m*\u001b[39mx\u001b[38;5;241m*\u001b[39m\u001b[38;5;241m*\u001b[39m\u001b[38;5;241m2\u001b[39m \u001b[38;5;241m+\u001b[39m x \u001b[38;5;241m+\u001b[39m \u001b[38;5;241m8\u001b[39m, \u001b[38;5;241m4\u001b[39m, \u001b[38;5;124m'\u001b[39m\u001b[38;5;124m2x^3 + 5x^2 + x + 8\u001b[39m\u001b[38;5;124m'\u001b[39m)\n\u001b[0;32m----> 2\u001b[0m \u001b[43mget_ipython\u001b[49m\u001b[43m(\u001b[49m\u001b[43m)\u001b[49m\u001b[38;5;241;43m.\u001b[39;49m\u001b[43mrun_line_magic\u001b[49m\u001b[43m(\u001b[49m\u001b[38;5;124;43m'\u001b[39;49m\u001b[38;5;124;43mmanim\u001b[39;49m\u001b[38;5;124;43m'\u001b[39;49m\u001b[43m,\u001b[49m\u001b[43m \u001b[49m\u001b[38;5;124;43m'\u001b[39;49m\u001b[38;5;124;43m-ql -v WARNING PolynomialGraph\u001b[39;49m\u001b[38;5;124;43m'\u001b[39;49m\u001b[43m)\u001b[49m\n",
      "File \u001b[0;32m~/Library/Python/3.11/lib/python/site-packages/IPython/core/interactiveshell.py:2417\u001b[0m, in \u001b[0;36mInteractiveShell.run_line_magic\u001b[0;34m(self, magic_name, line, _stack_depth)\u001b[0m\n\u001b[1;32m   2415\u001b[0m     kwargs[\u001b[38;5;124m'\u001b[39m\u001b[38;5;124mlocal_ns\u001b[39m\u001b[38;5;124m'\u001b[39m] \u001b[38;5;241m=\u001b[39m \u001b[38;5;28mself\u001b[39m\u001b[38;5;241m.\u001b[39mget_local_scope(stack_depth)\n\u001b[1;32m   2416\u001b[0m \u001b[38;5;28;01mwith\u001b[39;00m \u001b[38;5;28mself\u001b[39m\u001b[38;5;241m.\u001b[39mbuiltin_trap:\n\u001b[0;32m-> 2417\u001b[0m     result \u001b[38;5;241m=\u001b[39m \u001b[43mfn\u001b[49m\u001b[43m(\u001b[49m\u001b[38;5;241;43m*\u001b[39;49m\u001b[43margs\u001b[49m\u001b[43m,\u001b[49m\u001b[43m \u001b[49m\u001b[38;5;241;43m*\u001b[39;49m\u001b[38;5;241;43m*\u001b[39;49m\u001b[43mkwargs\u001b[49m\u001b[43m)\u001b[49m\n\u001b[1;32m   2419\u001b[0m \u001b[38;5;66;03m# The code below prevents the output from being displayed\u001b[39;00m\n\u001b[1;32m   2420\u001b[0m \u001b[38;5;66;03m# when using magics with decodator @output_can_be_silenced\u001b[39;00m\n\u001b[1;32m   2421\u001b[0m \u001b[38;5;66;03m# when the last Python token in the expression is a ';'.\u001b[39;00m\n\u001b[1;32m   2422\u001b[0m \u001b[38;5;28;01mif\u001b[39;00m \u001b[38;5;28mgetattr\u001b[39m(fn, magic\u001b[38;5;241m.\u001b[39mMAGIC_OUTPUT_CAN_BE_SILENCED, \u001b[38;5;28;01mFalse\u001b[39;00m):\n",
      "File \u001b[0;32m/opt/homebrew/lib/python3.11/site-packages/manim/utils/ipython_magic.py:163\u001b[0m, in \u001b[0;36mManimMagic.manim\u001b[0;34m(self, line, cell, local_ns)\u001b[0m\n\u001b[1;32m    156\u001b[0m tmpfile \u001b[38;5;241m=\u001b[39m (\n\u001b[1;32m    157\u001b[0m     Path(config[\u001b[38;5;124m\"\u001b[39m\u001b[38;5;124mmedia_dir\u001b[39m\u001b[38;5;124m\"\u001b[39m])\n\u001b[1;32m    158\u001b[0m     \u001b[38;5;241m/\u001b[39m \u001b[38;5;124m\"\u001b[39m\u001b[38;5;124mjupyter\u001b[39m\u001b[38;5;124m\"\u001b[39m\n\u001b[1;32m    159\u001b[0m     \u001b[38;5;241m/\u001b[39m \u001b[38;5;124mf\u001b[39m\u001b[38;5;124m\"\u001b[39m\u001b[38;5;132;01m{\u001b[39;00m_generate_file_name()\u001b[38;5;132;01m}\u001b[39;00m\u001b[38;5;132;01m{\u001b[39;00mlocal_path\u001b[38;5;241m.\u001b[39msuffix\u001b[38;5;132;01m}\u001b[39;00m\u001b[38;5;124m\"\u001b[39m\n\u001b[1;32m    160\u001b[0m )\n\u001b[1;32m    162\u001b[0m \u001b[38;5;28;01mif\u001b[39;00m local_path \u001b[38;5;129;01min\u001b[39;00m \u001b[38;5;28mself\u001b[39m\u001b[38;5;241m.\u001b[39mrendered_files:\n\u001b[0;32m--> 163\u001b[0m     \u001b[38;5;28;43mself\u001b[39;49m\u001b[38;5;241;43m.\u001b[39;49m\u001b[43mrendered_files\u001b[49m\u001b[43m[\u001b[49m\u001b[43mlocal_path\u001b[49m\u001b[43m]\u001b[49m\u001b[38;5;241;43m.\u001b[39;49m\u001b[43munlink\u001b[49m\u001b[43m(\u001b[49m\u001b[43m)\u001b[49m\n\u001b[1;32m    164\u001b[0m \u001b[38;5;28mself\u001b[39m\u001b[38;5;241m.\u001b[39mrendered_files[local_path] \u001b[38;5;241m=\u001b[39m tmpfile\n\u001b[1;32m    165\u001b[0m tmpfile\u001b[38;5;241m.\u001b[39mparent\u001b[38;5;241m.\u001b[39mmkdir(parents\u001b[38;5;241m=\u001b[39m\u001b[38;5;28;01mTrue\u001b[39;00m, exist_ok\u001b[38;5;241m=\u001b[39m\u001b[38;5;28;01mTrue\u001b[39;00m)\n",
      "File \u001b[0;32m/opt/homebrew/Cellar/python@3.11/3.11.5/Frameworks/Python.framework/Versions/3.11/lib/python3.11/pathlib.py:1147\u001b[0m, in \u001b[0;36mPath.unlink\u001b[0;34m(self, missing_ok)\u001b[0m\n\u001b[1;32m   1142\u001b[0m \u001b[38;5;250m\u001b[39m\u001b[38;5;124;03m\"\"\"\u001b[39;00m\n\u001b[1;32m   1143\u001b[0m \u001b[38;5;124;03mRemove this file or link.\u001b[39;00m\n\u001b[1;32m   1144\u001b[0m \u001b[38;5;124;03mIf the path is a directory, use rmdir() instead.\u001b[39;00m\n\u001b[1;32m   1145\u001b[0m \u001b[38;5;124;03m\"\"\"\u001b[39;00m\n\u001b[1;32m   1146\u001b[0m \u001b[38;5;28;01mtry\u001b[39;00m:\n\u001b[0;32m-> 1147\u001b[0m     os\u001b[38;5;241m.\u001b[39munlink(\u001b[38;5;28mself\u001b[39m)\n\u001b[1;32m   1148\u001b[0m \u001b[38;5;28;01mexcept\u001b[39;00m \u001b[38;5;167;01mFileNotFoundError\u001b[39;00m:\n\u001b[1;32m   1149\u001b[0m     \u001b[38;5;28;01mif\u001b[39;00m \u001b[38;5;129;01mnot\u001b[39;00m missing_ok:\n",
      "\u001b[0;31mFileNotFoundError\u001b[0m: [Errno 2] No such file or directory: 'media/jupyter/PolynomialGraph@2024-03-06@11-52-39.mp4'"
     ]
    }
   ],
   "source": [
    "EQUATION = (lambda x: 2*x**3 + 5*x**2 + x + 8, 4, '2x^3 + 5x^2 + x + 8')\n",
    "%manim -ql -v WARNING PolynomialGraph"
   ]
  },
  {
   "cell_type": "code",
   "execution_count": null,
   "metadata": {},
   "outputs": [],
   "source": [
    "# Second Polynomial\n",
    "EQUATION = (lambda x: 1.5*x**5 + -x**4 + 2*x**3 + 5*x**2 - 10*x + 8, 6, '1.5x^5 - x^4 + 2x^3 + 5x^2 - 10x + 8')\n",
    "%manim -ql -v WARNING -o PolynomialGraph2 PolynomialGraph"
   ]
  }
 ],
 "metadata": {
  "kernelspec": {
   "display_name": "Python 3",
   "language": "python",
   "name": "python3"
  },
  "language_info": {
   "codemirror_mode": {
    "name": "ipython",
    "version": 3
   },
   "file_extension": ".py",
   "mimetype": "text/x-python",
   "name": "python",
   "nbconvert_exporter": "python",
   "pygments_lexer": "ipython3",
   "version": "3.11.5"
  }
 },
 "nbformat": 4,
 "nbformat_minor": 2
}
