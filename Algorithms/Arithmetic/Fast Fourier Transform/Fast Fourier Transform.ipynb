{
 "cells": [
  {
   "cell_type": "markdown",
   "metadata": {},
   "source": [
    "Fast Fourier Transform, or FFT for short is an algorithm to compute the corresponding Fourier Sequence to a given sequence of values. The same underlying logic can be used to calculate a corresponding sequence of values, given a Fourier Sequence. This transformation is referred to as the Discrete Fourier Transform (DFT), and in essense the FFT algorithm is calculating the DFT matrix.\n",
    "\n",
    "This is one of the most famous algorithms out there, and it has far-reaching uses in almost any field that employs numerical calculations. It is a brilliant optimization over a brute-force approach, O(n^2) time complexity, using divide and conquer to calculate the fourier transform in O(nlogn). The FFT uses heavily the complex exponential function, $e^{ix} = \\cos(x) + i\\sin(x)$, to translate between point values and polynomial values.\n"
   ]
  },
  {
   "cell_type": "code",
   "execution_count": null,
   "metadata": {},
   "outputs": [],
   "source": [
    "#Template"
   ]
  },
  {
   "cell_type": "markdown",
   "metadata": {},
   "source": [
    "Before even talking about the functioning of the FFT, it is important to discuss what its purpose even is. The FFT is often talked about in the context of signals; translating between the time domain and the frequency domain. While this explanation offers some insight into the real world applications of the FFT, it does little to illustrate what the FFT actually does, in generalized terms. Given the many symmetries that exist in the world of mathematics, there are analogous transformations to the time/frequency domain transformation, that are clearer examples of a Fourier Transformation. In this article, the FFT is discussed in the context of the coefficient/value domains.\n",
    "\n",
    "This is perhaps the simplest conceptualization of the FFT; the transformation between a polynomial's coefficients and its values. This is called evaluation. The inverse, finding a polynomial's coefficients from its values, is called interpolation. Each polynomial will have exactly one value at any given point (as it is a function), and if there at least as many points as the number of terms in the polynomial, then a given set of points can reconstruct the exact polynomial. Most people intuitively understand the most limited version of this, that two points define exactly one line. This extends to any number of points. Three points will always define exactly one $f(x) = m_2 x^2 + m_1 x + b$ equation.\n",
    "\n",
    "As a quick example, say three points are colinear. We know that a quadratic polynomial would describe these points with a 0 in the $x^2$ coefficient (e.g. there is no curvature). This isomorphism between a polynomial's coefficients, and its values at specific inputs, extends to any rank of polynomial.\n",
    "\n",
    "So at a given set of inputs, every curve has exactly one set of points. And "
   ]
  },
  {
   "cell_type": "code",
   "execution_count": null,
   "metadata": {},
   "outputs": [],
   "source": []
  },
  {
   "cell_type": "markdown",
   "metadata": {},
   "source": [
    "FAQ:\n",
    "\n",
    "Q: When translating between values and coefficients, what happens if there are less values than coefficients we are looking for?\n",
    "\n",
    "A: This is effectively a system of equations with more unknowns than knowns, so there could be any number of lines that pass through these points, though one could garner some information about those lines. As a quick visual example, trying to theorize all of the 4th degree polynomials that describe 3 points would involve drawing any shape of 'S' that passes through all points.\n",
    "\n",
    "\n",
    "\n",
    "Q: Does the DFT/IDFT help with non-roots of unity?\n",
    "\n",
    "A: No. Evaluation at non-roots of unity is outside the scope of the FFT, and has quadratic time complexity.\n",
    "\n",
    "\n",
    "\n",
    "Q: What are roots of unity again?\n",
    "\n",
    "A: An nth root of unity is a complex number which, when raised to the nth power, is 1. So the 1st, root of unity is 1, the 2nd roots of unity are $\\{1, -1\\}$, the fourth roots of unity are $\\{1, -1, i, -i\\}$, etc.\n",
    "\n",
    "\n",
    "\n",
    "Q: If *$\\{1, -1\\} \\in \\mathbb{R}$*, and *$\\{1, -1, i, -i\\} \\in \\mathbb{C}$*, then wouldn't *$\\{ \\text{8th roots of unity} \\} \\in \\mathbb{H}$*? If $\\sqrt{-1} = i$, isn't $\\sqrt{-i} = q$, where $q$ is Hamiltonian?\n",
    "\n",
    "A: No. $\\mathbb{R}$, the set of all real numbers, is not algebraically complete. Algebraic completeness means that, for any non-constant (e.g. non-zero) polynomial expression, there is at least one solution in that number system. $\\mathbb{C}$, unlike $\\mathbb{R}$, is algebraically complete. So for any polynomial expression, real or complex, it has at least one root in the complex number system.\n",
    "\n",
    "The Fundamental Theorem of Algebra states exactly that; \"Every non-constant single-variable polynomial with complex coefficients has at least one complex root.\" The only exceptions are things like dividing by 0, trying to derive a single-variable solution from multiple variables, or using higher-dimension number systems to begin, none of which invalidate algebraic completeness. In short, while solutions to $\\sqrt{-1}$ necessitate an extention from $\\mathbb{R} \\rightarrow \\mathbb{C}$, $\\sqrt{-i}$ requires no such extension $\\mathbb{C} \\rightarrow \\mathbb{H}$.\n",
    "\n",
    "$\\sqrt{-i}$ can be rewritten as $\\frac{1 - i}{\\sqrt{2}}$, which has two roots: $e^{-\\frac{i\\pi}{4}}$, and $e^{\\frac{3i\\pi}{4}}$."
   ]
  },
  {
   "cell_type": "markdown",
   "metadata": {},
   "source": [
    "https://www.youtube.com/watch?v=h7apO7q16V0&t=479s\n",
    "Explanation of FFT for polynomial multiplication\n",
    "\n",
    "https://math.stackexchange.com/questions/1916870/what-is-the-relation-between-quaternions-and-imaginary-numbers\n",
    "Relationship between Real, Complex and Hamiltoniam Numbers\n",
    "\n",
    "https://en.wikipedia.org/wiki/Root_of_unity\n",
    "Description of roots of unity\n",
    "\n",
    "https://en.wikipedia.org/wiki/Fundamental_theorem_of_algebra\n",
    "Description of the complex field as algebraically complete"
   ]
  },
  {
   "cell_type": "code",
   "execution_count": null,
   "metadata": {},
   "outputs": [],
   "source": []
  }
 ],
 "metadata": {
  "language_info": {
   "name": "python"
  }
 },
 "nbformat": 4,
 "nbformat_minor": 2
}
