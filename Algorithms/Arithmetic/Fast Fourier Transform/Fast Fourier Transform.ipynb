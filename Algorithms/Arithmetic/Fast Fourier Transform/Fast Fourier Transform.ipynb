{
 "cells": [
  {
   "cell_type": "markdown",
   "metadata": {},
   "source": [
    "Fast Fourier Transform, or FFT for short is an algorithm to compute the corresponding Fourier Sequence to a given sequence of values. The same underlying logic can be used to calculate a corresponding sequence of values, given a Fourier Sequence. This transformation is referred to as the Discrete Fourier Transform (DFT), and in essense the FFT algorithm is calculating the DFT matrix.\n",
    "\n",
    "This is one of the most famous algorithms out there, and it has far-reaching uses in almost any field that employs numerical calculations. It is a brilliant optimization over a brute-force approach, O(n^2) time complexity, using divide and conquer to calculate the fourier transform in O(nlogn). The FFT uses heavily the complex exponential function, $e^{ix} = \\cos(x) + i\\sin(x)$, to translate between point values and polynomial values.\n"
   ]
  },
  {
   "cell_type": "code",
   "execution_count": null,
   "metadata": {},
   "outputs": [],
   "source": [
    "#Template"
   ]
  },
  {
   "cell_type": "markdown",
   "metadata": {},
   "source": [
    "Before even talking about the functioning of the FFT, it is important to discuss what its purpose even is. The FFT is often talked about in the context of signals; translating between the time domain and the frequency domain. While this explanation offers some insight into the real world applications of the FFT, it does little to illustrate what the FFT actually does, in generalized terms. Given the many symmetries that exist in the world of mathematics, there are analogous transformations to the time/frequency domains, that are clearer examples of a Fourier Transformation.\n",
    "\n",
    "Perhaps the clearest way to explain the FFT is to dscribe the transformation between a polynomial's coefficients and its values. This is called evaluation. The inverse, finding a polynomial's coefficients from its values, is called interpolation. Each polynomial will have exactly one value at any given point, and if there at least as many points as the number of terms in the polynomial, then a given set of points can reconstruct the exact polynomial. Most people know that two points define a line; but three points will always define an exact $f(x) = m_2 x^2 + m_1 x + b$ equation. As a quick example, say three points are colinear. We know that a quadratic polynomial would describe these points with a 0 in the $x^2$ coefficient. This isomorphism between a polynomial's coefficients, and its values at specific inputs, extends to any rank of polynomial."
   ]
  },
  {
   "cell_type": "markdown",
   "metadata": {},
   "source": [
    "https://www.youtube.com/watch?v=h7apO7q16V0&t=479s"
   ]
  },
  {
   "cell_type": "code",
   "execution_count": null,
   "metadata": {},
   "outputs": [],
   "source": []
  }
 ],
 "metadata": {
  "language_info": {
   "name": "python"
  }
 },
 "nbformat": 4,
 "nbformat_minor": 2
}
