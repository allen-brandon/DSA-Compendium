{
 "cells": [
  {
   "cell_type": "markdown",
   "metadata": {},
   "source": [
    "Fast Fourier Transform is an algorithm to compute the corresponding Fourier Sequence to a given sequence of values. The same underlying logic can be used to calculate a corresponding sequence of values, given a Fourier Sequence. This transformation is referred to as the Discrete Fourier Transform (DFT), and in essense the FFT algorithm is calculating the DFT matrix.\n",
    "\n",
    "This is one of the most famous algorithms there is, and it has far-reaching uses in almost any field that employs numerical calculations. It is a brilliant optimization over a brute-force approach, O(n^2) time complexity, using divide and conquer to calculate the fourier transform in O(nlogn). The FFT uses heavily the complex exponential function, $e^{ix} = \\cos(x) + i\\sin(x)$, to translate between point values and sinusoidal values.\n",
    "\n"
   ]
  },
  {
   "cell_type": "code",
   "execution_count": null,
   "metadata": {},
   "outputs": [],
   "source": []
  },
  {
   "cell_type": "markdown",
   "metadata": {},
   "source": [
    "https://www.youtube.com/watch?v=h7apO7q16V0&t=479s"
   ]
  }
 ],
 "metadata": {
  "language_info": {
   "name": "python"
  }
 },
 "nbformat": 4,
 "nbformat_minor": 2
}
