{
 "cells": [
  {
   "cell_type": "markdown",
   "metadata": {},
   "source": [
    "# Modular Arithmetic"
   ]
  },
  {
   "cell_type": "markdown",
   "metadata": {},
   "source": [
    "##### This file outlines Modular Arithmetic essentials. This is any arithmetic operation on numbers that are expressed as the remainder of a given modulus. There are 3 sections in this file:\n",
    "\n",
    "##### 1. An exact quickhand template of the exact code\n",
    "\n",
    "        > If you are looking for a quick template to copy-paste or analyze, go to the Template.\n",
    "\n",
    "\n",
    "##### 2. Notes on the nuances of when and how the technique is used.\n",
    "\n",
    "        > If you are looking to better an existing understanding of modular arithmetic, go to the Notes section.\n",
    "\n",
    "\n",
    "##### 3. A Guide to how to write the algorithm of data structure, with examples.\n",
    "\n",
    "        > If you are looking to learn about modular arithmetic from a place of little understanding, go to the Guide at the end.\n",
    "\n",
    "Please cite this if you referenced this article, and share with your friends if you found this helpful!\n",
    "\n",
    "Written by Brandon"
   ]
  },
  {
   "cell_type": "markdown",
   "metadata": {},
   "source": [
    "# Template"
   ]
  },
  {
   "cell_type": "markdown",
   "metadata": {},
   "source": [
    "Quick access to code\n",
    "\n",
    "* Code will only work when the element is coprime to the modulus\n",
    "* 3 pieces of code:\n",
    "* Modular inverse (using Extended Euclidean Algorithm)\n",
    "* Modular inverse (Using Euler's Theorem)\n",
    "* Modular Division\n",
    "* O(1) time and space complexity (given integers are bounded to a constant)"
   ]
  },
  {
   "cell_type": "code",
   "execution_count": 2,
   "metadata": {},
   "outputs": [],
   "source": [
    "import math\n",
    "# Modular Inverse\n",
    "# Using Extended Euclidean Algorithm\n",
    "\n",
    "# O(log(min(a, mod)))\n",
    "def xgcd(a, mod):\n",
    "    x, y = 0, 1\n",
    "    lx, ly = 1, 0\n",
    "    while a:\n",
    "        mod, q, a = a, mod//a, mod%a\n",
    "        x, lx = lx, x - q*lx\n",
    "        y, ly = ly, y - q*ly\n",
    "    return mod, x, y\n",
    "\n",
    "# Given two intevers a and mod, find the modular inverse of a under modulo mod.\n",
    "# O(log(a))\n",
    "def modinv(a, mod):\n",
    "    g, x, _ = xgcd(a, mod)\n",
    "    if g != 1:\n",
    "        raise ValueError(f'{a} has no inverse modulo {mod} because they are not coprime')\n",
    "    return x%mod"
   ]
  },
  {
   "cell_type": "code",
   "execution_count": 49,
   "metadata": {},
   "outputs": [],
   "source": [
    "# Modular Inverse\n",
    "# Using Euler's Theorem\n",
    "import math\n",
    "from functools import cache\n",
    "# Totient Function\n",
    "#Find the number of coprime numbers to n less than n\n",
    "#Can substitute logic for a pre-cached sieve if this is being called many times\n",
    "#O(sqrt(n))\n",
    "@cache\n",
    "def totient(n):\n",
    "    ret = n\n",
    "    fac = 2\n",
    "    while n > 1 and fac*fac <= n:\n",
    "        if not n%fac:\n",
    "            ret *= fac-1\n",
    "            ret//=fac\n",
    "            n//=fac\n",
    "            while not n%fac:\n",
    "                n//=fac\n",
    "        fac+=1\n",
    "    if n > 1:\n",
    "        ret *= n-1\n",
    "        ret//=n\n",
    "    return ret\n",
    "\n",
    "#Given two integers a and mod, find the modular inverse of a under modulo mod.\n",
    "#O(sqrt(n))\n",
    "def modinv(a, mod):\n",
    "    if math.gcd(a, mod) != 1:\n",
    "        raise ValueError(f'{a} has no inverse modulo {mod} because they are not coprime')\n",
    "    return pow(a, totient(mod)-1, mod)"
   ]
  },
  {
   "cell_type": "code",
   "execution_count": 32,
   "metadata": {},
   "outputs": [],
   "source": [
    "#Euler's Theorem Shorthand\n",
    "# ** Only works if mod is prime **\n",
    "#O(log(mod))\n",
    "def modinv(a, mod):\n",
    "    return pow(a, mod - 2, mod)"
   ]
  },
  {
   "cell_type": "code",
   "execution_count": 47,
   "metadata": {},
   "outputs": [],
   "source": [
    "# Modular Division\n",
    "import math\n",
    "\n",
    "def xgcd(a, mod):\n",
    "    x, y = 0, 1\n",
    "    lx, ly = 1, 0\n",
    "    while a:\n",
    "        mod, q, a = a, mod//a, mod%a\n",
    "        x, lx = lx, x - q*lx\n",
    "        y, ly = ly, y - q*ly\n",
    "    return mod, x, y\n",
    "\n",
    "\n",
    "def modinv(a, mod):\n",
    "    g, x, _ = xgcd(a, mod)\n",
    "    if g != 1:\n",
    "        raise ValueError(f'{a} has no inverse modulo {mod} because they are not coprime')\n",
    "    return x%mod\n",
    "\n",
    "# Given three integers a, b, and mod, find the modular division of a/b modulo mod.\n",
    "#O(log(mod))\n",
    "def moddiv(a, b, mod):\n",
    "    return a*modinv(b, mod)%mod\n",
    "\n",
    "#Can also call pow(a, -1, mod) in Python >= v3.8"
   ]
  },
  {
   "cell_type": "markdown",
   "metadata": {},
   "source": [
    "## FAQ\n",
    "\n",
    "Below are nuances and clarifications on Modular Arithmetic. If you're looking for a basic understanding, skip to the Guide section."
   ]
  },
  {
   "cell_type": "markdown",
   "metadata": {},
   "source": [
    "* Q: What is a modular multiplicative inverse?\n",
    "\n",
    "A: The inverse of a number a, with a given modulus m, is a number b, such that (a * b)%m == 1. This is only possible if a and m are coprime.\n",
    "\n",
    "* Q: What's the realistic use-case for a modular multiplicative inverse?\n",
    "\n",
    "A: Most of the time modular multiplicative inverses are used to divide two numbers, that have been expressed as the remainder of some coprime modulus. If a and b are expressed as remainders of some m, regular arithmetic division cannot calculate (a/b)%m, given a%m and b%m. Rather than attempting regular arithmetic division to find c, one can simply find the multiplicative inverse of b mod(m), and multiply a by this multiplicative inverse. This shows up in number theory, cryptography, and is common in competitive programming.\n",
    "\n",
    "* Q: Why are only some elements invertible, given a modulus?\n",
    "\n",
    "A: An invertible element a, by definition, has a multiplicative inverse b for a given m where (a * b)%m == 1. If a isn't coprime with m, then there is no b for which (a * b)%m == 1. For example, if a == 4, and m == 12, any product with a mod(m) of a will be in the set {4, 8, 0}. The number of invertible elements is the amount of numbers below n, that are coprime with n, or ϕ(n).\n",
    "\n",
    "* Q: Why does th Euler's Theorem approach use Euler's Totient Function?\n",
    "\n",
    "A: Euler's Totient function ϕ(m) returns the number of integers up to n that are coprime to m. Euler's Theorem states for any a and m that are coprime, (a<sup>ϕ(m)</sup>)%m == 1. So to find the modular multiplicative inverse of a, we can find a<sup>ϕ(m)-1</sup>, which, when multiplied with a, will be 1. For any a that is coprime with m, the length of the cycle formed by powers of a will be a factor of ϕ(m). When m is prime this ring's length is exactly ϕ(m), or m-1, but with non-prime moduli, there could be multiple rings with differing lengths. Regardless, in order to obtain the last element in the ring(a, m) before 1, one can simply find a<sup>ϕ(m)-1</sup>, without ever deriving the length of the given ring formed by a mod m. The formula for ϕ(m) used above is Euler's product formula.\n",
    "\n",
    "* Q: Why does the approach using Euler's Theorem have a conditional shorthand for prime moduli?\n",
    "\n",
    "A: As described below, a number and its modular multiplicative inverse cycle through finite rings in either direction, given a modulus. The rings are isomorphic to the multiplicative relationship between integers and their multiples in regular arithmetic. For example, the powers of two are 2, 4, 8, 16, 32, 64, 128, etc. Taken modulo 3, this maps to 2:2, 4:1, 8:2, ... 1, 2, 1, 2, 1, 2, 1 etc. For non-prime moduli, the amount and lengths of these rings are variable, and depend on the primitive roots of a modulus. But for prime moduli, there is only 1 ring, and its cycle is length m-1. Above, when ϕ(m)-1 is used to find a<sup>-1</sup>, when ϕ(m) == m-1, we can simplify ϕ(m)-1 to m-2, and simply take a<sup>m-2</sup> to find its modular multiplicative inverse, a<sup>-1</sup>, only when m is prime."
   ]
  },
  {
   "cell_type": "markdown",
   "metadata": {},
   "source": [
    "## Guide\n",
    "\n",
    "Below is a detailed explanation of exactly what a modular inverse is, as well as a refresher on other modular operations."
   ]
  },
  {
   "cell_type": "markdown",
   "metadata": {},
   "source": [
    "This article so far talks about the difficult part of modular arithmetic; the part that involves calculating and using modular inverses. Everything else is fairly straightforward, because the isomorphisms between modular arithmetic and regular arithmetic are straightforward:\n",
    "\n",
    "For addition, subtraction and multiplication:\n",
    "\n",
    "* (a+b)%m = (a%m + b%m)%m\n",
    "\n",
    "* (a-b)%m = (a%m - b%m)%m\n",
    "\n",
    "* (a*b)%m = (a%m * b%m)%m\n",
    "\n",
    "For example, say a = 45, b = 76, c = 7:\n",
    "\n",
    "* a+b = (45+76)%7 = 121%7 = 2.\n",
    "\n",
    "    ((a%7)+(b%7))%7 = (45%7 + 76%7)%7 = (3+6)%7 = 9%7 = 2.\n",
    "\n",
    "* (a-b)%7 = (45-76)%7 = -31%7 = 4.\n",
    "\n",
    "    ((a%7)-(b%7))%7 = (45%7 - 76%7)%7 = (3-6)%7 = -3%7 = 4.\n",
    "\n",
    "* a * b = (45 * 76)%7 = (3420)%7 = 4.\n",
    "\n",
    "    ((a%7) * (b%7))%7 = (45%7 * 76%7)%7 = (3 * 6)%7 = 18%7 = 4."
   ]
  },
  {
   "cell_type": "markdown",
   "metadata": {},
   "source": [
    "This just leaves division as tricky, both functionally and conceptually.\n",
    "\n",
    "For example, say a = 540, b = 45, mod = 7:\n",
    "\n",
    "We know that a/b = 540/45 = 12, and 12%7 = 5.\n",
    "\n",
    "But what if we already took 540%7 = 1, and 45%7 = 3?\n",
    "\n",
    "Now we're trying to find 1/3, and we're expecting 5. What does the expression '1/3 = 5' even mean in this context? Is it even possible to reliably derive 5 from 1/3?"
   ]
  },
  {
   "cell_type": "markdown",
   "metadata": {},
   "source": [
    "Yes, if the modulus is 7, we can assert that the result will always be 5 when a and b are 1 and 3, regardless of the original numbers before the modulo operation. Another quick example to illustrate this: a = 57, b = 3, mod = 7: (57/3)%7 = 5.\n",
    "\n",
    "Really what the expression (1/3) (mod 7) means here is, for all integers a/b where a%7 == 1 and b%7 == 3, (a/b)%7 == 5."
   ]
  },
  {
   "cell_type": "markdown",
   "metadata": {},
   "source": [
    "This is where the *modular muliplicative inverse* comes in. When a given remainder is multiplied by its inverse, the result is 1. For example, when m is 7, the modular multiplicative inverse of 2 is 4, because 2 * 4 = 8%7 = 1. No matter whether it's 2 * 4, 2 * 11, 2 * 18, 9 * 18, etc. the result will always be 1 when taken modulo 7.\n",
    "\n",
    "This can be likened to a multiplicative inverse to a matrix; in this separate arithmetic system (in this case modular arithmetic; in the case of matrices, matrix arithmetic), the inverse of a number is the number that, when multiplied by the original number, results in the identity element of the system (in this case, 1; in the case of matrices, the identity matrix). Just like the multiplicative inverse of a matrix, this is vaguely similar to (but unequivocally not) the reciprocal of a number in regular arithmetic.\n",
    "\n",
    "Similar to how multiplying by the reciprocal of a number is the same as dividing by that number (in regular arithmetic), multiplying a by the modular inverse of b is the same as finding (x/y)%m, where x%m is a and y%m is b, where x is divisibly by y (given some modulus m).\n",
    "\n",
    "An important part of modular arithmetic is the cyclical nature of its operations. For the hours on a clock (i.e. mod = 12), every time you add x to a number, it will wrap around to be somewhere in the range from 0 to 11. There is another cyclical pattern that appears. If you start with any number, and add increments of 3 hours, it will always wrap around to the same number every 4 increments (which corresponds to 12//3= 4). If you add increments of 4 hours, you will reach the same number every 3 increments. If you add increments of 7 hours (which is relatively prime to 12), it will take 12 increments to reach the same number; 7, 2, 9, 4, 11, 6, 1, 8, 3, 10, 5, 0, 7, 2 ... with a length of m/gcd(a, m).\n",
    "\n",
    "This cyclical quality is also true with multiplication. With all coprime elements below 12, when you multiply a number by x, it will repeat the same pattern of numbers. It's worth noting that the length of the ring formed will be a different function of a and m.\n",
    "\n",
    "If we start with a=1, and repeatedly multiply it by 7 and take mod 12, we get 1, 7, 1, 7 ...\n",
    "\n",
    "This doesn't cycle 12 times, because 12 isn't prime. If we took a = 1, b = 7 and mod = 11, we would get 1, 7, 5, 2, 3, 10, 4, 6, 9, 8, 1, 7 ... which cycles through 10 numbers. For 8, we get 1, 8, 9, 6, 4, 10, 3, 2, 5, 7, 1, 8, .... which is the same cycle backwards. We can double check that 8 is the modular inverse of 7 by comfirming that (7 * 8)%56 = 1.\n",
    "\n",
    "If we think about what b and its modular inverse for 11 (7 and 8) are doing, they're traversing through elements in opposite directions across the same cycle. This is a way of intuiting what it means for 7 and 8 to be modular multplicative inverses of each other. Multiplying any x by 7 (mod 11) is the same as dividing any y that's divisible by 8 (mod 11) by 8, if x%m == y%m.\n",
    "\n",
    "For example, 1234567%11 = 4, and 936720%11 = 4.\n",
    "\n",
    "1234567 * 7 = 8641969, and 8641969%11 = 6.\n",
    "\n",
    "936720 / 8 = 117090, and 117090%11 = 6.\n",
    "\n",
    "In a simplistic case where many numbers have been hashed with chain multiplication under a modulus, one could extract numbers from the hash, regardless of size, using the modular multiplicative inverse of remainders. In an array of 10<sup>10</sup> numbers each bounded to 10<sup>10</sup>, this allows the hash to be bounded to log<sub>2</sub>(m) bits, rather than log<sub>2</sub>((10<sup>10</sup>)<sup>10<sup>10</sup></sup>) bits, which is the difference between less than 100 bits (given a prime with 30 digits), and 12 gigabytes.\n",
    "\n",
    "That is exactly why, and how, one would use the modular multiplicative inverse. This is most commonly used to divide two numbers that have been taken modulo m."
   ]
  },
  {
   "cell_type": "markdown",
   "metadata": {},
   "source": [
    "References:\n",
    "\n",
    "1. Stack Overflow. (2019, May 28). How to calculate inverse modular exponentiation in C. Retrieved October 16, 2023, from https://stackoverflow.com/questions/56335032/how-to-calculate-inverse-modular-exponentation-in-c\n",
    "\n",
    "2. Stack Overflow. (2013, August 7). Computing Euler's totient function. Retrieved October 16, 2023, from https://stackoverflow.com/questions/18114138/computing-eulers-totient-function\n",
    "\n",
    "3. Wikibooks. (n.d.). Algorithm implementation/Mathematics/Extended Euclidean algorithm#Modular inverse. Retrieved October 16, 2023, from https://en.wikibooks.org/wiki/Algorithm_Implementation/Mathematics/Extended_Euclidean_algorithm#Modular_inverse\n",
    "\n",
    "4. Wikipedia. (n.d.). Modular multiplicative inverse#Modular arithmetic. Retrieved October 16, 2023, from https://en.wikipedia.org/wiki/Modular_multiplicative_inverse#Modular_arithmetic\n",
    "\n",
    "5. Rosetta Code. (n.d.). Modular inverse#Python. Retrieved October 16, 2023, from https://www.rosettacode.org/wiki/Modular_inverse#Python\n",
    "\n",
    "6. Wikipedia. (n.d.). Multiplicative group of integers modulo n. Retrieved October 16, 2023, from https://en.wikipedia.org/wiki/Multiplicative_group_of_integers_modulo_n\n",
    "\n",
    "7. MathWorld. (n.d.). Modulo multiplication group. Retrieved October 16, 2023, from https://mathworld.wolfram.com/ModuloMultiplicationGroup.html\n",
    "\n",
    "8. Arapura, D. (n.d.). Notes on algebra. Retrieved October 16, 2023, from https://www.math.purdue.edu/~arapura/algebra/algebra8.pdf\n",
    "\n",
    "9. Wikipedia. (n.d.). Extended Euclidean algorithm. Retrieved October 16, 2023, from https://en.wikipedia.org/wiki/Extended_Euclidean_algorithm"
   ]
  }
 ],
 "metadata": {
  "kernelspec": {
   "display_name": "Python 3",
   "language": "python",
   "name": "python3"
  },
  "language_info": {
   "codemirror_mode": {
    "name": "ipython",
    "version": 3
   },
   "file_extension": ".py",
   "mimetype": "text/x-python",
   "name": "python",
   "nbconvert_exporter": "python",
   "pygments_lexer": "ipython3",
   "version": "3.11.5"
  },
  "orig_nbformat": 4
 },
 "nbformat": 4,
 "nbformat_minor": 2
}
