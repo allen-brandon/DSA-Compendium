{
 "cells": [
  {
   "cell_type": "markdown",
   "metadata": {},
   "source": [
    "The Newton-Raphson Root Method (hereon refered to as the Newton Method) is a root-finding algorithm for real functions. In essense it repeatedly calculates the tangent line of a function at a given point, finds the x-intercept of that line, and repeats the process at that new point. This method employs the derivative of a given function to provide increasingly accurate estimations to find a root of a given method."
   ]
  },
  {
   "cell_type": "code",
   "execution_count": null,
   "metadata": {},
   "outputs": [],
   "source": [
    "#Template:\n",
    "\n",
    "#function, derivative of that function, starting point, desired accuracy, maximum calculations, slope threshold\n",
    "def newtonian_root(f, f_prime, x=0, acc=1e-5, ma=int(1e6), thresh=1e-5):\n",
    "    for _ in range(ma):\n",
    "        y = f(x)\n",
    "        slope = f_prime(x)\n",
    "        if abs(slope)<thresh: break\n",
    "        new_x = x - y/slope\n",
    "        if abs(x-new_x) < acc: return new_x\n",
    "        x = new_x\n",
    "    raise ValueError(\"Root not found.\")"
   ]
  },
  {
   "cell_type": "markdown",
   "metadata": {},
   "source": [
    "Notes:\n",
    "\n",
    "This has erratic behaviors around local minima, as points around local minima that are very close together can lead to drastically different points in the next iteration.\n",
    "\n",
    "Maximum calculations need to be specified, in order to prevent a loop or some other divergent iteration from going on infinitely.\n",
    "\n"
   ]
  },
  {
   "cell_type": "markdown",
   "metadata": {},
   "source": [
    "https://en.wikipedia.org/wiki/Newton%27s_method"
   ]
  }
 ],
 "metadata": {
  "language_info": {
   "name": "python"
  }
 },
 "nbformat": 4,
 "nbformat_minor": 2
}
