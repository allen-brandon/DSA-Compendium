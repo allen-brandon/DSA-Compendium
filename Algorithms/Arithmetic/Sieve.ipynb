{
 "cells": [
  {
   "cell_type": "code",
   "execution_count": null,
   "metadata": {},
   "outputs": [],
   "source": [
    "#Binary value of whether a number is prime\n",
    "sieve = [1]*int(1e6)\n",
    "sieve[0] = 0\n",
    "sieve[1] = 0\n",
    "for i in range(2, int(1e6)):\n",
    "    if not sieve[i]: continue\n",
    "    for j in range(i*2, int(1e6), i):\n",
    "        sieve[j] = 0\n",
    "\n",
    "#List of primes\n",
    "primes = [i for i in range(int(1e6)) if sieve[i]]\n",
    "# print(primes)"
   ]
  }
 ],
 "metadata": {
  "language_info": {
   "name": "python"
  }
 },
 "nbformat": 4,
 "nbformat_minor": 2
}
