{
 "cells": [
  {
   "cell_type": "markdown",
   "metadata": {},
   "source": [
    "GCD, or Greatest Common Denominator, is a concept that occurs often in number theory. It is often used to evaluate whether a number is prime, or whether two numbers are relatively prime (e.g. their GCD is 1).\n",
    "The GCD can be calculated very quickly, by repeatedly calculating the modulus between two numbers. This is called the Euclidean Algorithm. The time complexity of this calculation is O(log(min(a, b)))"
   ]
  },
  {
   "cell_type": "code",
   "execution_count": 1,
   "metadata": {},
   "outputs": [
    {
     "name": "stdout",
     "output_type": "stream",
     "text": [
      "2\n",
      "1\n",
      "9\n"
     ]
    }
   ],
   "source": [
    "#Iterative\n",
    "def gcd(a, b):\n",
    "    while b:\n",
    "        a, b = b, a%b\n",
    "    return a\n",
    "print(gcd(10, 12))\n",
    "print(gcd(10, 11))\n",
    "print(gcd(57894543261657, 5049318654315))"
   ]
  },
  {
   "cell_type": "code",
   "execution_count": 2,
   "metadata": {},
   "outputs": [
    {
     "name": "stdout",
     "output_type": "stream",
     "text": [
      "2\n",
      "1\n",
      "9\n"
     ]
    }
   ],
   "source": [
    "#Recursive\n",
    "def gcd(a, b):\n",
    "    if not b: return a\n",
    "    return gcd(b, a%b)\n",
    "# print(gcd(10, 12))\n",
    "# print(gcd(10, 11))\n",
    "# print(gcd(57894543261657, 5049318654315))"
   ]
  }
 ],
 "metadata": {
  "kernelspec": {
   "display_name": "Python 3",
   "language": "python",
   "name": "python3"
  },
  "language_info": {
   "codemirror_mode": {
    "name": "ipython",
    "version": 3
   },
   "file_extension": ".py",
   "mimetype": "text/x-python",
   "name": "python",
   "nbconvert_exporter": "python",
   "pygments_lexer": "ipython3",
   "version": "3.11.5"
  }
 },
 "nbformat": 4,
 "nbformat_minor": 2
}
