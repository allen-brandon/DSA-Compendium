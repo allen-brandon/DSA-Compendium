{
 "cells": [
  {
   "cell_type": "markdown",
   "metadata": {},
   "source": [
    "# Binary Matrix Exponentiation"
   ]
  },
  {
   "cell_type": "markdown",
   "metadata": {},
   "source": [
    "This article covers Binary Exponentiation for square matrices."
   ]
  },
  {
   "cell_type": "markdown",
   "metadata": {},
   "source": [
    "# Template"
   ]
  },
  {
   "cell_type": "markdown",
   "metadata": {},
   "source": [
    "Quick access to code\n",
    "\n",
    "\n",
    "* mat == the matrix to exponentiate\n",
    "* k == the power to exponentiate to\n",
    "* n == the side-length of mat\n",
    "\n",
    "\n",
    "O(n^3 log k) time complexity,\n",
    "O(n^2) space complexity"
   ]
  },
  {
   "cell_type": "code",
   "execution_count": 2,
   "metadata": {},
   "outputs": [],
   "source": [
    "#Brute force matrix multiplication\n",
    "#Don't copy this if you have another, quicker matrix multiplication algorithm\n",
    "#O(n^3) when n == m == l, as is always true in exponentiation\n",
    "def mult(a, b, mod = int(1e9+7)):\n",
    "    m, n = len(a), len(a[0])\n",
    "    l = len(b[0])\n",
    "    #In case this algorithm gets used outside of exponentiation\n",
    "    if n != len(b): raise IndexError(\"Matrices don't have compatible dimensions to be multiplied\")\n",
    "\n",
    "    res = [[0]*l for _ in range(m)]\n",
    "    for i in range(m):\n",
    "        for j in range(l):\n",
    "            #Take the dot product of each row of a with each column of b\n",
    "            res[i][j] = sum([a[i][k]*b[k][j] for k in range(n)])%mod\n",
    "    return res\n",
    "\n",
    "#Returns mat^k as a new array\n",
    "#O(n^3logk)\n",
    "#mat must be square\n",
    "def exponentiate(mat, k, mod = int(1e9+7)):\n",
    "    n = len(mat)\n",
    "    if len(mat[0]) != n: raise IndexError(\"Matrix must be square\")\n",
    "    #mat**0 is always identity, mat**1 is always itself\n",
    "    res = [[int(i==j) for j in range(n)] for i in range(n)]\n",
    "    coef = [row[:] for row in mat]\n",
    "    while k:\n",
    "        if k&1: res = mult(res, coef, mod)\n",
    "        coef = mult(coef, coef, mod)\n",
    "        k>>=1\n",
    "    return res"
   ]
  },
  {
   "cell_type": "markdown",
   "metadata": {},
   "source": [
    "## Notes\n",
    "\n",
    "Matrix Exponentiation is the direct combination of Matrix Multiplication and Binary Exponentiation. This is often used to quickly find the nth term in a system of linear recurrence relations."
   ]
  },
  {
   "cell_type": "markdown",
   "metadata": {},
   "source": [
    "* A<sup>n</sup> refers to A to the nth power.\n",
    "\n",
    "* I<sub>n</sub> refers to the identity matrix of size n (where n is often implicit).\n",
    "\n",
    "* <span>&#183;</span> refers to the (matrix) product operator between two matrices.\n",
    "\n",
    "As a quick refresher, the product C of two matrices A and B comprises the dot products of each row in A with each column in B, such that C[i][j] == the dot product between the ith row in A, and the jth column in B. The dot product between two vectors is the sum of the element from each vector multiplied together at each index.\n",
    "For example, the dot product of [1, 2, 3] and [4, 5, 6] is (1 * 4) + (2 * 5) + (3 * 6) = 32.\n",
    "\n",
    "## FAQ:\n",
    "\n",
    "* Can you take a matrix to a negative power?\n",
    "\n",
    "Yes, but only if it's invertible. Otherwise that operation is undefined. While matrix division is always an undefined operation, a A<sup>-1</sup> refers to its inverse, because A <span>&#183;</span> A<sup>-1</sup> == the identity matrix I<sub>n</sub>. This is just like how a number and its reciprocal always multiply to be one, and \"non-invertible\" numbers have no such reciprocal (e.g. 0).\n",
    "\n",
    "* What happens if it's a zero matrix?\n",
    "\n",
    "The same rules that apply to 0 apply to a zero matrix. A zero matrix isn't invertible, because nothing <span>&#183;</span> a zero matrix will reach an identity matrix (just like how 0 has no reciprocal). Therefore it's undefined when taken to a negative power. The dot product of everything with a zero matrix will always be a zero matrix, so a zero matrix to any positive power is itself. However a zero matrix to the zero power is I<sub>n</sub>, just as 0<sup>0</sup> is 1, just as 0<sup>0</sup> == 1, 0<sup>any other n</sup> == 0, and if the power is negative, then the result is undefined.\n",
    "\n",
    "* What happens if the matrix isn't square?\n",
    "\n",
    "For a non-square A, A<sup>n</sup> for any n is undefined. This is becuase the product of two incompatible matrices is undefined. One could argue that if A<sup>0</sup> and A<sup>1</sup> were to be defined, they would be I<sub>n</sub> and the original matrix, respectively. However the following logic refutes that assertion. The exponentiation function is a recursive function: <span>&#402;</span>(A, n) = <span>&#402;</span>(A, n-1) <span>&#183;</span> A = A <span>&#183;</span> <span>&#402;</span>(A, n-1), <span>&#402;</span>(A, 0) = I<sub>n</sub>. This does directly state that A<sup>0</sup> is manifestly always I<sub>n</sub>, and A<sup>1</sup> is manifestly always A, regardless of its shape. Asserting I<sub>n</sub>, and multiplying it by A are valid operations, for all dimensions of A. However, A<sup>1</sup> needs to equate to both A <span>&#183;</span> A<sup>0</sup>, and A<sup>0</sup> <span>&#183;</span> A, and only one of those terms is defined when A isn't square. Therefore it's safe to consider all non-square matrices to be undefined for any A<sup>n</sup>, as the power function is predicated on an undefined operation for those matrices. This intuitively makes sense, since the concept of taking any matrix to a power is predicated on multiplying it by itself.\n",
    "\n",
    "* Can you take a matrix to a fractional power?\n",
    "\n",
    "In most cases, it will not have a distinct solution unless it is a positive definite matrix. This is because, unlike with numbers, matrix multiplication is not Commutative. This means that A<sup>p/q</sup> equates to both A<sup>p</sup><span>&#183;</span>A<sup>-q</sup> and A<sup>-q</sup><span>&#183;</span>A<sup>p</sup>, which is only distinct when both of these result in the same matrix. This is beyond the scope of this algorithm, and the above code does not support non-natural exponentiation. For more information, read [This Article](https://nhigham.com/2020/12/08/what-is-a-fractional-matrix-power/).\n",
    "\n",
    "* Can you apply Binary Exponentiation other operations?\n",
    "\n",
    "Yes, under certain conditions. The operation must be associative, and the operation must be distributive over addition. This is because the algorithm relies on the fact that the exponent can be split into a sum of powers of 2, and that the operation can be distributed over addition. For example, you could calculate the product of two large numbers modulo m and avoid overflow, using binary exponentiation and adding together the products of each component. For more information, read [This Article](https://cp-algorithms.com/algebra/binary-exp.html).\n",
    "\n",
    "* Are there other ways to speed up matrix exponentiation?\n",
    "\n",
    "Yes. One such other method is called diagonalization. Diagonal matrices only have nonzero entries on the main diagonal (e.g. row i == column j). Multiplying diagonal matrices is trivial. The resulting matrix C by multiplying two square diagonal matrices A and B is the same as calculating the dot product of A and B's diagonal entries, and creating a new matrix with the resulting dot product of those diagonals as its diagonal. This means that the matrix multiplication algorithm used is no longer O(N<sup>3</sup>), but just O(n).\n",
    "Most matrices are not diagonal matrices, because they typically have nonzero entries outside of the main diagonal. However, many entries are *diagonalizable*, which means they are able to be represented as "
   ]
  },
  {
   "cell_type": "markdown",
   "metadata": {},
   "source": [
    "## Guide"
   ]
  },
  {
   "cell_type": "markdown",
   "metadata": {},
   "source": [
    "Matrix exponentiation is extremely straightforward when you understand Matrix Multiplication and Binary Exponentiation. Explanations of both of these concepts will be brief, but if they weren't included, there would be almost nothing to put in this section.\n",
    "\n",
    "Let's start with Matrix Multiplication. There are multiple algorithms for matrix multiplication, and this article uses the brute-force method; iterate through and multiply each row in the first matrix with each column in the second matrix. For example, when multiplying A<span>&#183;</span>B to get C, the dot product between A's 0th row and B's 0th row will yeild C[0][0]. The algorithm will involve three nested loops. One for each row in A, one for each column in B, and one to iterate through each element in both A's row and B's column to calculate the dot product."
   ]
  },
  {
   "cell_type": "code",
   "execution_count": 3,
   "metadata": {},
   "outputs": [],
   "source": [
    "## Matrix Multiplication ##\n",
    "#O(n^3)\n",
    "def mult(A, B, mod=int(1e9+7)):\n",
    "    #First we make sure that these matrices can be multiplied, or else we throw an error\n",
    "    if len(A[0]) != len(B): raise IndexError(\"Matrices don't have compatible dimensions to be multiplied\")\n",
    "    #Then we make a new matrix of the correct dimensions\n",
    "    res = [[0]*len(B[0]) for _ in range(len(A))]\n",
    "    #Then we take each row in A\n",
    "    for i in range(len(A)):\n",
    "        #And each column in B\n",
    "        for j in range(len(B[0])):\n",
    "            #And iterate through each element in the row/column\n",
    "            for k in range(len(B)):\n",
    "                #And add that to the dot product between A[i] and B[...][j]\n",
    "                res[i][j] += A[i][k]*B[k][j]\n",
    "                #We need to take the modulo, if we're working with very large numbers\n",
    "                #Which we will be, when we use this for exponentiation\n",
    "            res[i][j] %= mod\n",
    "    return res"
   ]
  },
  {
   "cell_type": "markdown",
   "metadata": {},
   "source": [
    "Now that we've defined a matrix multiplication function, we need to write the more obscure part of the code; the binary exponentiation.\n",
    "\n",
    "Let's start with binary exponentiation of a scalar, or a number, which in this context can be thought of as a 0-dimensional matrix. The goal of \"regular\" binary exponentiation is to take a number to a high power very quickly. A brute-force method would be to multiply X by itself Y times, which is directly following the recursive definition of a power. Multiplying X by itself is a log(X)<span>&#183;</span>log(log(X)) operation (rounded to log(X) here for the sake of simplicity), and this is done Y times, so the overall time complexity is O(YlogX), which is insufficient for extremely large powers. The trick for binary exponentiation is to recognize that X<span>&#183;</span>X == X<sup>2</sup>, therefore X<sup>n</sup><span>&#183;</span>X<sup>n</sup> == X<sup>2n</sup>. This means that, with one multiplication operation, we can double the size of the power that we're multiplying X by.\n",
    "\n",
    "For example, if we wanted to find X<sup>8</sup>, we could multiply X by itself 8 times (technically 7 multiplication operations if we're starting with X and not 1). Or, we could say Y == X<sup>2</sup>, Z == Y<sup>2</sup>, and P == Z<sup>2</sup>. In total, there were only three multiplication operations to reach X<sup>8</sup>, because we were multiplying successively larger numbers together.\n",
    "\n",
    "Now, all we need to do is recognize that the extremely large power K is just a sum of its binary representations. Similar to how 111 == 1 + 10 + 100(one hundred and eleven is just one plus ten plus one hundred), this exact equation holds true in binary as well: 111 == 001 + 010 + 100 (7 is one plus two plus four). So say K is 2,726. In binary this is 101010100110. If we take X<sup>2726</sup>, this equates to X<sup>0</sup> * X<sup>2</sup> * X<sup>4</sup> * X<sup>32</sup> * X<sup>128</sup> * X<sup>512</sup> + X<sup>2048</sup>. We can multiply all of the included powers of two, such as X<sup>2</sup>, and leave out all of the non-included powers of two, such as X<sup>1</sup>. This boils down to parsing through the binary of K, keeping track of X<sup>i</sup>, and multiplying our answer by X<sup>i</sup> if the ith bit of K is 1."
   ]
  },
  {
   "cell_type": "code",
   "execution_count": 4,
   "metadata": {},
   "outputs": [],
   "source": [
    "## Scalar Binary Exponentiation ##\n",
    "#O(lognloglognlogk)\n",
    "def exponentiate(x, k, mod=int(1e9+7)):\n",
    "    #We need an extra variable;\n",
    "    #One to keep track of the current power of X to add/not add to the result\n",
    "    #And one to keep track of the result\n",
    "    res = 1\n",
    "    while k:\n",
    "        #Check the smallest bit of k.\n",
    "        if k&1:\n",
    "            #If it's 1, we multiply the result by the current power of x\n",
    "            res*=x\n",
    "            #Take the modulo\n",
    "            #This is customary when working with very large numbers to prevent overflow\n",
    "            res%=mod\n",
    "        #Then we square our current power of x (and take the modulo)\n",
    "        x*=x\n",
    "        x%=mod\n",
    "        #And bitshift k to the right (divide it by 2)\n",
    "        #Which means the least significant bit is now the next power of 2\n",
    "        k>>=1\n",
    "    return res"
   ]
  },
  {
   "cell_type": "markdown",
   "metadata": {},
   "source": [
    "Now we just combine these two pieces of code, replacing scalar multiplication with matrix multiplication:"
   ]
  },
  {
   "cell_type": "code",
   "execution_count": 9,
   "metadata": {},
   "outputs": [],
   "source": [
    "#From Above\n",
    "#O(n^3)\n",
    "def mult(A, B, mod=int(1e9+7)):\n",
    "    if len(A[0]) != len(B): raise IndexError(\"Matrices don't have compatible dimensions to be multiplied\")\n",
    "    res = [[0]*len(B[0]) for _ in range(len(A))]\n",
    "    for i in range(len(A)):\n",
    "        for j in range(len(B[0])):\n",
    "            for k in range(len(B)):\n",
    "                res[i][j] += A[i][k]*B[k][j]\n",
    "            res[i][j] %= mod\n",
    "    return res\n",
    "\n",
    "#From Above\n",
    "#But with each multiplication operator replaced with matrix multiplication\n",
    "#O(N^3logk)\n",
    "## Scalar Binary Exponentiation ##\n",
    "#O(lognloglognlogk)\n",
    "def exponentiate(mat, k, mod=int(1e9+7)):\n",
    "    n = len(mat)\n",
    "    #First check that x can even be exponentiated\n",
    "    if len(mat[0]) != n: raise IndexError(\"Matrix must be square\")\n",
    "    #Create an identity matrix of the same dimensions as mat\n",
    "    res = [[int(i==j) for j in range(n)] for i in range(n)]\n",
    "    #Create a new matrix to keep track of the current power of mat\n",
    "    #This is because a matrix is mutable, unlike a scalar, \n",
    "    #It would be bad form to modify mat in-place when calculating mat^k\n",
    "    coef = [row[:] for row in mat]\n",
    "    while k:\n",
    "        if k&1:\n",
    "            res = mult(res, coef, mod)\n",
    "        coef = mult(coef, coef, mod)\n",
    "        k>>=1\n",
    "    return res\n"
   ]
  },
  {
   "cell_type": "markdown",
   "metadata": {},
   "source": [
    "Now we can test this with some examples. Anything to the 0th power should be the identity matrix, and anything to the 1st power should be itself. Beyond that it's hard to quickly validate the exact numbers, but we can see that they go up exponentially, which is exactly what we would expect!"
   ]
  },
  {
   "cell_type": "code",
   "execution_count": 10,
   "metadata": {},
   "outputs": [
    {
     "name": "stdout",
     "output_type": "stream",
     "text": [
      "Two by Two matrix exponentiation\n",
      "[1, 0]\n",
      "[0, 1]\n",
      "____________________\n",
      "[1, 2]\n",
      "[3, 4]\n",
      "____________________\n",
      "[7, 10]\n",
      "[15, 22]\n",
      "____________________\n",
      "[37, 54]\n",
      "[81, 118]\n",
      "____________________\n",
      "Three by Three matrix exponentiation\n",
      "[1, 0, 0]\n",
      "[0, 1, 0]\n",
      "[0, 0, 1]\n",
      "____________________\n",
      "[1, 2, 3]\n",
      "[4, 5, 6]\n",
      "[7, 8, 9]\n",
      "____________________\n",
      "[30, 36, 42]\n",
      "[66, 81, 96]\n",
      "[102, 126, 150]\n",
      "____________________\n",
      "[468, 576, 684]\n",
      "[1062, 1305, 1548]\n",
      "[1656, 2034, 2412]\n",
      "____________________\n"
     ]
    },
    {
     "data": {
      "text/plain": [
       "[None, None, None, None]"
      ]
     },
     "execution_count": 10,
     "metadata": {},
     "output_type": "execute_result"
    }
   ],
   "source": [
    "printm = lambda m: [print(row) for row in m] + [print(\"____________________\")]\n",
    "twoByTwo = [[1, 2], [3, 4]]\n",
    "threeByThree = [[1, 2, 3], [4, 5, 6], [7, 8, 9]]\n",
    "print(\"Two by Two matrix exponentiation\")\n",
    "printm(exponentiate(twoByTwo, 0))\n",
    "printm(exponentiate(twoByTwo, 1))\n",
    "printm(exponentiate(twoByTwo, 2))\n",
    "printm(exponentiate(twoByTwo, 3))\n",
    "print(\"Three by Three matrix exponentiation\")\n",
    "printm(exponentiate(threeByThree, 0))\n",
    "printm(exponentiate(threeByThree, 1))\n",
    "printm(exponentiate(threeByThree, 2))\n",
    "printm(exponentiate(threeByThree, 3))\n",
    "\n",
    "#Note, this lambda print function will display a list of a bunch of null values, because jupyter notebooks display the final object in a cell"
   ]
  },
  {
   "cell_type": "code",
   "execution_count": null,
   "metadata": {},
   "outputs": [],
   "source": []
  }
 ],
 "metadata": {
  "kernelspec": {
   "display_name": "Python 3",
   "language": "python",
   "name": "python3"
  },
  "language_info": {
   "codemirror_mode": {
    "name": "ipython",
    "version": 3
   },
   "file_extension": ".py",
   "mimetype": "text/x-python",
   "name": "python",
   "nbconvert_exporter": "python",
   "pygments_lexer": "ipython3",
   "version": "3.11.5"
  },
  "orig_nbformat": 4
 },
 "nbformat": 4,
 "nbformat_minor": 2
}
