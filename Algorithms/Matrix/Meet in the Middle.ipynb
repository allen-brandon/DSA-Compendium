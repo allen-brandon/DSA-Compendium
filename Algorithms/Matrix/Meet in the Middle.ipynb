{
 "cells": [
  {
   "cell_type": "code",
   "execution_count": null,
   "metadata": {},
   "outputs": [],
   "source": []
  },
  {
   "cell_type": "markdown",
   "metadata": {},
   "source": [
    "Related Problems:\n",
    "https://leetcode.com/problems/partition-array-into-two-arrays-to-minimize-sum-difference\n",
    "https://leetcode.com/problems/closest-subsequence-sum/"
   ]
  }
 ],
 "metadata": {
  "language_info": {
   "name": "python"
  },
  "orig_nbformat": 4
 },
 "nbformat": 4,
 "nbformat_minor": 2
}
