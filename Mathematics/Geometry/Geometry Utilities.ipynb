{
 "cells": [
  {
   "cell_type": "code",
   "execution_count": null,
   "metadata": {},
   "outputs": [],
   "source": [
    "import math\n",
    "\n",
    "#Slope formed by two points\n",
    "slope = lambda x1, y1, x2, y2: (y2-y1)/(x2-x1) if x1!=x2 else math.inf\n",
    "\n",
    "#Distance between two points\n",
    "dist = lambda x1, y1, x2, y2: math.sqrt((x2-x1)**2+(y2-y1)**2)\n"
   ]
  },
  {
   "cell_type": "code",
   "execution_count": null,
   "metadata": {},
   "outputs": [],
   "source": [
    "#Angle formed by three points\n",
    "#At point x2, y2\n",
    "\n",
    "import math\n",
    "def angle(x1, y1, x2, y2, x3, y3):\n",
    "    ab = dist(x1,y1,x2,y2)\n",
    "    bc = dist(x2,y2,x3,y3)\n",
    "    ca = dist(x3,y3,x1,y1)\n",
    "    return math.acos(((ab**2)+(bc**2)-(ca**2))/(2*ab*bc))"
   ]
  }
 ],
 "metadata": {
  "language_info": {
   "name": "python"
  }
 },
 "nbformat": 4,
 "nbformat_minor": 2
}
