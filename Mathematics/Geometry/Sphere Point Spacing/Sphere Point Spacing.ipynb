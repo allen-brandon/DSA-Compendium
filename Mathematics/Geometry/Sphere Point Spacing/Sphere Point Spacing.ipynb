{
 "cells": [
  {
   "cell_type": "markdown",
   "metadata": {},
   "source": [
    "This file is dedicated to the question: What is the optimal placement for N evenly spaced points on a sphere?\n",
    "\n",
    "For some N this is trivial;\n",
    "\n",
    "Two points can be placed on opposite sides of a sphere.\n",
    "\n",
    "Three points can be placed on a sphere to form an equilateral triangle.\n",
    "\n",
    "Four points can be placed on a sphere to form a regular tetrahedron.\n",
    "\n",
    "However, for many cases this method of mapping N to its corresponding regular polyhedron doesn't work, simply because not every number maps to a regular polyhedron. The 5 regular polygons that "
   ]
  },
  {
   "cell_type": "code",
   "execution_count": null,
   "metadata": {},
   "outputs": [],
   "source": []
  },
  {
   "cell_type": "markdown",
   "metadata": {},
   "source": [
    "Sources:\n",
    "\n",
    "https://youtu.be/c-6DV4ZyCdo?si=bIm72oJkd8sxSvwC\n",
    "\n",
    "https://en.wikipedia.org/wiki/Regular_polyhedron\n",
    "\n",
    "https://stackoverflow.com/questions/9600801/evenly-distributing-n-points-on-a-sphere\n",
    "\n"
   ]
  }
 ],
 "metadata": {
  "language_info": {
   "name": "python"
  }
 },
 "nbformat": 4,
 "nbformat_minor": 2
}
