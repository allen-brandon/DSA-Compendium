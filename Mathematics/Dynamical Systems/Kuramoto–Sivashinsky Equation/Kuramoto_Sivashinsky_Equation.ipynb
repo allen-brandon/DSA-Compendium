{
 "cells": [
  {
   "cell_type": "markdown",
   "metadata": {},
   "source": [
    "This document outlines the Kuramoto–Sivashinsky Equation (KS equation for short), a fourth-order partial differential equation. It is of interest because it is chaotic, and it models certain aspects of fluid dynamics. [This Article](https://royalsocietypublishing.org/doi/10.1098/rspa.2019.0351) uses this equation in a deep reinforcement learning model, in order to control chaotic systems.\n",
    "\n",
    "This has implications in the field of fluid dynamics, and could aid in drag reduction. This equation also models the chaotic nature of [Trapped Ions](https://journals.aps.org/prl/abstract/10.1103/PhysRevLett.34.391), in which stability is required for quantum computing. It is also just a great place to start when one is considering controlled chaos."
   ]
  },
  {
   "cell_type": "code",
   "execution_count": null,
   "metadata": {},
   "outputs": [],
   "source": []
  }
 ],
 "metadata": {
  "language_info": {
   "name": "python"
  }
 },
 "nbformat": 4,
 "nbformat_minor": 2
}
