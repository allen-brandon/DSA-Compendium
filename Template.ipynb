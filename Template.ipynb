{
 "cells": [
  {
   "attachments": {},
   "cell_type": "markdown",
   "metadata": {},
   "source": [
    "# What is this Document?\n",
    "This is a document that's used as a template for all other documents in this repo. This is used to inform the style, syntax and structure for describing and exemplifying algorithms and data-structures."
   ]
  },
  {
   "cell_type": "markdown",
   "metadata": {},
   "source": [
    "# Overview\n",
    "\n",
    "Please cite this if you referenced this article, and share with your friends if you found this helpful!\n",
    "\n",
    "Written by Brandon"
   ]
  },
  {
   "cell_type": "markdown",
   "metadata": {},
   "source": [
    "##### This file outlines ____  in its entirety. [Very brief description of what the technique is]. There are 3 sections in this file:\n",
    "\n",
    "##### 1. An exact quickhand template of the exact code\n",
    "\n",
    "        > If you are looking for a quick template to copy-paste or analyze, go to the Template.\n",
    "\n",
    "\n",
    "##### 2. Notes on the nuances of when and how the technique is used.\n",
    "\n",
    "        > If you are looking to better an existing understanding of ____________, go to the Notes section.\n",
    "\n",
    "\n",
    "##### 3. A Guide to how to write the algorithm of data structure, with examples.\n",
    "\n",
    "        > If you are looking to learn about this topic from a place of little understanding, go to the Guide at the end.\n",
    "\n",
    "Written by Brandon"
   ]
  },
  {
   "cell_type": "markdown",
   "metadata": {},
   "source": [
    "# Template"
   ]
  },
  {
   "cell_type": "markdown",
   "metadata": {},
   "source": [
    "Quick access to code\n",
    "\n",
    "* Notes about copy pasting and what to change\n",
    "* Time and Space Complexity"
   ]
  },
  {
   "cell_type": "code",
   "execution_count": null,
   "metadata": {},
   "outputs": [],
   "source": [
    "# Example Code"
   ]
  },
  {
   "cell_type": "markdown",
   "metadata": {},
   "source": [
    "## Notes\n",
    "\n",
    "Overview of how the given technique is used, and overarching notes about its significance."
   ]
  },
  {
   "cell_type": "markdown",
   "metadata": {},
   "source": [
    "Detailed description of nuances\n",
    "\n",
    "...\n",
    "\n",
    "Faq if necessary:\n",
    "* Often asked questions\n",
    "* ..."
   ]
  },
  {
   "cell_type": "markdown",
   "metadata": {},
   "source": [
    "## Guide\n",
    "\n",
    "Below is a detailed explanation of exactly what ____ is, as well as its related terms. This is meant to acquaint you with ___, if you're not familiar with them, and walk through the reasoning behind each piece of the code."
   ]
  },
  {
   "cell_type": "markdown",
   "metadata": {},
   "source": [
    "Overall description of the code\n",
    "\n",
    "Piece by piece walkthrough for each section of the code\n",
    "\n",
    "..."
   ]
  }
 ],
 "metadata": {
  "language_info": {
   "name": "python"
  },
  "orig_nbformat": 4
 },
 "nbformat": 4,
 "nbformat_minor": 2
}
