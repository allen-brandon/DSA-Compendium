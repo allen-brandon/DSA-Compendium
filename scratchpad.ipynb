{
 "cells": [
  {
   "cell_type": "code",
   "execution_count": 1,
   "metadata": {},
   "outputs": [],
   "source": [
    "current, peak = 1277185923, 2136213319"
   ]
  },
  {
   "cell_type": "code",
   "execution_count": 2,
   "metadata": {},
   "outputs": [
    {
     "name": "stdout",
     "output_type": "stream",
     "text": [
      "This equates to...\n",
      "Current:  1.1894720820710063 GB\n",
      "Peak:  1.9895036881789565 GB\n"
     ]
    }
   ],
   "source": [
    "print('Training memory:')\n",
    "#Translate to GB\n",
    "print('Current: ', current/1024**3, 'GB')\n",
    "print('Peak: ', peak/1024**3, 'GB')"
   ]
  },
  {
   "cell_type": "code",
   "execution_count": 4,
   "metadata": {},
   "outputs": [
    {
     "name": "stdout",
     "output_type": "stream",
     "text": [
      "Query Memory:\n",
      "Current:  1.1895548114553094 GB\n",
      "Peak:  1.6337603833526373 GB\n",
      "After several batches:\n",
      "Current:  1.1895296778529882 GB\n",
      "Peak:  1.6337603833526373 GB\n"
     ]
    }
   ],
   "source": [
    "print(\"Query Memory:\")\n",
    "current, peak = 1277274753, 1754236854\n",
    "#Translate to GB\n",
    "print('Current: ', current/1024**3, 'GB')\n",
    "print('Peak: ', peak/1024**3, 'GB')\n",
    "current, peak = 1277247766, 1754236854\n",
    "print(\"After several batches:\")\n",
    "print('Current: ', current/1024**3, 'GB')\n",
    "print('Peak: ', peak/1024**3, 'GB')"
   ]
  }
 ],
 "metadata": {
  "kernelspec": {
   "display_name": "Python 3",
   "language": "python",
   "name": "python3"
  },
  "language_info": {
   "codemirror_mode": {
    "name": "ipython",
    "version": 3
   },
   "file_extension": ".py",
   "mimetype": "text/x-python",
   "name": "python",
   "nbconvert_exporter": "python",
   "pygments_lexer": "ipython3",
   "version": "3.11.5"
  },
  "orig_nbformat": 4
 },
 "nbformat": 4,
 "nbformat_minor": 2
}
