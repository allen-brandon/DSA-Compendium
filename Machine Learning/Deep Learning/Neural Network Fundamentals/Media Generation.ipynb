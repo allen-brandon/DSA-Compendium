{
 "cells": [
  {
   "cell_type": "markdown",
   "metadata": {},
   "source": [
    "This is an auxiliary file. It generates the visuals that are referenced in other files in this folder."
   ]
  },
  {
   "cell_type": "code",
   "execution_count": 187,
   "metadata": {},
   "outputs": [],
   "source": [
    "from manim import *\n",
    "import numpy as np\n",
    "\n",
    "# Global variable to specify the number of inputs\n",
    "NUM_INPUTS = 5  # You can change this to specify the number of inputs\n",
    "\n",
    "class PerceptronScene(Scene):\n",
    "    \n",
    "    def label(self, label_separators):\n",
    "        # Labels for each section with \"Weighted Sum\" changed to \"Sum\"\n",
    "        sections = [\"Inputs\", \"Weights\", \"Sum\", \"Bias\", \"Output\"]\n",
    "        \n",
    "        # Ensure there's one more separator than the sections for the rightmost boundary\n",
    "        if len(label_separators) != len(sections) + 1:\n",
    "            raise ValueError(\"label_separators must have exactly one more element than sections.\")\n",
    "        \n",
    "        # Calculate the middle points for label placement\n",
    "        label_positions = [(label_separators[i] + label_separators[i + 1]) / 2 for i in range(len(sections))]\n",
    "        \n",
    "        # Create the vertical lines and labels but don't play the animations yet\n",
    "        line_animations = []\n",
    "        label_animations = []\n",
    "        for i, x in enumerate(label_separators[1:-1]):  # Skip the first and last as they are edges, not separators\n",
    "            line = DashedLine(start=3*UP, end=3*DOWN).move_to([x, 0, 0])\n",
    "            line_animations.append(Create(line))\n",
    "            # Labels are placed just below the top of the scene, adjusted y-coordinate slightly lower\n",
    "            label = Text(sections[i], font_size=24).move_to([label_positions[i], 2.9, 0])\n",
    "            label_animations.append(Write(label))\n",
    "        \n",
    "        # Play the animations for lines and labels all at once\n",
    "        self.play(*line_animations, *label_animations)\n",
    "\n",
    "\n",
    "\n",
    "    \n",
    "    def draw_perceptron(self):\n",
    "        # Where lines will be drawn, now just using X-axis values\n",
    "        label_separators = []\n",
    "\n",
    "        # Dynamic position setup based on the number of inputs\n",
    "        input_positions = [3 * LEFT + i * UP for i in np.linspace(-(NUM_INPUTS - 1) / 2, (NUM_INPUTS - 1) / 2, NUM_INPUTS)]\n",
    "        \n",
    "        # Separator to the left of the inputs, storing only the X value\n",
    "        label_separators.append(input_positions[0][0] - 1)\n",
    "\n",
    "        perceptron_center = RIGHT  # Perceptron center position\n",
    "\n",
    "        # Dynamic input labels creation based on the number of inputs, with 0-indexing\n",
    "        input_labels = [MathTex(f\"x_{i}\", font_size=36).move_to(pos) for i, pos in enumerate(input_positions[::-1])]\n",
    "\n",
    "        # Display the input labels simultaneously\n",
    "        self.play(*[Write(label) for label in input_labels])\n",
    "\n",
    "        # Calculate the distance for uniform arrow size\n",
    "        arrow_length = np.linalg.norm(3 * RIGHT - perceptron_center) - 0.5  # Distance to edge of circle\n",
    "\n",
    "        weights = []\n",
    "        # Arrows from inputs to the perceptron, adjusted for the dynamic number of inputs\n",
    "        for i, label in enumerate(input_labels):\n",
    "            direction = perceptron_center - label.get_center()\n",
    "            direction = direction / np.linalg.norm(direction)  # Normalize direction\n",
    "            arrow_end = perceptron_center - direction * arrow_length * 0.5  # Stop at the circle's edge\n",
    "            arrow_start = label.get_center() + direction * arrow_length * 0.25\n",
    "            arrow = Arrow(start=arrow_start, end=arrow_end, stroke_width=3, buff=0, tip_length=0.2)\n",
    "            weights.append(arrow)\n",
    "\n",
    "        # Draw all weights simultaneously\n",
    "        self.play(*[Create(arrow) for arrow in weights])\n",
    "\n",
    "        # Separator between inputs and weights, using X values\n",
    "        # Calculate the X position of the right edge of the subscript of the last input label\n",
    "        right_edge_of_subscript = input_labels[-1].get_right()[0]\n",
    "        weights_start_x = arrow_start[0]\n",
    "        label_separators.append((right_edge_of_subscript + weights_start_x) / 2)\n",
    "\n",
    "        # Perceptron circle creation\n",
    "        perceptron_circle = Circle(radius=0.5).move_to(perceptron_center)\n",
    "        self.play(Create(perceptron_circle))\n",
    "\n",
    "        # Separator between weights and perceptron (weighted sum), using X values\n",
    "        closest_arrow_tip = arrow_end[0]\n",
    "        edge_of_perceptron = perceptron_center[0] - perceptron_circle.radius\n",
    "        label_separators.append((closest_arrow_tip + edge_of_perceptron) / 2)\n",
    "        \n",
    "        # Sum symbol inside the perceptron\n",
    "        sum_symbol = MathTex(r\"\\sum\", font_size=18).move_to(perceptron_circle.get_center())\n",
    "        self.play(Write(sum_symbol))\n",
    "\n",
    "        # Arrow from the perceptron to the output\n",
    "        output_arrow = Arrow(start=perceptron_circle.get_right() + RIGHT * arrow_length * 0.25, end=perceptron_circle.get_right() + RIGHT * arrow_length, stroke_width=3, buff=0, tip_length=0.2)\n",
    "        self.play(Create(output_arrow))\n",
    "\n",
    "        # Separator between perceptron and output, using X values\n",
    "        edge_of_perceptron = perceptron_center[0] + perceptron_circle.radius\n",
    "        output_start_x = output_arrow.get_start()[0]\n",
    "        label_separators.append((edge_of_perceptron + output_start_x) / 2)\n",
    "\n",
    "        # Output label\n",
    "        output_label = MathTex(\"z\", font_size=36).next_to(output_arrow.get_end(), RIGHT * arrow_length * 0.5)\n",
    "        self.play(Write(output_label))\n",
    "\n",
    "        # Separator between output arrow and output label, using X values\n",
    "        tip_of_output_arrow = output_arrow.get_end()[0]\n",
    "        beginning_of_output_label = output_label.get_left()[0]\n",
    "        label_separators.append((tip_of_output_arrow + beginning_of_output_label) / 2)\n",
    "\n",
    "        # Final separator, to the right of the output label\n",
    "        final_separator = output_label.get_right()[0] + 1\n",
    "        label_separators.append(final_separator)\n",
    "\n",
    "        # Add labels and separators based on calculated positions\n",
    "        self.label(label_separators)\n",
    "\n",
    "\n",
    "    \n",
    "    def construct(self):\n",
    "        self.draw_perceptron()\n",
    "        \n",
    "        # Hold the final image\n",
    "        self.wait(5)"
   ]
  },
  {
   "cell_type": "code",
   "execution_count": 188,
   "metadata": {},
   "outputs": [
    {
     "name": "stderr",
     "output_type": "stream",
     "text": [
      "                                                                                     \r"
     ]
    },
    {
     "data": {
      "text/html": [
       "<video src=\"media/jupyter/PerceptronScene@2024-03-03@13-10-27.mp4\" controls autoplay loop style=\"max-width: 60%;\"  >\n",
       "      Your browser does not support the <code>video</code> element.\n",
       "    </video>"
      ],
      "text/plain": [
       "<IPython.core.display.Video object>"
      ]
     },
     "metadata": {},
     "output_type": "display_data"
    }
   ],
   "source": [
    "# Play the visual\n",
    "%manim -ql -v WARNING PerceptronScene"
   ]
  },
  {
   "cell_type": "code",
   "execution_count": null,
   "metadata": {},
   "outputs": [],
   "source": []
  }
 ],
 "metadata": {
  "kernelspec": {
   "display_name": "Python 3",
   "language": "python",
   "name": "python3"
  },
  "language_info": {
   "codemirror_mode": {
    "name": "ipython",
    "version": 3
   },
   "file_extension": ".py",
   "mimetype": "text/x-python",
   "name": "python",
   "nbconvert_exporter": "python",
   "pygments_lexer": "ipython3",
   "version": "3.11.5"
  }
 },
 "nbformat": 4,
 "nbformat_minor": 2
}
