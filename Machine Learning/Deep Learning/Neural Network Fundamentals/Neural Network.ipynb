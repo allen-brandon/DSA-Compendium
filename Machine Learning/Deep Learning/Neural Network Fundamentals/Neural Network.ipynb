{
 "cells": [
  {
   "cell_type": "markdown",
   "metadata": {},
   "source": [
    "This article builds a feed forward neural network up from scratch. It "
   ]
  },
  {
   "cell_type": "code",
   "execution_count": null,
   "metadata": {},
   "outputs": [],
   "source": []
  },
  {
   "cell_type": "markdown",
   "metadata": {},
   "source": [
    "Sources:\n",
    "\n",
    "https://explained.ai/matrix-calculus/\n",
    "(Explains all matrix-calculus in-depth)\n",
    "\n",
    "https://www.youtube.com/watch?v=Ixl3nykKG9M&t=2873s\n",
    "(Giant youtube video that explains everything with examples on a whiteboard)\n",
    "\n",
    "https://www.3blue1brown.com/topics/neural-networks\n",
    "(Series that explains the theory behind basic neural networks)"
   ]
  }
 ],
 "metadata": {
  "language_info": {
   "name": "python"
  }
 },
 "nbformat": 4,
 "nbformat_minor": 2
}
