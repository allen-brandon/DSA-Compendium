{
 "cells": [
  {
   "attachments": {},
   "cell_type": "markdown",
   "metadata": {},
   "source": [
    "## Segment Tree\n",
    "\n",
    "Please cite this if you referenced this article, and share with your friends if you found this helpful!\n",
    "\n",
    "Written by Brandon"
   ]
  },
  {
   "attachments": {},
   "cell_type": "markdown",
   "metadata": {},
   "source": [
    "\n",
    "##### Segment Trees  allow for O(logn) range queries and updates on an ordered collection of elements. Segment trees are one of the most essential data structures for competitive programming.\n",
    "\n",
    "##### 1. An exact quickhand template\n",
    "\n",
    "        > If you are looking for quick code to copy-paste or analyze, go to the Template.\n",
    "\n",
    "\n",
    "##### 2. Notes on the nuances of this topic\n",
    "\n",
    "        > If you are looking to better an existing understanding, go to the Notes.\n",
    "\n",
    "\n",
    "##### 3. A Guide to this topic, with examples.\n",
    "\n",
    "        > If you are looking to learn about this topic from a place of little understanding, go to the Guide."
   ]
  },
  {
   "attachments": {},
   "cell_type": "markdown",
   "metadata": {},
   "source": [
    "## Template"
   ]
  },
  {
   "attachments": {},
   "cell_type": "markdown",
   "metadata": {},
   "source": [
    "Quick access to code.\n",
    "\n",
    "* Call the constructor on a sequence to build the segment tree\n",
    "\n",
    "* Call tree[i] or tree[l:r] to query an index or range respectively\n",
    "\n",
    "* Call tree[i] += x or tree[l:r] += x to add to an index or range respectively"
   ]
  },
  {
   "cell_type": "code",
   "execution_count": 5,
   "metadata": {},
   "outputs": [],
   "source": [
    "\n",
    "#All operations are O(logn), other than constructor, which is O(n)\n",
    "class SegmentTree:\n",
    "    def __init__(self, arr):\n",
    "        self.arr = arr\n",
    "        self.n = len(arr)\n",
    "        self.tree = [0] * (2 * self.n)\n",
    "        self.lazy = [0] * (2 * self.n)\n",
    "        for i in range(self.n):\n",
    "            self.tree[self.n + i] = self.arr[i]\n",
    "        for i in range(self.n - 1, 0, -1):\n",
    "            self.tree[i] = self.tree[2 * i] + self.tree[2 * i + 1]\n",
    "    \n",
    "    #Point update\n",
    "    def pointUpdate(self, i, val):\n",
    "        i += self.n\n",
    "        self.tree[i] = val\n",
    "        while i > 1:\n",
    "            i>>=1\n",
    "            self.tree[i] = self.tree[2 * i] + self.tree[2 * i + 1]\n",
    "    \n",
    "    def update(self, l, r, val):\n",
    "        l += self.n\n",
    "        r += self.n\n",
    "        l0, r0 = l, r\n",
    "        while l <= r:\n",
    "            if l & 1:\n",
    "                self.tree[l] += val\n",
    "                l += 1\n",
    "            if r & 1 == 0:\n",
    "                self.tree[r] += val\n",
    "                r -= 1\n",
    "            l >>= 1\n",
    "            r >>= 1\n",
    "        while l0 > 1:\n",
    "            l0 >>= 1\n",
    "            self.tree[l0] = self.tree[l0 << 1] + self.tree[l0 << 1 | 1]\n",
    "        while r0 > 1:\n",
    "            r0 >>= 1\n",
    "            self.tree[r0] = self.tree[r0 << 1] + self.tree[r0 << 1 | 1]\n",
    "    \n",
    "    #Lazy propogation\n",
    "    def propogate(self, i):\n",
    "        for j in range(1, self.h):\n",
    "            k = i >> j\n",
    "            if self.lazy[k]:\n",
    "                self.tree[k << 1] += self.lazy[k]\n",
    "                self.tree[k << 1 | 1] += self.lazy[k]\n",
    "                self.lazy[k << 1] += self.lazy[k]\n",
    "                self.lazy[k << 1 | 1] += self.lazy[k]\n",
    "                self.lazy[k] = 0\n",
    "\n",
    "    def rangeUpdate(self, l, r, val):\n",
    "        l += self.n\n",
    "        r += self.n\n",
    "        l0 = l\n",
    "        r0 = r\n",
    "        while l < r:\n",
    "            if l & 1:\n",
    "                self.tree[l] += val\n",
    "                self.lazy[l] += val\n",
    "                l += 1\n",
    "            if r & 1:\n",
    "                r -= 1\n",
    "                self.tree[r] += val\n",
    "                self.lazy[r] += val\n",
    "            l >>= 1\n",
    "            r >>= 1\n",
    "        self.propogate(l0)\n",
    "        self.propogate(r0 - 1)\n",
    "    \n",
    "    #Range query\n",
    "    def query(self, l, r):\n",
    "        l += self.n\n",
    "        r += self.n\n",
    "        ans = 0\n",
    "        while l < r:\n",
    "            if l & 1:\n",
    "                ans += self.tree[l]\n",
    "                l += 1\n",
    "            if r & 1:\n",
    "                r -= 1\n",
    "                ans += self.tree[r]\n",
    "            l >>= 1\n",
    "            r >>= 1\n",
    "        return ans\n",
    "    \n",
    "\n",
    "    #Make this just print the underlying structure; not the whole tree because that's hard to read\n",
    "    #<<<<<<<<<<<<<<<<<<<<<<<<<<<<<<<<<<<,\n",
    "    def __str__(self):\n",
    "        return str(self.tree)\n",
    "    \n",
    "    def __repr__(self):\n",
    "        return str(self.tree)\n",
    "    \n",
    "    def __setitem__(self, i, val):\n",
    "        if type(i) == type(1):\n",
    "            i += self.n\n",
    "        self.update(i, val)\n",
    "    \n",
    "    #Remember to add support for negative indices\n",
    "    def __getitem__(self, i):\n",
    "        match type(i):\n",
    "            case slice:\n",
    "                if i.start == None:\n",
    "                    i.start = 0\n",
    "                if i.stop == None:\n",
    "                    i.stop = self.n\n",
    "                return self.query(i.start, i.stop)\n",
    "            \n",
    "            \n",
    "            "
   ]
  },
  {
   "cell_type": "code",
   "execution_count": null,
   "metadata": {},
   "outputs": [],
   "source": [
    "#Example:\n",
    "tree = SegmentTree([1, 2, 3, 4, 5, 6, 7, 8, 9, 10])\n",
    "\n",
    "print(tree[0])\n",
    "print(tree[5])\n",
    "\n",
    "#Can query ranges with slices\n",
    "print(tree[0:5])\n",
    "print(tree[:5])\n",
    "print(tree[5:10])\n",
    "print(tree[5:])\n",
    "print(tree[0:10])\n",
    "print(tree[:])\n",
    "\n",
    "#Can add to ranges with slices as well\n",
    "tree[0:5] += 10\n",
    "tree[0:5] -= 5\n",
    "\n",
    "#Can only set values explicitly if it's one point\n",
    "tree[0] = 10\n",
    "#tree[0:5] = 10 doesn't mean anything if there isn't an external context\n",
    "\n",
    "#Step is ignored\n",
    "print(tree[0:10])\n",
    "print(tree[0:10:2])\n",
    "\n",
    "#Can set and get negative indices"
   ]
  },
  {
   "attachments": {},
   "cell_type": "markdown",
   "metadata": {},
   "source": [
    "## Notes\n",
    "\n",
    "Segment trees are one of the most important data structures. Their place as a comprimise in time complexity between a regular array and prefix array (talked about in the introduction) may seem niche. But between these three options, it's all but the default choice of the three.\n",
    "\n",
    "This is largely because O(logn) time complexity can almost always be considered synonymous with constant time. For example, take a collection of 2^32 elements (around 10 billion elements). O(n) access takes 2^32 times longer than O(1), whereas O(1) access only takes 32 times longer. Most of the time this might as well be considered constant. In the frequent situation where both range queries and element updates are needed, the choice between an array of original elements, and a prefix array is untenable. Unless there are constant updates or constant queries (not only that, but less than 32), a segment tree is faster than an array or prefix sum. The overhead in terms of sheer code complexity, particularly when it comes to specialized queries, is the only salient drawback. This is similar to the simplicity of heaps, as opposed to the more versatile multisets.\n",
    "\n",
    "On the topic of multisets, I have long held the belief that the majority of problems that demand the use of a segment tree can be solved using a multiset. That is to say, most solutions that incorporate O(logn) range queries and updates to a structure can be rewritten to utilize O(logn) insertion/deletion in an ordered structure. While of course there many problems that require the use of a segment tree, it's often worth spending a few seconds pondering the replacement of a segment tree with a simpler, built-in data-structure.\n",
    "\n",
    "Segment trees, as with other tree structures, can be written using pointers, or using an array. Here, an array structure is implemented, primarily because the size of the segment tree is often fixed, which allows for a standardized, heap-like array representation of a tree structure."
   ]
  },
  {
   "attachments": {},
   "cell_type": "markdown",
   "metadata": {},
   "source": [
    "## FAQ:\n",
    "\n",
    "As segment trees are intermediate data structures, they require a baseline of knowledge that extends beyond the scope of this article. Here is a list of useful questions to ask and answer before continuing.\n",
    "\n",
    "\n",
    "* How do you implement a tree structure as an array?\n",
    "    There are multiple ways to do this. This segment tree implementation uses a heap-like structure. To see another, more versatile example of a tree structure represented in an array, look at the article on disjoint sets introduction. For a heap-like structure, we choose index 0 to represent the root, indices 1 and 2 to be its left and right children respectively, indices 3, 4, 5, and 6 to be its grandchildren, 7, 8, 9, 10, 11, 12, 13, and 14 to be the next row, and so-on. This allows us to store a value and any index, and follow the formula that for any node at index i, its children are at (i * 2)+1, and (i * 2)+2. If one of these \"child\" indices j extends beyond the length of the array (j >= n), then that child doesn't exist. This is the equivalent to a tree node containing a null pointer. For example, take the following array: [0,1,2,3,4,5,6]. If we wanted to represent this as a height balanced binary search tree in this format, we could re-order this array as follows: [3,1,5,0,2,4,6]. Now, the root is 3, with all values to the \"left\" (i.e. all nodes stemming from index 1) are strictly less, and all values to the right are strictly more. This simple rearrangement, put succinctly, allows us to execute divide and conquer algorithms on our data that would otherwise be unattainable. Note that the above re-representation of array data is *not* the formulation of a segment tree. It is simply an example of the array representation of a binary tree that heaps and segment trees use.\n",
    "    \n",
    "\n",
    "* Why is this tree representation used?\n",
    "    This format uses an array to represent a height balanced, fixed-size tree. This makes it a good fit for situations where we're electing to utilize a tree structure to represent an existing collection of flattened data, which allows us to choose its structure. This is as opposed to arbitrary tree structures, which map poorly to this tree syntax. For example, a tree with one node per level would take an array of length 2^(# of nodes) to represent. But the array above only took O(n) space to re-arrange the data, because we can choose the most useful and efficient way to re-arrange the elements into a tree.\n",
    "\n",
    "* How is a segment tree implemented, using this structure?\n",
    "    Segment trees are arranged such that each node represents a range. The root node, at tree[0], represents the range of the entire tree. Each of its children, at tree[1] and tree[2], represent ranges for each half of the tree, and their combined ranges evaluate to the range represented by the root. This pattern continues down to the leaf nodes, which each represent one element in the tree. For example, take the following array: [0,1,0,1,0,1,0,1]. A segment tree intended for range sum queries would start with a root that represents the cumulative sum of the array (4), and each of its children would be ranges of the first and second halves of the array. This would be the underlying array of the segment tree: [4,2,2,1,1,1,1,0,1,0,1,0,1,0,1]. There are (2n)-1 nodes in the tree.\n",
    "\n",
    "* What happens if the size of the initial array isn't a power of two?\n",
    "    The tree is missing its rightmost nodes, and the parents of those nodes are themselves leaf nodes. For example, take the following array: [0,1,0,1,0,1]. The array for a segment tree made for sum queries of these elements would look like this: [3,1,2,1,0,1,1,]\n",
    "\n",
    "# Time Complexities:\n",
    "\n",
    "* Creation\n",
    "    O(n) time and space. For an array of length n, the segment tree has n leaves, n/2 parents for those leaves, n/4 nodes at the next level, etc. All the way up to a single root node, at tree[0]. This sum Σ(n, n/2, n/4 ... 1) is evaluates to an array of length 2n needeed for all ranges of the segment tree.\n",
    "\n",
    "* Update\n",
    "    O(logn) time, O(1) space. This applies to both range updates and updates to single elements. This is predicated on lazy propogation, described below.\n",
    "\n",
    "* Query\n",
    "    O(logn) time, O(1) space. This applies to both range queries and single element access."
   ]
  },
  {
   "attachments": {},
   "cell_type": "markdown",
   "metadata": {},
   "source": [
    "## Guide\n",
    "\n",
    "Below is a detailed walkthrough of how to build a segment tree. Unlike other articles, this section for segment trees specifically emphasizes the anatomy of a segment tree, more than it serves as an introduction to segment trees. This is because segment trees are often modified, which necessitates a quick recall for how each individual part operates, and how it can be modified."
   ]
  },
  {
   "attachments": {},
   "cell_type": "markdown",
   "metadata": {},
   "source": [
    "Let's start with a basic tree structure to represent each interval in an array"
   ]
  },
  {
   "cell_type": "code",
   "execution_count": 1,
   "metadata": {},
   "outputs": [],
   "source": [
    "class SegmentTree:\n",
    "    #Constructed using a base array\n",
    "    def __init__(self, arr):\n",
    "        self.tree = arr\n",
    "\n",
    "    def __str__(self):\n",
    "        return str(self.tree)"
   ]
  },
  {
   "cell_type": "code",
   "execution_count": 2,
   "metadata": {},
   "outputs": [
    {
     "name": "stdout",
     "output_type": "stream",
     "text": [
      "Arr: [1, 8, 5, 7, 2, 7, 2, 6, 1, 10, 2]\n",
      "SegmentTree: [1, 8, 5, 7, 2, 7, 2, 6, 1, 10, 2]\n"
     ]
    }
   ],
   "source": [
    "#Example:\n",
    "arr = [1, 8, 5, 7, 2, 7, 2, 6, 1, 10, 2]\n",
    "\n",
    "print(f'Arr: {arr}')\n",
    "\n",
    "tree = SegmentTree(arr)\n",
    "\n",
    "print(f'SegmentTree: {tree}')\n"
   ]
  },
  {
   "cell_type": "markdown",
   "metadata": {},
   "source": [
    "Resources:\n",
    "https://cp-algorithms.com/data_structures/segment_tree.html\n"
   ]
  }
 ],
 "metadata": {
  "kernelspec": {
   "display_name": "Python 3",
   "language": "python",
   "name": "python3"
  },
  "language_info": {
   "codemirror_mode": {
    "name": "ipython",
    "version": 3
   },
   "file_extension": ".py",
   "mimetype": "text/x-python",
   "name": "python",
   "nbconvert_exporter": "python",
   "pygments_lexer": "ipython3",
   "version": "3.11.5"
  },
  "orig_nbformat": 4
 },
 "nbformat": 4,
 "nbformat_minor": 2
}
