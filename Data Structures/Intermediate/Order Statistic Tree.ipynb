{
 "cells": [
  {
   "cell_type": "code",
   "execution_count": null,
   "metadata": {},
   "outputs": [],
   "source": []
  },
  {
   "cell_type": "markdown",
   "metadata": {},
   "source": [
    "https://www.cs.yale.edu/homes/aspnes/pinewiki/OrderStatisticsTree.html\n",
    "https://www.geeksforgeeks.org/order-statistic-tree-using-fenwick-tree-bit/\n",
    "https://en.wikipedia.org/wiki/Order_statistic_tree\n"
   ]
  }
 ],
 "metadata": {
  "language_info": {
   "name": "python"
  },
  "orig_nbformat": 4
 },
 "nbformat": 4,
 "nbformat_minor": 2
}
