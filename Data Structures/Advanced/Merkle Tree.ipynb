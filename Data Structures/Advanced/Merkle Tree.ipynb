{
 "cells": [
  {
   "cell_type": "code",
   "execution_count": null,
   "metadata": {},
   "outputs": [],
   "source": [
    "Example:\n",
    "https://leetcode.com/problems/find-duplicate-subtrees/solutions/106030/Python-O(N)-Merkle-Hashing-Approach/\n",
    "https://leetcode.com/problems/subtree-of-another-tree/solutions/102741/python-straightforward-with-explanation-ost-and-ost-approaches/\n",
    "https://leetcode.com/problems/find-duplicate-subtrees/discuss/106011/Python-Serialize-Subtrees"
   ]
  }
 ],
 "metadata": {
  "language_info": {
   "name": "python"
  },
  "orig_nbformat": 4
 },
 "nbformat": 4,
 "nbformat_minor": 2
}
